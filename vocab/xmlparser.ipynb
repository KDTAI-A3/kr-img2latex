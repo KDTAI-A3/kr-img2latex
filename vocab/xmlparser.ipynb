{
 "cells": [
  {
   "cell_type": "code",
   "execution_count": 2,
   "metadata": {},
   "outputs": [],
   "source": [
    "import xml.etree.ElementTree as elemTree\n",
    "\n",
    "tree = elemTree.parse('./tex_list.xml')\n",
    "keywords = tree.find('AutoComplete').findall('KeyWord')\n",
    "math_tokens = ['\\\\' + x.get('name') for x in keywords]"
   ]
  },
  {
   "cell_type": "code",
   "execution_count": 6,
   "metadata": {},
   "outputs": [],
   "source": [
    "with open('./tex_list.tex', 'w', encoding='utf-8') as f:\n",
    "    f.writelines([token + '\\n' for token in math_tokens])"
   ]
  },
  {
   "cell_type": "code",
   "execution_count": 17,
   "metadata": {},
   "outputs": [],
   "source": [
    "with open('./tex_list.tex', 'r', encoding='utf-8') as f:\n",
    "    new_math_tokens = [token[:-1] for token in f.readlines()]"
   ]
  }
 ],
 "metadata": {
  "kernelspec": {
   "display_name": "ServiceRPA",
   "language": "python",
   "name": "python3"
  },
  "language_info": {
   "codemirror_mode": {
    "name": "ipython",
    "version": 3
   },
   "file_extension": ".py",
   "mimetype": "text/x-python",
   "name": "python",
   "nbconvert_exporter": "python",
   "pygments_lexer": "ipython3",
   "version": "3.9.7"
  },
  "orig_nbformat": 4
 },
 "nbformat": 4,
 "nbformat_minor": 2
}
