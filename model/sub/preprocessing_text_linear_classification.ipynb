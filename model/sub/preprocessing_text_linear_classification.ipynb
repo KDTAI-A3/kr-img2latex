{
  "nbformat": 4,
  "nbformat_minor": 0,
  "metadata": {
    "colab": {
      "provenance": []
    },
    "kernelspec": {
      "name": "python3",
      "display_name": "Python 3"
    },
    "language_info": {
      "name": "python"
    }
  },
  "cells": [
    {
      "cell_type": "markdown",
      "source": [
        "## 사전설정"
      ],
      "metadata": {
        "id": "T53eBOgiKQER"
      }
    },
    {
      "cell_type": "code",
      "execution_count": null,
      "metadata": {
        "id": "rqupZqAvvwyU"
      },
      "outputs": [],
      "source": [
        "from google.colab import drive\n",
        "drive.mount('/content/drive')"
      ]
    },
    {
      "cell_type": "code",
      "source": [
        "!pip install imbalanced-learn"
      ],
      "metadata": {
        "id": "0bTeqo2AJWY_"
      },
      "execution_count": null,
      "outputs": []
    },
    {
      "cell_type": "code",
      "source": [
        "!pip install -U sentencepiece datasets transformers pyarrow -q"
      ],
      "metadata": {
        "id": "Y6DBPu6HMldC"
      },
      "execution_count": null,
      "outputs": []
    },
    {
      "cell_type": "code",
      "source": [
        "!pip install kiwipiepy"
      ],
      "metadata": {
        "id": "xqByvuDG1jQl"
      },
      "execution_count": null,
      "outputs": []
    },
    {
      "cell_type": "code",
      "source": [
        "from transformers import BertTokenizer, DonutProcessor\n",
        "from keras.utils import pad_sequences\n",
        "from sklearn.model_selection import train_test_split\n",
        "\n",
        "from sklearn.neighbors import KNeighborsClassifier\n",
        "from sklearn.naive_bayes import MultinomialNB\n",
        "from sklearn.naive_bayes import BernoulliNB\n",
        "from sklearn.tree import DecisionTreeClassifier\n",
        "from sklearn.ensemble import RandomForestClassifier\n",
        "from sklearn.svm import SVC\n",
        "import xgboost as xgb\n",
        "from xgboost.sklearn import XGBClassifier\n",
        "\n",
        "import numpy as np\n",
        "import pandas as pd\n",
        "import matplotlib.pyplot as plt\n",
        "\n",
        "from collections import Counter\n",
        "\n",
        "import json\n",
        "from tqdm import tqdm\n",
        "import glob, shutil, os\n",
        "from pathlib import Path\n",
        "from typing import List, Dict, Union, Tuple, Any\n",
        "\n",
        "import re\n",
        "\n",
        "from kiwipiepy import Kiwi, Match\n",
        "kiwi = Kiwi()"
      ],
      "metadata": {
        "id": "PlVHA7QpLJ0S"
      },
      "execution_count": null,
      "outputs": []
    },
    {
      "cell_type": "code",
      "source": [
        "train_annotation_paths = glob.glob('/content/drive/MyDrive/Team_caffeine_holic/01.데이터/1.Training/라벨링데이터/*.zip')\n",
        "\n",
        "# 임시적으로 생성\n",
        "\n",
        "def organize_train_dataset(value: str) -> list:\n",
        "  extract_dir = f'./{value}'\n",
        "  archive_format = 'zip'\n",
        "\n",
        "  file_paths = train_annotation_paths\n",
        "\n",
        "  for filename in file_paths:\n",
        "    shutil.unpack_archive(filename, extract_dir, archive_format)\n",
        "\n",
        "  for folder_name, _, file_names in os.walk(extract_dir):\n",
        "    if len(file_names) > 0:\n",
        "      for f in file_names:\n",
        "        current_file = os.path.join(folder_name, f)\n",
        "        shutil.move(current_file, extract_dir)\n",
        "\n",
        "  folder_name, sub_folders, _ = next(iter(os.walk(extract_dir)))\n",
        "  for sf in sub_folders:\n",
        "    shutil.rmtree(os.path.join(folder_name, sf))\n",
        "\n",
        "  return glob.glob(os.path.join(extract_dir,'*'))\n",
        "\n",
        "train_json_files = organize_train_dataset('annotations')"
      ],
      "metadata": {
        "id": "ZhGeKtBDLAHg"
      },
      "execution_count": null,
      "outputs": []
    },
    {
      "cell_type": "code",
      "source": [
        "LATEX_START = \"<latex>\"\n",
        "LATEX_END = \"</latex>\"\n",
        "\n",
        "new_tokens = [\n",
        "    LATEX_START,\n",
        "    LATEX_END\n",
        "]"
      ],
      "metadata": {
        "id": "EFbsn8CqLZgP"
      },
      "execution_count": null,
      "outputs": []
    },
    {
      "cell_type": "code",
      "source": [
        "def get_gt_string(files):\n",
        "\n",
        "  ground_truths = []\n",
        "  labels = []\n",
        "\n",
        "  for f in tqdm(files):\n",
        "    filename = os.path.basename(f)\n",
        "    filepath = Path(f)\n",
        "\n",
        "    with open(filepath, encoding='utf-8') as fp:\n",
        "      data = json.load(fp)\n",
        "\n",
        "    label = filename.split('_')[2]\n",
        "    data_series = data['segments']\n",
        "\n",
        "    all_lines = []\n",
        "\n",
        "    NON_OBJECT = False\n",
        "\n",
        "    for d_line in data_series:\n",
        "      if 'equation' not in d_line:\n",
        "        NON_OBJECT = True\n",
        "        break\n",
        "\n",
        "      if '$' not in d_line['equation']:\n",
        "        new_line = d_line['equation']\n",
        "      else:\n",
        "        equation = d_line['equation'].split('$')\n",
        "        latex_line = equation[0]\n",
        "        for i, e in enumerate(equation[1:]):\n",
        "          if i%2 == 0:\n",
        "            latex_line += LATEX_START + e\n",
        "          else:\n",
        "            latex_line += LATEX_END + e\n",
        "\n",
        "        new_line = latex_line\n",
        "\n",
        "      all_lines.append(new_line)\n",
        "\n",
        "    if not NON_OBJECT:\n",
        "      ground_truths += all_lines\n",
        "      labels += [label] * len(all_lines)\n",
        "    else:\n",
        "      pass\n",
        "\n",
        "  return ground_truths, labels\n",
        "\n",
        "ground_truths, gt_labels = get_gt_string(train_json_files)"
      ],
      "metadata": {
        "colab": {
          "base_uri": "https://localhost:8080/"
        },
        "id": "pmHfexRcLwWh",
        "outputId": "6aa07793-182a-4ea9-b889-df364c52193a"
      },
      "execution_count": null,
      "outputs": [
        {
          "output_type": "stream",
          "name": "stderr",
          "text": [
            "100%|██████████| 150450/150450 [00:09<00:00, 15331.55it/s]\n"
          ]
        }
      ]
    },
    {
      "cell_type": "code",
      "source": [
        "label_df = pd.DataFrame(gt_labels)\n",
        "label_df.value_counts().plot(kind='bar')\n",
        "\n",
        "plt.xticks(rotation=0)\n",
        "\n",
        "plt.show()"
      ],
      "metadata": {
        "colab": {
          "base_uri": "https://localhost:8080/",
          "height": 449
        },
        "id": "sznAlzrZMPL1",
        "outputId": "f9f347e0-0e76-4ad8-aeb7-922a2a3f20f2"
      },
      "execution_count": null,
      "outputs": [
        {
          "output_type": "display_data",
          "data": {
            "text/plain": [
              "<Figure size 640x480 with 1 Axes>"
            ],
            "image/png": "[encoded data removed]"
          },
          "metadata": {}
        }
      ]
    },
    {
      "cell_type": "code",
      "source": [
        "labels = [\n",
        "    'e4','e5','e6',\n",
        "    'm1','m2','m3',\n",
        "    'h1','h2','h3'\n",
        "]\n",
        "\n",
        "id2label = {}\n",
        "label2id = {}\n",
        "\n",
        "for i, item in enumerate(labels):\n",
        "  id2label[i] = item\n",
        "  label2id[item] = i"
      ],
      "metadata": {
        "id": "2NONiPjuMQhj"
      },
      "execution_count": null,
      "outputs": []
    },
    {
      "cell_type": "markdown",
      "source": [
        "# 토크나이저들\n",
        "- 도넛 프로세서 토크나이저 : 라텍스 부분에서 사용\n",
        "- 키위파이 토크나이저 : 텍스트 부분에서 사용\n",
        "\n",
        "\n",
        "> 수학에서 사용되는 사용자 사전 (add_words) 정의,분석에 필요없는 불용어 사전 (stop_words) 정의\n",
        "\n",
        "\n",
        "\n",
        "\n"
      ],
      "metadata": {
        "id": "xnesdidW3aWQ"
      }
    },
    {
      "cell_type": "code",
      "source": [
        "processor = DonutProcessor.from_pretrained(\"/content/drive/MyDrive/processor\")\n",
        "tokenizer = processor.tokenizer"
      ],
      "metadata": {
        "id": "IvlDTYdIMYeW"
      },
      "execution_count": null,
      "outputs": []
    },
    {
      "cell_type": "code",
      "source": [
        "from kiwipiepy.utils import Stopwords\n",
        "stopwords = Stopwords()\n",
        "add_words=['연립부등식','시속','유리함수','교점','밑변','부분합','쌓기나무','사인법칙','피타고라스','평행이동','대분수','도수분포표','이등변삼각형','상대도수','최솟값','중근','표본공간','닮음비',\n",
        "          '유한소수','연립부등식','공통범위','각뿔대','극한값','아랫변','수선의발','허근','중근','근과계수의관계','최단거리','교점','홀수항','짝수항','실근','부분집합',\n",
        "           '진리집합','공비','직사각형','예각삼각형','직각삼각형','일반항','부분집합','부등호','음의정수','항등함수','근의공식','수직이등분선','원주율','입체도형','준식','최댓값',\n",
        "           '증가량','감소량','일대일대응','대칭이동','음함수','좌변','우변','외심','조임정리','원주각','원순열','초항','점사이의거리','우함수','극댓값','내림차순','중심각','경우의수','기준량',\n",
        "           '대응각','수직이등분선','사잇값정리','접선의방정식','모눈칸','입체도형','표준형','변화량','벤다이어그램','최고차항','좌표평전','불연속','수직이등분선','도수분포표','이항','다항함수',\n",
        "           '원주율','연립부등식','정적분','소인수분해','일반항','최고항','상대도수','배반사건','증가함수','접선의기울기','삼수선','공통인수','무리식','일대일함수','닫힌구간','열린구간','기함수',\n",
        "           '진분수','호의길이','나머지정리','켤레복소수','무게중심','원순열','평균변화율','곱셈공식','이산확률','대응각','대등점','좌표평면','중복조합','차항계수']\n",
        "stop_words=['정답','개','학생','답','가능','의','라','가','을','은','과','장','철수','무승부','결과','축구','이란','열량','선택','권',\n",
        "            '동생','여유','테이프','곳','연주','한라산','현주','소금물','금요일','평가','하인','왼쪽','정확','사용','목걸이','여학생','영지',\n",
        "            '과자','종이','사진','출전','동안','성윤','탈','양궁','무','통장','자전거','개인','고등학교','되어','입장료','바깥','이때','감',\n",
        "            '시합','인정','도중','에','계절','이므로','옷','야구','를','밖','므','연필','오리','솟값','처음','동전','안','컵','텐트','만약',\n",
        "            '태준','역사책','어머니','사과','구슬','선생','만족','이용','식량','깃발','오렌지','화요일','반대','인','나','오른쪽','번','아치고',\n",
        "            '필요','여름','여야','거짓','장마','부분','은행','직','희연','톱니','주머니','서현','청소년','준','고','고르고','못','퀴','최고',\n",
        "            '풀','모','밀가루','후','메뚜기','월요일','하루','찰흙','정도','지현이','움','우유','기','서','떡','진아','샌드위치','모둠','시',\n",
        "            '승부','미생물','꽃','올해','단백질','색종이','입','작년','체인','머지','수박','매듭','자취','재경','달리기','팀','인형','초록색',\n",
        "            '무','이동','줄','제외','여학생','오','버스','추리','마찬가지','발사','세수','선수','조금','습관','회원','껌','영어','수면','하인',\n",
        "            '눈','사용','영어','임시','양말','바둑돌','각인','회원','잡지','독서량','대회','어린이','진아','르','남학생','여학생','아래','동쪽',\n",
        "            '어린이','상자','돈','학생','구슬','우유','서','해결','연습','발','맛','와','학교','공차','학기','조각','림','케이스','저금통','시행',\n",
        "            '하루','반','마을','위쪽','포도','설명','박테리아','부분','사탕','개수','회','도달','병','도','학교','아버지','영희','가지','아들',\n",
        "            '시작','방법','다음','대신','학업','키','과일','주스','포도','번호','각도기','시행','사탕','생각','후','다','의자','시계',\n",
        "            '모두','뒤','떡','연습','자리','톱니','어린이','다','학교','명','그릇','라','물','림','제비','학업','설명','다음','대신','몸무게',\n",
        "            '아래','은','이번','서','연습','배','작년','시작','동화책','생각','앞','제외','하루','학생','여학생','차','가지','방법','포도','와',\n",
        "            '형','우유','떡','진아','샌드위치','모둠','시','승부']\n",
        "\n",
        "nums=['일','이','삼','사','오','육','칠','팔','구','십','십일','십이','이십']\n",
        "\n",
        "for num in nums:\n",
        "    variant_words=['{}차방정식'.format(num),'정{}각형'.format(num),'{}각기둥'.format(num),'{}각형'.format(num),\n",
        "                   '{}차함수'.format(num),'{}차곡선'.format(num),'{}각뿔'.format(num),'{}차부등식'.format(num),\n",
        "                   '{}차식'.format(num)]\n",
        "    for word in variant_words:\n",
        "        add_words.append(word)\n",
        "\n",
        "for word in add_words:\n",
        "    kiwi.add_user_word(word,'NNG')\n",
        "\n",
        "for word in stop_words:\n",
        "    stopwords.add((word, 'NNG'))\n",
        "\n",
        "masks={'부분 집합':'부분집합','근과 계수와의 관계':'근과계수의관계','꼭짓점의 개수':'꼭짓점개수','다항 함수':'다항함수','접선의 방정식':'접선의방정식',\n",
        "       '닫힌 구간':'닫힌구간','열린 구간':'열린구간','이등변 삼각형':'이등변삼각형','나무쌓기':'쌓기나무','산술과 기하평균':'산술기하평균','산술 기하평균':'산술기하평균',\n",
        "       '각 기둥':'각기둥','차항의 계수':'차항계수','경우의 수':'경우의수','최대값':'최댓값','최댓 값':'최댓값','점 사이의 거리':'점사이의거리','사잇값 정리':'사잇값정리','사잇값의 정리':'사잇값정리','소인수 분해':'소인수분해',\n",
        "       '수선의 발':'수선의발','최단 거리':'최단거리','부분 집합':'부분집합','근의 공식':'근의공식','접선의 방정식':'접선의방정식','호의 길이':'호의길이','나머지 정리':'나머지 정리',\n",
        "       '접선의 기울기':'접선의기울기'}\n",
        "\n",
        "for sent in ground_truths:\n",
        "  for mask in masks.keys():\n",
        "    if mask in sent:\n",
        "      re_sent=re.sub(mask,masks[mask],sent)\n",
        "      sent=re_sent\n",
        "    else:\n",
        "      pass"
      ],
      "metadata": {
        "id": "Iof4HTVs0Yqu"
      },
      "execution_count": null,
      "outputs": []
    },
    {
      "cell_type": "markdown",
      "source": [
        "# 텍스트 데이터 정제\n",
        "- 텍스트 --> 키위 토크나이저로 수학 용어 명사만 추출 <br>\n",
        "- 라텍스 --> 메인 모델 토크나이저로 수학 기호 (ex)//cos,//left) 형태만 추출  "
      ],
      "metadata": {
        "id": "kxEZv7dN20DF"
      }
    },
    {
      "cell_type": "code",
      "source": [
        "tmp_ground_truths=[]\n",
        "\n",
        "for i,text in enumerate(ground_truths):\n",
        "\n",
        "    text=text.replace('\\\\displaystyle','') #displaystyle 제거\n",
        "    latexs=re.findall('<latex>.*?</latex>',text) # latex 부분만 추출\n",
        "    texts=re.sub('<latex>.*?</latex>',\"\",text) # 텍스트 부분만 추출\n",
        "    text_tokens=kiwi.tokenize(texts,stopwords=stopwords)\n",
        "    text_nn_tokens=[]\n",
        "    cleaned_latex_tokens=[]\n",
        "\n",
        "    for t in text_tokens:\n",
        "        #텍스트에서 명사만 추출\n",
        "        if t.tag=='NNG' or t.tag=='NNP':\n",
        "            text_nn_tokens.append(t.form)\n",
        "\n",
        "    if len(latexs)>=1: #라텍스가 있는 ground truth일때만 작동\n",
        "        for latex in latexs:\n",
        "\n",
        "            latex_tokens=tokenizer.tokenize(latex)\n",
        "            latex_tokens=[x for x in latex_tokens if x.startswith('\\\\')] # \\\\sin,\\\\cos 등 필요한 기호만 필터링\n",
        "\n",
        "            if len(latex_tokens)>=1:\n",
        "                cl_la_tk=' '.join(latex_tokens) #라텍스를 한 문장으로 합침\n",
        "                cleaned_latex_tokens.append(cl_la_tk)\n",
        "\n",
        "            else:\n",
        "                pass\n",
        "            #cleaned_latex_tokens.append(latex)\n",
        "\n",
        "\n",
        "    cleaned_text=' '.join(text_nn_tokens)\n",
        "    cleaned_latex=' '.join(cleaned_latex_tokens)\n",
        "    cl_gt=cleaned_text+cleaned_latex\n",
        "    tmp_ground_truths.append(cl_gt)\n"
      ],
      "metadata": {
        "id": "OZtdUkFX00MG"
      },
      "execution_count": null,
      "outputs": []
    },
    {
      "cell_type": "markdown",
      "source": [
        "# sequence 길이 조절\n",
        "- 12자 이하의 문장들 같은 레이블끼리 묶어 토크나이저 기준 3 단어로 묶어서 길이를 연장"
      ],
      "metadata": {
        "id": "mm86xcuv3xRv"
      }
    },
    {
      "cell_type": "code",
      "source": [
        "cleaned_ground_truths=[]\n",
        "cleaned_labels=[]\n",
        "tmp_gt_dicts={'e4':[],'e5':[],'e6':[],\n",
        "              'm1':[],'m2':[],'m3':[],\n",
        "              'h1':[],'h2':[],'h3':[]}\n",
        "#tmp_labels=[]\n",
        "for i,v in enumerate(tmp_ground_truths):\n",
        "    if 2<=len(v)<=12:\n",
        "      tmp_gt_dicts[gt_labels[i]].append(v)\n",
        "    else:\n",
        "      cleaned_ground_truths.append(v)\n",
        "      cleaned_labels.append(gt_labels[i])"
      ],
      "metadata": {
        "id": "APQtjHDJPOjF"
      },
      "execution_count": null,
      "outputs": []
    },
    {
      "cell_type": "code",
      "source": [
        "uncleaned_ground_truths=[]\n",
        "uncleaned_labels=[]\n",
        "tmp_gt_dicts={'e4':[],'e5':[],'e6':[],\n",
        "              'm1':[],'m2':[],'m3':[],\n",
        "              'h1':[],'h2':[],'h3':[]}\n",
        "\n",
        "for i,v in enumerate(tmp_ground_truths):\n",
        "    if 2<=len(v)<=12:\n",
        "      tmp_gt_dicts[gt_labels[i]].append(v)\n",
        "    else:\n",
        "      uncleaned_ground_truths.append(v)\n",
        "      uncleaned_labels.append(gt_labels[i])\n",
        "\n",
        "for k,v in tmp_gt_dicts.items():\n",
        "  while len(v)>=3:\n",
        "    if len(v)>=3:\n",
        "      long_sent=r' '.join(v[:3])\n",
        "      v=v[3:]\n",
        "      uncleaned_ground_truths.append(long_sent)\n",
        "      uncleaned_labels.append(k)\n",
        "\n",
        "    elif 1<=len(v)<=2:\n",
        "      long_sent=r' '.join(v)\n",
        "      v=[]\n",
        "      uncleaned_ground_truths.append(long_sent)\n",
        "      uncleaned_labels.append(k)"
      ],
      "metadata": {
        "id": "0oTMs3oJ05Id"
      },
      "execution_count": null,
      "outputs": []
    },
    {
      "cell_type": "code",
      "source": [
        "cleaned_ground_truths=[]\n",
        "cleaned_labels=[]\n",
        "for i,v in enumerate(uncleaned_ground_truths):\n",
        "  if len(v)>0:\n",
        "    cleaned_ground_truths.append(v)\n",
        "    cleaned_labels.append(uncleaned_labels[i])"
      ],
      "metadata": {
        "id": "qF2blR-pBjvR"
      },
      "execution_count": null,
      "outputs": []
    },
    {
      "cell_type": "code",
      "source": [
        "for i,v in enumerate(cleaned_ground_truths[:7000]):\n",
        "  print(len(v),'-',v,'-',cleaned_labels[i])\n",
        "  print('------------------------------------------')"
      ],
      "metadata": {
        "id": "ghDV5emF421C"
      },
      "execution_count": null,
      "outputs": []
    },
    {
      "cell_type": "code",
      "source": [
        "Counter(cleaned_labels)"
      ],
      "metadata": {
        "colab": {
          "base_uri": "https://localhost:8080/"
        },
        "id": "jwdLBKd75_IY",
        "outputId": "27a8a673-a3e6-4c0c-c55e-bfa399f803fc"
      },
      "execution_count": null,
      "outputs": [
        {
          "output_type": "execute_result",
          "data": {
            "text/plain": [
              "Counter({'h3': 22200,\n",
              "         'h1': 37634,\n",
              "         'm1': 28123,\n",
              "         'h2': 25293,\n",
              "         'e4': 3909,\n",
              "         'm2': 16400,\n",
              "         'm3': 13594,\n",
              "         'e6': 5506,\n",
              "         'e5': 5701})"
            ]
          },
          "metadata": {},
          "execution_count": 22
        }
      ]
    },
    {
      "cell_type": "code",
      "source": [
        "import statistics\n",
        "\n",
        "length_max=max([len(x) for x in cleaned_ground_truths])\n",
        "length_min=min([len(x) for x in cleaned_ground_truths])\n",
        "length_mean=statistics.mean([len(x) for x in cleaned_ground_truths])\n",
        "print(length_max)\n",
        "print(length_min)\n",
        "print(length_mean)"
      ],
      "metadata": {
        "colab": {
          "base_uri": "https://localhost:8080/"
        },
        "id": "DTcCFv_89xy6",
        "outputId": "345a300d-6a46-4e50-b7c7-14da297c6dd9"
      },
      "execution_count": null,
      "outputs": [
        {
          "output_type": "stream",
          "name": "stdout",
          "text": [
            "291\n",
            "2\n",
            "12.031948217290736\n"
          ]
        }
      ]
    },
    {
      "cell_type": "code",
      "source": [
        "X = cleaned_ground_truths[:]\n",
        "y = cleaned_labels[:]\n",
        "\n",
        "#tokenized_texts = [\" \".join(tokenizer.tokenize(s)) for s in X]\n",
        "y = [label2id[x] for x in y]"
      ],
      "metadata": {
        "id": "3jVqos7sOdjp"
      },
      "execution_count": null,
      "outputs": []
    },
    {
      "cell_type": "code",
      "source": [
        "X[0]"
      ],
      "metadata": {
        "colab": {
          "base_uri": "https://localhost:8080/",
          "height": 36
        },
        "id": "a5EaR3YxHecy",
        "outputId": "257a5724-4735-4806-aeab-7b3554941bda"
      },
      "execution_count": null,
      "outputs": [
        {
          "output_type": "execute_result",
          "data": {
            "text/plain": [
              "'\\\\sqrt \\\\frac \\\\sqrt \\\\frac \\\\sqrt'"
            ],
            "application/vnd.google.colaboratory.intrinsic+json": {
              "type": "string"
            }
          },
          "metadata": {},
          "execution_count": 107
        }
      ]
    },
    {
      "cell_type": "code",
      "source": [
        "from sklearn.feature_extraction.text import TfidfVectorizer, CountVectorizer\n",
        "\n",
        "td_vectorizer = TfidfVectorizer()\n",
        "# c_vectorizer = CountVectorizer()\n",
        "X = td_vectorizer.fit_transform(X)\n",
        "# X = c_vectorizer.fit_transform(tokenized_texts)"
      ],
      "metadata": {
        "id": "96-L39_bRaNO"
      },
      "execution_count": null,
      "outputs": []
    },
    {
      "cell_type": "code",
      "source": [
        "X.toarray()"
      ],
      "metadata": {
        "colab": {
          "base_uri": "https://localhost:8080/"
        },
        "id": "yJ_Q_igjKKge",
        "outputId": "7741c599-3173-4943-dd38-f9b8b28568cb"
      },
      "execution_count": null,
      "outputs": [
        {
          "output_type": "execute_result",
          "data": {
            "text/plain": [
              "array([[0., 0., 0., ..., 0., 0., 0.],\n",
              "       [0., 0., 0., ..., 0., 0., 0.],\n",
              "       [0., 0., 0., ..., 0., 0., 0.],\n",
              "       ...,\n",
              "       [0., 0., 0., ..., 0., 0., 0.],\n",
              "       [0., 0., 0., ..., 0., 0., 0.],\n",
              "       [0., 0., 0., ..., 0., 0., 0.]])"
            ]
          },
          "metadata": {},
          "execution_count": 109
        }
      ]
    },
    {
      "cell_type": "markdown",
      "source": [
        "# 레이블 불균형 해소\n",
        "- undersampling"
      ],
      "metadata": {
        "id": "eMglATyR4CVs"
      }
    },
    {
      "cell_type": "code",
      "source": [
        "from imblearn.under_sampling import RandomUnderSampler\n",
        "from collections import Counter\n",
        "\n",
        "undersample = RandomUnderSampler()\n",
        "X_under, y_under = undersample.fit_resample(X, y)\n",
        "print(Counter(y_under))"
      ],
      "metadata": {
        "colab": {
          "base_uri": "https://localhost:8080/"
        },
        "id": "pJEKIPq5JTLb",
        "outputId": "80a7cef7-e1d2-45f0-a2f1-89becc0f057b"
      },
      "execution_count": null,
      "outputs": [
        {
          "output_type": "stream",
          "name": "stdout",
          "text": [
            "Counter({0: 2392, 1: 2392, 2: 2392, 3: 2392, 4: 2392, 5: 2392, 6: 2392, 7: 2392, 8: 2392})\n"
          ]
        }
      ]
    },
    {
      "cell_type": "code",
      "source": [
        "X_train, X_valid, y_train, y_valid = train_test_split(X_under, y_under, random_state=42, test_size=0.1)"
      ],
      "metadata": {
        "id": "ErRTovKePEQj"
      },
      "execution_count": null,
      "outputs": []
    },
    {
      "cell_type": "code",
      "source": [
        "models = []\n",
        "models.append(('NB-M', MultinomialNB()))\n",
        "models.append(('NB-B', BernoulliNB()))\n",
        "models.append(('DT', DecisionTreeClassifier()))\n",
        "models.append(('RF', RandomForestClassifier()))\n",
        "models.append(('XGB', XGBClassifier()))\n",
        "\n",
        "for name, model in models:\n",
        "    model.fit(X_train, y_train)\n",
        "    msg = \"%s - train_score : %f, test score : %f\" % (name, model.score(X_train, y_train), model.score(X_valid, y_valid))\n",
        "    print(msg)"
      ],
      "metadata": {
        "id": "une66vp_Pkmx",
        "colab": {
          "base_uri": "https://localhost:8080/"
        },
        "outputId": "8d1ee762-0d64-4137-97bc-02df0a2e9f57"
      },
      "execution_count": null,
      "outputs": [
        {
          "output_type": "stream",
          "name": "stdout",
          "text": [
            "NB-M - train_score : 0.596748, test score : 0.562471\n",
            "NB-B - train_score : 0.601084, test score : 0.564329\n",
            "DT - train_score : 0.780129, test score : 0.475615\n",
            "RF - train_score : 0.780129, test score : 0.562007\n",
            "XGB - train_score : 0.684026, test score : 0.572689\n"
          ]
        }
      ]
    }
  ]
}