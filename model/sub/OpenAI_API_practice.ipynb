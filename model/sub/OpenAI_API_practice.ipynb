{
  "cells": [
    {
      "cell_type": "markdown",
      "metadata": {
        "id": "6bVVzy8DfHMo"
      },
      "source": [
        "## OpenAI API 빠르게 사용해보기\n",
        "- $18 무료 사용 가능\n",
        "- gpt-3.5-turbo 모델 사용 시 1 토큰 당 0.000002, 대략 2만 번 정도 호출 가능\n",
        "- 하루 제약을 걸어 놓는 것이 중요할 것으로 예상\n"
      ]
    },
    {
      "cell_type": "markdown",
      "metadata": {
        "id": "RpE2DPOPfBsF"
      },
      "source": [
        "[API Reference](https://platform.openai.com/docs/api-reference/chat/create)"
      ]
    },
    {
      "cell_type": "code",
      "execution_count": null,
      "metadata": {
        "id": "iRLUMgLOdr2q"
      },
      "outputs": [],
      "source": [
        "import openai\n",
        "\n",
        "openai.api_key = \"...\" # API Key"
      ]
    },
    {
      "cell_type": "code",
      "execution_count": null,
      "metadata": {
        "id": "eXbnhjROeuPV"
      },
      "outputs": [],
      "source": [
        "completion = openai.ChatCompletion.create(\n",
        "    model=\"gpt-3.5-turbo\",\n",
        "    messages=[{\"role\": \"user\", \"content\": \"Tell the world about the ChatGPT API in the style of a pirate.\"}]\n",
        ")\n",
        "\n",
        "print(completion)"
      ]
    },
    {
      "cell_type": "code",
      "execution_count": null,
      "metadata": {
        "id": "ChekSK4fegaL"
      },
      "outputs": [],
      "source": [
        "openai.ChatCompletion.create(\n",
        "  model=\"gpt-3.5-turbo\",\n",
        "  messages=[\n",
        "        {\"role\": \"system\", \"content\": \"You are a helpful assistant.\"},\n",
        "        {\"role\": \"user\", \"content\": \"Who won the world series in 2020?\"},\n",
        "        {\"role\": \"assistant\", \"content\": \"The Los Angeles Dodgers won the World Series in 2020.\"},\n",
        "        {\"role\": \"user\", \"content\": \"Where was it played?\"}\n",
        "    ]\n",
        ")"
      ]
    },
    {
      "cell_type": "code",
      "execution_count": null,
      "metadata": {
        "id": "5AcOB-EgE30e"
      },
      "outputs": [],
      "source": [
        "import os\n",
        "import openai\n",
        "\n",
        "def set_api_key(api_key):\n",
        "    openai.api_key = api_key\n",
        "\n",
        "def create_chat_messages(latex_formula):\n",
        "    return [\n",
        "        {\"role\": \"system\", \"content\": \"당신은 복잡한 수학 문제를 이해하고 풀 수 있는 능력을 가진 지능형 조수입니다. LaTeX 표기법에 익숙합니다. 그리고 수식의 각 부분을 분석하고, 그 의미를 설명할 수 있습니다. 또한, 수학적 원리를 기반으로 문제를 풀이하고, 이 과정을 단계별로 설명할 수 있습니다.\"},\n",
        "        {\"role\": \"assistant\", \"content\": f\"다음 LaTeX로 표현된 수식은 한국의 고등학교 수학 문제의 일부입니다. 이 수식을 해석하고 풀어줄 수 있나요? 그리고 해결 과정에 대한 자세한 설명도 부탁드립니다.: '{latex_formula}'\"},\n",
        "        {\"role\": \"assistant\", \"content\": f\"이 수식을 더 자세히 배우기 위해 어떤 웹사이트를 방문하는 것이 좋을까요? 수식에 대한 설명이 포함된 사이트를 추천 부탁드립니다.\"}\n",
        "    ]\n",
        "\n",
        "def generate_chat_completion(api_key, latex_formula, max_tokens=1000, temperature=0.2):\n",
        "    set_api_key(api_key)\n",
        "    messages = create_chat_messages(latex_formula)\n",
        "\n",
        "    completion = openai.ChatCompletion.create(\n",
        "        model=\"gpt-3.5-turbo\",\n",
        "        messages=messages,\n",
        "        max_tokens=max_tokens,\n",
        "        temperature=temperature\n",
        "    )\n",
        "\n",
        "    return completion.choices[0].message[\"content\"].strip()"
      ]
    }
  ],
  "metadata": {
    "colab": {
      "provenance": []
    },
    "kernelspec": {
      "display_name": "team_conda",
      "language": "python",
      "name": "team_conda"
    },
    "language_info": {
      "codemirror_mode": {
        "name": "ipython",
        "version": 3
      },
      "file_extension": ".py",
      "mimetype": "text/x-python",
      "name": "python",
      "nbconvert_exporter": "python",
      "pygments_lexer": "ipython3",
      "version": "3.10.12"
    }
  },
  "nbformat": 4,
  "nbformat_minor": 0
}