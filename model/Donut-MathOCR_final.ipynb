{
 "cells": [
  {
   "cell_type": "markdown",
   "metadata": {
    "id": "_6aTucp-3V-R"
   },
   "source": [
    "## 사전 설정"
   ]
  },
  {
   "cell_type": "code",
   "execution_count": null,
   "metadata": {
    "colab": {
     "base_uri": "https://localhost:8080/"
    },
    "executionInfo": {
     "elapsed": 2899,
     "status": "ok",
     "timestamp": 1689830103096,
     "user": {
      "displayName": "낭만AI",
      "userId": "15141833767579605424"
     },
     "user_tz": -540
    },
    "id": "53vY4sb73TFn",
    "outputId": "2815ba7d-89df-4237-d5c8-887b0db8e37b"
   },
   "outputs": [
    {
     "name": "stdout",
     "output_type": "stream",
     "text": [
      "Drive already mounted at /content/drive; to attempt to forcibly remount, call drive.mount(\"/content/drive\", force_remount=True).\n"
     ]
    }
   ],
   "source": [
    "# from google.colab import drive\n",
    "# drive.mount('/content/drive')"
   ]
  },
  {
   "cell_type": "code",
   "execution_count": 1,
   "metadata": {
    "executionInfo": {
     "elapsed": 5147,
     "status": "ok",
     "timestamp": 1689839408939,
     "user": {
      "displayName": "낭만AI",
      "userId": "15141833767579605424"
     },
     "user_tz": -540
    },
    "id": "UdaTpuB93VaV",
    "tags": []
   },
   "outputs": [],
   "source": [
    "!pip install -U sentencepiece datasets transformers pyarrow polyleven pytorch-lightning -q"
   ]
  },
  {
   "cell_type": "code",
   "execution_count": 2,
   "metadata": {
    "executionInfo": {
     "elapsed": 5744,
     "status": "ok",
     "timestamp": 1689839414678,
     "user": {
      "displayName": "낭만AI",
      "userId": "15141833767579605424"
     },
     "user_tz": -540
    },
    "id": "UlbzwT9H3kRv",
    "tags": []
   },
   "outputs": [],
   "source": [
    "import os\n",
    "import re\n",
    "import json\n",
    "import glob, shutil\n",
    "import xml.etree.ElementTree as elemTree\n",
    "from collections import Counter\n",
    "from itertools import chain\n",
    "from pathlib import Path\n",
    "from typing import List, Dict, Union, Tuple, Any\n",
    "\n",
    "import matplotlib.pyplot as plt\n",
    "import numpy as np\n",
    "import pandas as pd\n",
    "import torch\n",
    "from PIL import Image\n",
    "from sklearn.model_selection import StratifiedKFold\n",
    "from torch.utils.data import DataLoader\n",
    "from transformers import (\n",
    "    DonutProcessor,\n",
    "    VisionEncoderDecoderConfig,\n",
    "    VisionEncoderDecoderModel,\n",
    "    get_scheduler\n",
    ")\n",
    "from datasets import Dataset\n",
    "from datasets import Image as ds_img\n",
    "from polyleven import levenshtein"
   ]
  },
  {
   "cell_type": "code",
   "execution_count": 3,
   "metadata": {
    "executionInfo": {
     "elapsed": 1517,
     "status": "ok",
     "timestamp": 1689839417740,
     "user": {
      "displayName": "낭만AI",
      "userId": "15141833767579605424"
     },
     "user_tz": -540
    },
    "id": "AcWKVy01451i",
    "tags": []
   },
   "outputs": [],
   "source": [
    "images_path = glob.glob('C:/final_project/kr-img2latex/data/train/images/*')\n",
    "train_json_files = glob.glob('C:/final_project/kr-img2latex/data/train/annotations/*')"
   ]
  },
  {
   "cell_type": "markdown",
   "metadata": {
    "id": "k0JU7c2_38C3",
    "jp-MarkdownHeadingCollapsed": true,
    "tags": []
   },
   "source": [
    "## 데이터 압축 해제 및 정리"
   ]
  },
  {
   "cell_type": "code",
   "execution_count": 4,
   "metadata": {
    "colab": {
     "base_uri": "https://localhost:8080/"
    },
    "executionInfo": {
     "elapsed": 22,
     "status": "ok",
     "timestamp": 1689830141365,
     "user": {
      "displayName": "낭만AI",
      "userId": "15141833767579605424"
     },
     "user_tz": -540
    },
    "id": "4PTmcqk827la",
    "outputId": "bab744b6-7aab-4793-af19-8c057a3cbe3f",
    "tags": []
   },
   "outputs": [
    {
     "name": "stdout",
     "output_type": "stream",
     "text": [
      "C:\\final_project\\kr-img2latex\n"
     ]
    },
    {
     "name": "stderr",
     "output_type": "stream",
     "text": [
      "fatal: destination path 'kr-img2latex' already exists and is not an empty directory.\n"
     ]
    }
   ],
   "source": [
    "!git clone https://github.com/KDTAI-A3/kr-img2latex.git\n",
    "%cd kr-img2latex"
   ]
  },
  {
   "cell_type": "markdown",
   "metadata": {
    "id": "KSavHkUNYqMJ",
    "tags": []
   },
   "source": [
    "### Download Data"
   ]
  },
  {
   "cell_type": "code",
   "execution_count": 5,
   "metadata": {
    "colab": {
     "base_uri": "https://localhost:8080/"
    },
    "executionInfo": {
     "elapsed": 2373,
     "status": "ok",
     "timestamp": 1689830143726,
     "user": {
      "displayName": "낭만AI",
      "userId": "15141833767579605424"
     },
     "user_tz": -540
    },
    "id": "zykhvvZe3HjK",
    "outputId": "e0729163-092f-4fe3-c19a-2cf78f6b610c",
    "tags": []
   },
   "outputs": [
    {
     "name": "stdout",
     "output_type": "stream",
     "text": [
      "C:\\final_project\\kr-img2latex\\data\n"
     ]
    },
    {
     "name": "stderr",
     "output_type": "stream",
     "text": [
      "'.'은(는) 내부 또는 외부 명령, 실행할 수 있는 프로그램, 또는\n",
      "배치 파일이 아닙니다.\n"
     ]
    }
   ],
   "source": [
    "%cd data\n",
    "!chmod u+x ./download.sh\n",
    "!./download.sh"
   ]
  },
  {
   "cell_type": "code",
   "execution_count": 6,
   "metadata": {
    "colab": {
     "base_uri": "https://localhost:8080/"
    },
    "executionInfo": {
     "elapsed": 7,
     "status": "ok",
     "timestamp": 1689830143726,
     "user": {
      "displayName": "낭만AI",
      "userId": "15141833767579605424"
     },
     "user_tz": -540
    },
    "id": "h7cNJm7M354Y",
    "outputId": "6cf7882f-01f6-4634-8a0b-e90bf7c9cdd0",
    "tags": []
   },
   "outputs": [
    {
     "name": "stderr",
     "output_type": "stream",
     "text": [
      "Traceback (most recent call last):\n",
      "  File \"C:\\final_project\\kr-img2latex\\data\\unzip.py\", line 26, in <module>\n",
      "    unzip_dataset(train_zip_file, test_zip_file)\n",
      "  File \"C:\\final_project\\kr-img2latex\\data\\unzip.py\", line 20, in unzip_dataset\n",
      "    shutil.unpack_archive(test_path, test_extract_dir, archive_format)\n",
      "  File \"C:\\Users\\W7\\anaconda3\\envs\\TestBuild\\lib\\shutil.py\", line 1298, in unpack_archive\n",
      "    func(filename, extract_dir, **dict(format_info[2]))\n",
      "  File \"C:\\Users\\W7\\anaconda3\\envs\\TestBuild\\lib\\shutil.py\", line 1201, in _unpack_zipfile\n",
      "    raise ReadError(\"%s is not a zip file\" % filename)\n",
      "shutil.ReadError: ./test.zip is not a zip file\n"
     ]
    }
   ],
   "source": [
    "!python ./unzip.py"
   ]
  },
  {
   "cell_type": "markdown",
   "metadata": {
    "id": "Xf7ClMmse-Ik",
    "tags": []
   },
   "source": [
    "### For Temporary Drive"
   ]
  },
  {
   "cell_type": "code",
   "execution_count": 46,
   "metadata": {
    "id": "HQZ8l6_Je6nB",
    "tags": []
   },
   "outputs": [],
   "source": [
    "train_annotation_paths = glob.glob('C:/final_project/content/drive/data/Training/labeling/*.zip')\n",
    "train_image_paths = glob.glob('C:/final_project/content/drive/data/Training/source/*.zip')"
   ]
  },
  {
   "cell_type": "code",
   "execution_count": 47,
   "metadata": {
    "tags": []
   },
   "outputs": [
    {
     "data": {
      "text/plain": [
       "'C:\\\\final_project\\\\kr-img2latex\\\\data'"
      ]
     },
     "execution_count": 47,
     "metadata": {},
     "output_type": "execute_result"
    }
   ],
   "source": [
    "os.getcwd()"
   ]
  },
  {
   "cell_type": "code",
   "execution_count": 50,
   "metadata": {
    "id": "GyMzfP4k9G74",
    "tags": []
   },
   "outputs": [],
   "source": [
    "# 임시적으로 생성\n",
    "\n",
    "def organize_train_dataset(value: str) -> list:\n",
    "  \"\"\"\n",
    "    Unzip all train data files and organize train dataset.\n",
    "    It will be created on the directory '/content/train'.\n",
    "\n",
    "    Args:\n",
    "        value (str): The value must be either 'images' or 'annotations'.\n",
    "\n",
    "    Returns:\n",
    "        list: File path list of the dataset.\n",
    "  \"\"\"\n",
    "  extract_dir = f'./train/{value}'\n",
    "  archive_format = 'zip'\n",
    "\n",
    "  if value == 'annotations':\n",
    "    file_paths = train_annotation_paths\n",
    "  else:\n",
    "    file_paths = train_image_paths\n",
    "\n",
    "  for filename in file_paths:\n",
    "    shutil.unpack_archive(filename, extract_dir, archive_format)\n",
    "\n",
    "  for folder_name, _, file_names in os.walk(extract_dir):\n",
    "    if len(file_names) > 0:\n",
    "      for f in file_names:\n",
    "        current_file = os.path.join(folder_name, f)\n",
    "        shutil.move(current_file, extract_dir)\n",
    "\n",
    "  folder_name, sub_folders, _ = next(iter(os.walk(extract_dir)))\n",
    "  for sf in sub_folders:\n",
    "    shutil.rmtree(os.path.join(folder_name, sf))\n",
    "\n",
    "  return glob.glob(os.path.join(extract_dir,'*'))"
   ]
  },
  {
   "cell_type": "code",
   "execution_count": 51,
   "metadata": {
    "colab": {
     "base_uri": "https://localhost:8080/",
     "height": 330
    },
    "executionInfo": {
     "elapsed": 616,
     "status": "error",
     "timestamp": 1689779272211,
     "user": {
      "displayName": "낭만AI",
      "userId": "15141833767579605424"
     },
     "user_tz": -540
    },
    "id": "2Pk7Gylk_XsA",
    "outputId": "ea05fc0d-aac2-48f1-e522-5daf19ee8b79"
   },
   "outputs": [],
   "source": [
    "images_path = organize_train_dataset('images')\n",
    "train_json_files = organize_train_dataset('annotations')"
   ]
  },
  {
   "cell_type": "code",
   "execution_count": null,
   "metadata": {
    "id": "be6UdMZKjftt"
   },
   "outputs": [],
   "source": [
    "images_path"
   ]
  },
  {
   "cell_type": "code",
   "execution_count": 53,
   "metadata": {
    "id": "WrPozm3iALdf"
   },
   "outputs": [],
   "source": [
    "assert len(images_path) == len(train_json_files)"
   ]
  },
  {
   "cell_type": "code",
   "execution_count": 57,
   "metadata": {
    "tags": []
   },
   "outputs": [],
   "source": [
    "train_annotation_paths = glob.glob('C:/final_project/content/drive/data/Validation/labeling/*.zip')\n",
    "train_image_paths = glob.glob('C:/final_project/content/drive/data/Validation/source/*.zip')"
   ]
  },
  {
   "cell_type": "code",
   "execution_count": 58,
   "metadata": {
    "tags": []
   },
   "outputs": [],
   "source": [
    "# 임시적으로 생성\n",
    "\n",
    "def organize_test_dataset(value: str) -> list:\n",
    "  \"\"\"\n",
    "    Unzip all train data files and organize train dataset.\n",
    "    It will be created on the directory '/content/train'.\n",
    "\n",
    "    Args:\n",
    "        value (str): The value must be either 'images' or 'annotations'.\n",
    "\n",
    "    Returns:\n",
    "        list: File path list of the dataset.\n",
    "  \"\"\"\n",
    "  extract_dir = f'./test/{value}'\n",
    "  archive_format = 'zip'\n",
    "\n",
    "  if value == 'annotations':\n",
    "    file_paths = train_annotation_paths\n",
    "  else:\n",
    "    file_paths = train_image_paths\n",
    "\n",
    "  for filename in file_paths:\n",
    "    shutil.unpack_archive(filename, extract_dir, archive_format)\n",
    "\n",
    "  for folder_name, _, file_names in os.walk(extract_dir):\n",
    "    if len(file_names) > 0:\n",
    "      for f in file_names:\n",
    "        current_file = os.path.join(folder_name, f)\n",
    "        shutil.move(current_file, extract_dir)\n",
    "\n",
    "  folder_name, sub_folders, _ = next(iter(os.walk(extract_dir)))\n",
    "  for sf in sub_folders:\n",
    "    shutil.rmtree(os.path.join(folder_name, sf))\n",
    "\n",
    "  return glob.glob(os.path.join(extract_dir,'*'))"
   ]
  },
  {
   "cell_type": "code",
   "execution_count": 59,
   "metadata": {
    "tags": []
   },
   "outputs": [],
   "source": [
    "test_image_path = organize_test_dataset('images')\n",
    "test_json_files = organize_test_dataset('annotations')"
   ]
  },
  {
   "cell_type": "markdown",
   "metadata": {
    "id": "iUx4JENiBms3"
   },
   "source": [
    "## Check Samples"
   ]
  },
  {
   "cell_type": "code",
   "execution_count": 4,
   "metadata": {
    "executionInfo": {
     "elapsed": 24,
     "status": "ok",
     "timestamp": 1689839417741,
     "user": {
      "displayName": "낭만AI",
      "userId": "15141833767579605424"
     },
     "user_tz": -540
    },
    "id": "qhohOj5jBpE2",
    "tags": []
   },
   "outputs": [],
   "source": [
    "sample_img = np.random.choice(images_path)\n",
    "sample_json = sample_img.replace('images','annotations').replace('.png','.json')"
   ]
  },
  {
   "cell_type": "code",
   "execution_count": 5,
   "metadata": {
    "colab": {
     "base_uri": "https://localhost:8080/",
     "height": 78
    },
    "executionInfo": {
     "elapsed": 23,
     "status": "ok",
     "timestamp": 1689839417741,
     "user": {
      "displayName": "낭만AI",
      "userId": "15141833767579605424"
     },
     "user_tz": -540
    },
    "id": "xJbPbqTDCYsx",
    "outputId": "6d047442-3919-4556-d389-5178c76e70c5",
    "tags": []
   },
   "outputs": [
    {
     "data": {
      "image/png": "[encoded data removed]",
      "text/plain": [
       "<PIL.PngImagePlugin.PngImageFile image mode=RGB size=157x37>"
      ]
     },
     "execution_count": 5,
     "metadata": {},
     "output_type": "execute_result"
    }
   ],
   "source": [
    "Image.open(sample_img)"
   ]
  },
  {
   "cell_type": "code",
   "execution_count": 6,
   "metadata": {
    "executionInfo": {
     "elapsed": 21,
     "status": "ok",
     "timestamp": 1689839417741,
     "user": {
      "displayName": "낭만AI",
      "userId": "15141833767579605424"
     },
     "user_tz": -540
    },
    "id": "2UF9XYrCCcKx",
    "tags": []
   },
   "outputs": [],
   "source": [
    "with open(Path(sample_json), encoding='utf-8') as jf:\n",
    "  temp_json = json.load(jf)"
   ]
  },
  {
   "cell_type": "code",
   "execution_count": 7,
   "metadata": {
    "colab": {
     "base_uri": "https://localhost:8080/"
    },
    "executionInfo": {
     "elapsed": 22,
     "status": "ok",
     "timestamp": 1689839417742,
     "user": {
      "displayName": "낭만AI",
      "userId": "15141833767579605424"
     },
     "user_tz": -540
    },
    "id": "O5Z2GTfYDPBU",
    "outputId": "3d69754a-031f-4e74-b2ea-95513a92e5e3",
    "tags": []
   },
   "outputs": [
    {
     "data": {
      "text/plain": [
       "{'id': 'ada7b67b-b0a0-49f1-8c14-e6c20af41acf',\n",
       " 'chapter_id': '1113',\n",
       " 'material_type': '손글씨',\n",
       " 'segments': [{'box': [[0, 0], [157, 0], [157, 37], [0, 37]],\n",
       "   'type': '수식/텍스트',\n",
       "   'type_detail': '텍스트/수식',\n",
       "   'equation': '호의 길이 $=4\\\\pi$'}]}"
      ]
     },
     "execution_count": 7,
     "metadata": {},
     "output_type": "execute_result"
    }
   ],
   "source": [
    "temp_json"
   ]
  },
  {
   "cell_type": "code",
   "execution_count": 8,
   "metadata": {
    "colab": {
     "base_uri": "https://localhost:8080/"
    },
    "executionInfo": {
     "elapsed": 17,
     "status": "ok",
     "timestamp": 1689839417742,
     "user": {
      "displayName": "낭만AI",
      "userId": "15141833767579605424"
     },
     "user_tz": -540
    },
    "id": "PTvf_9R7DeN0",
    "outputId": "7c976442-9b61-4907-bfef-d2fd823ca4e1",
    "tags": []
   },
   "outputs": [
    {
     "data": {
      "text/plain": [
       "[{'box': [[0, 0], [157, 0], [157, 37], [0, 37]],\n",
       "  'type': '수식/텍스트',\n",
       "  'type_detail': '텍스트/수식',\n",
       "  'equation': '호의 길이 $=4\\\\pi$'}]"
      ]
     },
     "execution_count": 8,
     "metadata": {},
     "output_type": "execute_result"
    }
   ],
   "source": [
    "temp_json['segments']"
   ]
  },
  {
   "cell_type": "markdown",
   "metadata": {
    "id": "uz9Oa4CVEO0S"
   },
   "source": [
    "$\\int_{-1}^{1}\\left|x^{3}-x\\right| d x=\\int_{-1}^{0}\\left(x^{3}-x\\right) d x+\\int_{0}^{1}\\left(-x^{3}+x\\right) d x$"
   ]
  },
  {
   "cell_type": "markdown",
   "metadata": {
    "id": "fOHJ3C5PUGik"
   },
   "source": [
    "$\\displaystyle {a_{n+1}}^{2} = a_{n+2} \\times a_{n} \\to $ 등비수열"
   ]
  },
  {
   "cell_type": "markdown",
   "metadata": {
    "id": "KlJgrue8UgXC"
   },
   "source": [
    "$\\displaystyle d$ 면"
   ]
  },
  {
   "cell_type": "markdown",
   "metadata": {
    "id": "fpWb3QMAAJQh"
   },
   "source": [
    "## Config"
   ]
  },
  {
   "cell_type": "code",
   "execution_count": 11,
   "metadata": {
    "executionInfo": {
     "elapsed": 13,
     "status": "ok",
     "timestamp": 1689839417742,
     "user": {
      "displayName": "낭만AI",
      "userId": "15141833767579605424"
     },
     "user_tz": -540
    },
    "id": "kF-p_cd7Are4",
    "tags": []
   },
   "outputs": [],
   "source": [
    "class CFG:\n",
    "\n",
    "    # General\n",
    "    debug = False\n",
    "    num_proc = 1\n",
    "    num_workers = 0\n",
    "    gpus = 1\n",
    "\n",
    "    # Data\n",
    "    max_length = 100 # 256\n",
    "    image_height = 480\n",
    "    image_width = 480\n",
    "\n",
    "    # Training\n",
    "    epochs = 3 # 빠른 확인을 위해 1로 설정, 2로 설정하는 것을 추천\n",
    "    val_check_interval = 1.0  # how many times we want to validate during an epoch\n",
    "    check_val_every_n_epoch = 1\n",
    "    gradient_clip_val = 1.0\n",
    "    lr = 4e-05\n",
    "    lr_scheduler_type = \"linear\"\n",
    "    num_warmup_steps = 100\n",
    "    seed = 42\n",
    "    warmup_steps = 300\n",
    "    output_path = \"output\"\n",
    "    log_steps = 200\n",
    "    batch_size = 2\n",
    "    use_wandb = False"
   ]
  },
  {
   "cell_type": "markdown",
   "metadata": {
    "id": "d_QrvXTuAwCv"
   },
   "source": [
    "## Add Special Tokens"
   ]
  },
  {
   "cell_type": "code",
   "execution_count": 12,
   "metadata": {
    "executionInfo": {
     "elapsed": 14,
     "status": "ok",
     "timestamp": 1689839417743,
     "user": {
      "displayName": "낭만AI",
      "userId": "15141833767579605424"
     },
     "user_tz": -540
    },
    "id": "RCiaOiVwQYmo",
    "tags": []
   },
   "outputs": [],
   "source": [
    "PROMPT_TOKEN = \"<TPT>\"\n",
    "LINE_START = \"<line>\"\n",
    "LINE_END = \"</line>\"\n",
    "LATEX_START = \"<latex>\" # $ 가 라텍스 문법을 구분하는 토큰\n",
    "LATEX_END = \"</latex>\"\n",
    "HAND_TOKEN = \"<hand>\"\n",
    "PRINT_TOKEN = \"<print>\"\n",
    "\n",
    "\n",
    "SEPARATOR_TOKENS = [\n",
    "    PROMPT_TOKEN,\n",
    "    LINE_START,\n",
    "    LINE_END,\n",
    "    LATEX_START,\n",
    "    LATEX_END,\n",
    "    HAND_TOKEN,\n",
    "    PRINT_TOKEN,\n",
    "]\n",
    "\n",
    "new_tokens = SEPARATOR_TOKENS"
   ]
  },
  {
   "cell_type": "code",
   "execution_count": 13,
   "metadata": {
    "executionInfo": {
     "elapsed": 13,
     "status": "ok",
     "timestamp": 1689839417743,
     "user": {
      "displayName": "낭만AI",
      "userId": "15141833767579605424"
     },
     "user_tz": -540
    },
    "id": "IRpFXd3pAy7b",
    "tags": []
   },
   "outputs": [],
   "source": [
    "def get_gt_string(filepath: Union[str, os.PathLike]) -> Dict[str, str]:\n",
    "    \"\"\"\n",
    "    Get the ground truth string and x-y data from the given JSON file.\n",
    "\n",
    "    Args:\n",
    "        filepath (str): The path to the JSON file\n",
    "\n",
    "    Returns:\n",
    "        dict: A dictionary containing the ground truth string, material type, and id\n",
    "    \"\"\"\n",
    "    filepath = Path(filepath)\n",
    "    with open(filepath, encoding='utf-8') as fp:\n",
    "        data = json.load(fp)\n",
    "\n",
    "    data_series = data[\"segments\"]\n",
    "\n",
    "    all_lines = []\n",
    "\n",
    "    NON_OBJECT = False\n",
    "\n",
    "    for d_line in data_series:\n",
    "      if 'equation' not in d_line: # 도형, 그래프 제외\n",
    "        NON_OBJECT = True\n",
    "        break\n",
    "\n",
    "      if '$' not in d_line['equation']:\n",
    "        new_line = LINE_START + d_line['equation'] + LINE_END\n",
    "      else:\n",
    "        equation = d_line['equation'].split('$')\n",
    "        latex_line = equation[0]\n",
    "        for i, e in enumerate(equation[1:]):\n",
    "          if i%2 == 0:\n",
    "            latex_line += LATEX_START + e\n",
    "          else:\n",
    "            latex_line += LATEX_END + e\n",
    "\n",
    "        new_line = LINE_START + latex_line + LINE_END\n",
    "\n",
    "      all_lines.append(new_line)\n",
    "\n",
    "    if not NON_OBJECT:\n",
    "      if data['material_type'] == '손글씨':\n",
    "        material_type = HAND_TOKEN\n",
    "      else:\n",
    "        material_type = PRINT_TOKEN\n",
    "\n",
    "      string_lines = \"\".join(all_lines)\n",
    "\n",
    "      gt_string = PROMPT_TOKEN + material_type + string_lines\n",
    "\n",
    "      return {\n",
    "          \"ground_truth\": gt_string,\n",
    "          \"material_type\": data[\"material_type\"],\n",
    "          \"id\": data['id'],\n",
    "      }\n",
    "\n",
    "    else:\n",
    "      return False"
   ]
  },
  {
   "cell_type": "code",
   "execution_count": 14,
   "metadata": {
    "colab": {
     "base_uri": "https://localhost:8080/"
    },
    "executionInfo": {
     "elapsed": 13,
     "status": "ok",
     "timestamp": 1689839417743,
     "user": {
      "displayName": "낭만AI",
      "userId": "15141833767579605424"
     },
     "user_tz": -540
    },
    "id": "_7KDZIrBZcjd",
    "outputId": "55caa1b8-5818-4871-9266-15b30fd79291",
    "tags": []
   },
   "outputs": [
    {
     "data": {
      "text/plain": [
       "{'ground_truth': '<TPT><hand><line>호의 길이 <latex>=4\\\\pi</latex></line>',\n",
       " 'material_type': '손글씨',\n",
       " 'id': 'ada7b67b-b0a0-49f1-8c14-e6c20af41acf'}"
      ]
     },
     "execution_count": 14,
     "metadata": {},
     "output_type": "execute_result"
    }
   ],
   "source": [
    "get_gt_string(sample_json)"
   ]
  },
  {
   "cell_type": "markdown",
   "metadata": {
    "id": "thoFtig2ZwAm"
   },
   "source": [
    "## 데이터셋 구축"
   ]
  },
  {
   "cell_type": "code",
   "execution_count": 15,
   "metadata": {
    "tags": []
   },
   "outputs": [
    {
     "name": "stdout",
     "output_type": "stream",
     "text": [
      "C:\\final_project\\kr-img2latex\\data\n"
     ]
    }
   ],
   "source": [
    "%cd C:\\final_project\\kr-img2latex\\data"
   ]
  },
  {
   "cell_type": "code",
   "execution_count": 16,
   "metadata": {
    "colab": {
     "base_uri": "https://localhost:8080/"
    },
    "executionInfo": {
     "elapsed": 643,
     "status": "ok",
     "timestamp": 1689839418375,
     "user": {
      "displayName": "낭만AI",
      "userId": "15141833767579605424"
     },
     "user_tz": -540
    },
    "id": "vp21cQTIZxEM",
    "outputId": "fadd471e-9635-4fe5-cb52-82755e8acace",
    "tags": []
   },
   "outputs": [
    {
     "name": "stderr",
     "output_type": "stream",
     "text": [
      "Found cached dataset generator (C:/Users/W7/.cache/huggingface/datasets/generator/default-208616f240ca63c5/0.0.0)\n"
     ]
    }
   ],
   "source": [
    "def gen_data(files: List[Union[str, os.PathLike]]) -> Dict[str, str]:\n",
    "    \"\"\"\n",
    "    This function takes a list of json files and returns a generator that yields a\n",
    "    dictionary with the ground truth string and the path to the image.\n",
    "\n",
    "    Args:\n",
    "        files (list): A list of json files\n",
    "\n",
    "    Returns:\n",
    "        generator: A generator that yields a dictionary with the ground truth string and\n",
    "            the path to the corresponding image.\n",
    "    \"\"\"\n",
    "\n",
    "    for f in files:\n",
    "\n",
    "        result = get_gt_string(f)\n",
    "        if result:\n",
    "          yield {\n",
    "              **result,\n",
    "              \"image_path\": f.replace('annotations','images').replace('.json','.png')\n",
    "          }\n",
    "\n",
    "\n",
    "ds = Dataset.from_generator(\n",
    "    gen_data, gen_kwargs={\"files\": train_json_files}, num_proc=CFG.num_proc\n",
    ")"
   ]
  },
  {
   "cell_type": "markdown",
   "metadata": {
    "id": "7sXqC2szbN-9"
   },
   "source": [
    "## 이미지 사이즈 확인"
   ]
  },
  {
   "cell_type": "code",
   "execution_count": 17,
   "metadata": {
    "colab": {
     "base_uri": "https://localhost:8080/"
    },
    "executionInfo": {
     "elapsed": 6,
     "status": "ok",
     "timestamp": 1689839418375,
     "user": {
      "displayName": "낭만AI",
      "userId": "15141833767579605424"
     },
     "user_tz": -540
    },
    "id": "JDX-zsRvbP6n",
    "outputId": "497cd01e-d47e-4970-cd39-c1b59568021e",
    "tags": []
   },
   "outputs": [
    {
     "name": "stderr",
     "output_type": "stream",
     "text": [
      "Loading cached processed dataset at C:\\Users\\W7\\.cache\\huggingface\\datasets\\generator\\default-208616f240ca63c5\\0.0.0\\cache-8d131af24343d6ec.arrow\n"
     ]
    }
   ],
   "source": [
    "def add_image_sizes(examples: Dict[str, Union[str, os.PathLike]]) -> Dict[str, List[int]]:\n",
    "    \"\"\"\n",
    "    This function takes a dictionary of examples and adds the width and height of the\n",
    "    image to the dictionary. This is to be used with the `Dataset.map` function.\n",
    "\n",
    "    Args:\n",
    "        examples (dict): A dictionary of examples (from `map` function)\n",
    "\n",
    "    Returns:\n",
    "        dict: The dictionary with the width and height of the image added\n",
    "    \"\"\"\n",
    "    \n",
    "    sizes = [Image.open(x).size for x in examples[\"image_path\"]]\n",
    "\n",
    "    width, height = list(zip(*sizes))\n",
    "\n",
    "    return {\n",
    "        \"width\": list(width),\n",
    "        \"height\": list(height),\n",
    "    }\n",
    "\n",
    "\n",
    "ds = ds.map(add_image_sizes, batched=True, num_proc=CFG.num_proc)"
   ]
  },
  {
   "cell_type": "code",
   "execution_count": 18,
   "metadata": {
    "colab": {
     "base_uri": "https://localhost:8080/",
     "height": 288
    },
    "executionInfo": {
     "elapsed": 1035,
     "status": "ok",
     "timestamp": 1689839419407,
     "user": {
      "displayName": "낭만AI",
      "userId": "15141833767579605424"
     },
     "user_tz": -540
    },
    "id": "8gcgjBNUbVkI",
    "outputId": "c1fd36ee-fd7d-4b66-d7fb-204645b019bb",
    "tags": []
   },
   "outputs": [
    {
     "data": {
      "image/png": "[encoded data removed]",
      "text/plain": [
       "<Figure size 1000x1000 with 1 Axes>"
      ]
     },
     "metadata": {},
     "output_type": "display_data"
    }
   ],
   "source": [
    "plt.figure(figsize=(10, 10))\n",
    "\n",
    "plt.scatter(x=ds[\"width\"], y=ds[\"height\"], marker=\"o\", alpha=0.5)\n",
    "\n",
    "# Add axis labels\n",
    "plt.xlabel(\"Width\")\n",
    "plt.ylabel(\"Height\")\n",
    "\n",
    "# Add a title\n",
    "plt.title(\"Image Dimensions\")\n",
    "\n",
    "# Add gridlines\n",
    "plt.grid(True)\n",
    "\n",
    "# Set aspect ratio to be equal\n",
    "plt.gca().set_aspect(\"equal\", adjustable=\"box\")\n",
    "\n",
    "# Show the plot\n",
    "plt.show()"
   ]
  },
  {
   "cell_type": "markdown",
   "metadata": {
    "id": "2jz5QsZacFef"
   },
   "source": [
    "## 모델 CONFIG"
   ]
  },
  {
   "cell_type": "code",
   "execution_count": 19,
   "metadata": {
    "colab": {
     "base_uri": "https://localhost:8080/"
    },
    "executionInfo": {
     "elapsed": 13,
     "status": "ok",
     "timestamp": 1689839419408,
     "user": {
      "displayName": "낭만AI",
      "userId": "15141833767579605424"
     },
     "user_tz": -540
    },
    "id": "QmXC6GutcG07",
    "outputId": "d558dfec-a202-4251-a997-cb9c8cee5974",
    "tags": []
   },
   "outputs": [
    {
     "name": "stdout",
     "output_type": "stream",
     "text": [
      "480 480 100\n"
     ]
    }
   ],
   "source": [
    "config = VisionEncoderDecoderConfig.from_pretrained(\"C:/final_project/donut_hadwritten\")\n",
    "config.encoder.image_size = (CFG.image_height, CFG.image_width)\n",
    "config.decoder.max_length = CFG.max_length\n",
    "\n",
    "print(CFG.image_height, CFG.image_width, CFG.max_length)"
   ]
  },
  {
   "cell_type": "code",
   "execution_count": 20,
   "metadata": {
    "colab": {
     "base_uri": "https://localhost:8080/"
    },
    "executionInfo": {
     "elapsed": 1492,
     "status": "ok",
     "timestamp": 1689839420893,
     "user": {
      "displayName": "낭만AI",
      "userId": "15141833767579605424"
     },
     "user_tz": -540
    },
    "id": "Wddi1O2gcRe8",
    "outputId": "72745ded-3780-43d9-e8d4-0b196674f7dd",
    "tags": []
   },
   "outputs": [],
   "source": [
    "processor = DonutProcessor.from_pretrained(\"C:/final_project/donut_hadwritten\")\n",
    "processor.image_processor.size = {\n",
    "    \"height\": CFG.image_height,\n",
    "    \"width\": CFG.image_width,\n",
    "}"
   ]
  },
  {
   "cell_type": "markdown",
   "metadata": {
    "id": "VV6-5qRqTb9I"
   },
   "source": [
    "## 토크나이징"
   ]
  },
  {
   "cell_type": "code",
   "execution_count": 21,
   "metadata": {
    "executionInfo": {
     "elapsed": 26,
     "status": "ok",
     "timestamp": 1689839420893,
     "user": {
      "displayName": "낭만AI",
      "userId": "15141833767579605424"
     },
     "user_tz": -540
    },
    "id": "4bbrJSMqqSNi",
    "tags": []
   },
   "outputs": [],
   "source": [
    "tree = elemTree.parse('C:/final_project/kr-img2latex/vocab/tex_list.xml')\n",
    "keywords = tree.find('AutoComplete').findall('KeyWord')\n",
    "math_tokens = ['\\\\' + x.get('name') for x in keywords]"
   ]
  },
  {
   "cell_type": "code",
   "execution_count": 22,
   "metadata": {
    "colab": {
     "base_uri": "https://localhost:8080/"
    },
    "executionInfo": {
     "elapsed": 27,
     "status": "ok",
     "timestamp": 1689839420894,
     "user": {
      "displayName": "낭만AI",
      "userId": "15141833767579605424"
     },
     "user_tz": -540
    },
    "id": "dtcVk_0yUzJD",
    "outputId": "583b9449-8dee-43c4-fd5d-ec58a1b4acd3",
    "tags": []
   },
   "outputs": [
    {
     "data": {
      "text/plain": [
       "True"
      ]
     },
     "execution_count": 22,
     "metadata": {},
     "output_type": "execute_result"
    }
   ],
   "source": [
    "'\\\\int' in math_tokens"
   ]
  },
  {
   "cell_type": "code",
   "execution_count": 23,
   "metadata": {
    "colab": {
     "base_uri": "https://localhost:8080/"
    },
    "executionInfo": {
     "elapsed": 23,
     "status": "ok",
     "timestamp": 1689839420894,
     "user": {
      "displayName": "낭만AI",
      "userId": "15141833767579605424"
     },
     "user_tz": -540
    },
    "id": "1nteiR-w5JHQ",
    "outputId": "d18fb3e4-79e8-4be7-ec1d-f0645bdcf873",
    "tags": []
   },
   "outputs": [
    {
     "data": {
      "text/plain": [
       "['\\\\Alph',\n",
       " '\\\\Alpha',\n",
       " '\\\\AltMacroFont',\n",
       " '\\\\AmSTeX',\n",
       " '\\\\Appendix',\n",
       " '\\\\Arrowvert',\n",
       " '\\\\AtBeginDocument',\n",
       " '\\\\AtEndClass',\n",
       " '\\\\AtEndDocument',\n",
       " '\\\\AtEndOfClass']"
      ]
     },
     "execution_count": 23,
     "metadata": {},
     "output_type": "execute_result"
    }
   ],
   "source": [
    "math_tokens[:10]"
   ]
  },
  {
   "cell_type": "markdown",
   "metadata": {
    "id": "FBu8ic0UUb2M"
   },
   "source": [
    "### UNK 토큰 핸들링"
   ]
  },
  {
   "cell_type": "code",
   "execution_count": 24,
   "metadata": {
    "colab": {
     "base_uri": "https://localhost:8080/",
     "height": 17,
     "referenced_widgets": [
      "2fa901ba780347f8a38dd5d102c92fa8",
      "f2aa1756e16d4a669f60df7d20292b77",
      "b3a54a97220f4a288ca52035da239df1",
      "214c7174272d4f439ba0f2ae86ab90cf",
      "4b74417f54344fc6992030cea3dc33f2",
      "2c5c2867c0d6444bad036f4e849fee29",
      "e195eb7eb4ff45ceb4265e79bef75e63",
      "7e05b0956d1644ffb3e218e8cff50153",
      "6e7565f68e8f41cd965ec049628ab75b",
      "ba73e64d1edc4700b9f3bb9c2a5b0acd",
      "1aa3da00b66240a5ac35e5a4953c55bf"
     ]
    },
    "executionInfo": {
     "elapsed": 18355,
     "status": "ok",
     "timestamp": 1689840126985,
     "user": {
      "displayName": "낭만AI",
      "userId": "15141833767579605424"
     },
     "user_tz": -540
    },
    "id": "h5xnlNSVcU2U",
    "outputId": "82c7a9b2-d22e-42c5-96b5-aaea20bd3f1b",
    "tags": []
   },
   "outputs": [
    {
     "name": "stderr",
     "output_type": "stream",
     "text": [
      "Loading cached processed dataset at C:\\Users\\W7\\.cache\\huggingface\\datasets\\generator\\default-208616f240ca63c5\\0.0.0\\cache-1ffa76b098d22b35.arrow\n"
     ]
    }
   ],
   "source": [
    "def check_for_unk(examples: Dict[str, str]) -> Dict[str, List[str]]:\n",
    "    \"\"\"\n",
    "    Check for unknown tokens in the given examples.\n",
    "\n",
    "    This function takes a dictionary containing a list of ground truth texts and\n",
    "    tokenizes them using the processor's tokenizer. It then checks for any unknown\n",
    "    tokens in the tokenized text and returns a dictionary containing a list of the\n",
    "    unknown tokens for each example.\n",
    "\n",
    "    Args:\n",
    "        examples (dict): A dictionary containing a list of ground truth texts.\n",
    "            Example: {\"ground_truth\": [\"text1\", \"text2\", ...]}\n",
    "\n",
    "    Returns:\n",
    "        dict: A dictionary containing a list of unknown tokens for each example.\n",
    "            Example: {\"unk_tokens\": [[\"unk1\", \"unk2\"], [], [\"unk3\"], ...]}\n",
    "    \"\"\"\n",
    "\n",
    "    texts = examples[\"ground_truth\"]\n",
    "\n",
    "    ids = processor.tokenizer(texts).input_ids\n",
    "    tokens = [processor.tokenizer.tokenize(x, add_special_tokens=True) for x in texts]\n",
    "\n",
    "    unk_tokens = []\n",
    "    for example_ids, example_tokens in zip(ids, tokens):\n",
    "        example_unk_tokens = []\n",
    "        for i in range(len(example_ids)):\n",
    "            if example_ids[i] == processor.tokenizer.unk_token_id:\n",
    "                example_unk_tokens.append(example_tokens[i])\n",
    "\n",
    "        unk_tokens.append(example_unk_tokens)\n",
    "\n",
    "    return {\"unk_tokens\": unk_tokens}\n",
    "\n",
    "\n",
    "unk = ds.map(check_for_unk, batched=True, num_proc=CFG.num_proc)"
   ]
  },
  {
   "cell_type": "code",
   "execution_count": 25,
   "metadata": {
    "colab": {
     "base_uri": "https://localhost:8080/"
    },
    "executionInfo": {
     "elapsed": 18,
     "status": "ok",
     "timestamp": 1689839420895,
     "user": {
      "displayName": "낭만AI",
      "userId": "15141833767579605424"
     },
     "user_tz": -540
    },
    "id": "HZ9oS0cScUx3",
    "outputId": "8203d123-6198-4a6b-f891-82746a7bad81",
    "tags": []
   },
   "outputs": [
    {
     "name": "stderr",
     "output_type": "stream",
     "text": [
      "Loading cached processed dataset at C:\\Users\\W7\\.cache\\huggingface\\datasets\\generator\\default-208616f240ca63c5\\0.0.0\\cache-00209bad3cde65dc.arrow\n"
     ]
    },
    {
     "name": "stdout",
     "output_type": "stream",
     "text": [
      "29559\n"
     ]
    },
    {
     "data": {
      "text/plain": [
       "{'ground_truth': '<TPT><hand><line><latex>\\\\displaystyle y={x}^{2}-2ax+9={(x-a)}^{2}+9-{a}^{2}</latex>의 꼭짓점의 좌표가</line><line><latex>\\\\displaystyle (a,9-{a}^{2})</latex> 이므로 <latex>\\\\displaystyle y</latex>축에 대해 대칭이동한 점의 좌표는</line><line><latex>\\\\displaystyle (-a, 9-{a}^{2})</latex>이다.  따라서 </line><line><latex>9-a^{2}=-a+5</latex></line><line><latex>a^{2}-a-4=0</latex></line><line>이므로 <latex>\\\\displaystyle a=\\\\frac{1 \\\\pm \\\\sqrt{17}}{2}</latex> 이다. <latex>\\\\displaystyle a</latex>는 양수이므로 <latex>\\\\displaystyle a=\\\\frac{1+\\\\sqrt{17}}{2}</latex> 이다.</line><line><latex>\\\\frac{1+\\\\sqrt{17}}{2}</latex></line>',\n",
       " 'material_type': '손글씨',\n",
       " 'id': '4f7d54c8-2693-4cf8-aed1-440694eb4dfd',\n",
       " 'image_path': 'C:/final_project/kr-img2latex/data/train/images\\\\M_HA_h1_1010_00008.png',\n",
       " 'width': 847,\n",
       " 'height': 1200,\n",
       " 'unk_tokens': ['좌', '좌', '1', '1', '1']}"
      ]
     },
     "execution_count": 25,
     "metadata": {},
     "output_type": "execute_result"
    }
   ],
   "source": [
    "# Let's look at only the examples with unknown tokens\n",
    "unk = unk.filter(lambda x: len(x[\"unk_tokens\"]) > 0, num_proc=CFG.num_proc)\n",
    "\n",
    "print(len(unk))\n",
    "\n",
    "unk[0]"
   ]
  },
  {
   "cell_type": "code",
   "execution_count": 26,
   "metadata": {
    "executionInfo": {
     "elapsed": 16,
     "status": "ok",
     "timestamp": 1689839420895,
     "user": {
      "displayName": "낭만AI",
      "userId": "15141833767579605424"
     },
     "user_tz": -540
    },
    "id": "VO_hOL_kcz7H",
    "tags": []
   },
   "outputs": [],
   "source": [
    "all_unk_tokens = [x for y in unk[\"unk_tokens\"] for x in y]\n",
    "\n",
    "# Counter(all_unk_tokens)"
   ]
  },
  {
   "cell_type": "code",
   "execution_count": 27,
   "metadata": {
    "executionInfo": {
     "elapsed": 16,
     "status": "ok",
     "timestamp": 1689839420895,
     "user": {
      "displayName": "낭만AI",
      "userId": "15141833767579605424"
     },
     "user_tz": -540
    },
    "id": "bFmYJttmt7OH",
    "tags": []
   },
   "outputs": [],
   "source": [
    "text_unk_tokens = list(set(all_unk_tokens))\n",
    "text_unk_tokens.remove('1')"
   ]
  },
  {
   "cell_type": "code",
   "execution_count": 28,
   "metadata": {
    "colab": {
     "base_uri": "https://localhost:8080/"
    },
    "executionInfo": {
     "elapsed": 16,
     "status": "ok",
     "timestamp": 1689839420895,
     "user": {
      "displayName": "낭만AI",
      "userId": "15141833767579605424"
     },
     "user_tz": -540
    },
    "id": "jb9q2MJ7ebFR",
    "outputId": "aa552c1a-0c63-4731-ad26-4eef1bdc6d99",
    "tags": []
   },
   "outputs": [
    {
     "name": "stdout",
     "output_type": "stream",
     "text": [
      "2489 tokens added\n"
     ]
    }
   ],
   "source": [
    "# 토큰 추가하기\n",
    "num_added = processor.tokenizer.add_tokens([\"<one>\"] + new_tokens + math_tokens + text_unk_tokens)\n",
    "print(num_added, \"tokens added\")"
   ]
  },
  {
   "cell_type": "code",
   "execution_count": 29,
   "metadata": {
    "colab": {
     "base_uri": "https://localhost:8080/"
    },
    "executionInfo": {
     "elapsed": 14,
     "status": "ok",
     "timestamp": 1689839420895,
     "user": {
      "displayName": "낭만AI",
      "userId": "15141833767579605424"
     },
     "user_tz": -540
    },
    "id": "ZmF1KNa4eUUM",
    "outputId": "748c7fc6-4daf-4733-ec83-f194e17056ac",
    "tags": []
   },
   "outputs": [
    {
     "name": "stdout",
     "output_type": "stream",
     "text": [
      "ids: [0, 57541, 57546, 57542, 57544, 40769, 7690, 40392, 9026, 40392, 11938, 9026, 58311, 1741, 3, 52613, 32650, 56548, 52613, 7690, 40392, 45391, 43440, 40392, 36966, 35815, 35934, 35815, 52872, 35815, 40711, 57545, 57543, 2]\n",
      "tokenized: ['<TPT>', '<hand>', '<line>', '<latex>', '▁P', '(', 'x', '=', 'x', ')', '=', '\\\\frac', '▁{', '1', '}', '{', '10', '}', '(', 'x', '-1', ')(', 'x', '=1', ',', '2', ',', '3,4', ',', '5)', '</latex>', '</line>']\n",
      "decoded: <s><TPT><hand><line><latex> P(x=x)=\\frac {<unk>}{10}(x-1)(x=1,2,3,4,5)</latex></line></s>\n",
      "unk id: 3\n"
     ]
    }
   ],
   "source": [
    "example_str = \"<TPT><hand><line><latex>P(x=x)=\\\\frac{1}{10}(x-1)(x=1,2,3,4,5)</latex></line>\"\n",
    "\n",
    "temp_ids = processor.tokenizer(example_str).input_ids\n",
    "print(\"ids:\", temp_ids)\n",
    "print(\"tokenized:\", processor.tokenizer.tokenize(example_str))\n",
    "print(\"decoded:\", processor.tokenizer.decode(temp_ids))\n",
    "print(\"unk id:\", processor.tokenizer.unk_token_id)"
   ]
  },
  {
   "cell_type": "code",
   "execution_count": 30,
   "metadata": {
    "executionInfo": {
     "elapsed": 13,
     "status": "ok",
     "timestamp": 1689839420896,
     "user": {
      "displayName": "낭만AI",
      "userId": "15141833767579605424"
     },
     "user_tz": -540
    },
    "id": "nSrz3DKMzXuQ",
    "tags": []
   },
   "outputs": [],
   "source": [
    "config.pad_token_id = processor.tokenizer.pad_token_id\n",
    "config.decoder_start_token_id = processor.tokenizer.convert_tokens_to_ids([PROMPT_TOKEN])[0]\n",
    "#"
   ]
  },
  {
   "cell_type": "markdown",
   "metadata": {
    "id": "EwQnWDN9uRPI"
   },
   "source": [
    "## Pixel Value, Input Id 전처리"
   ]
  },
  {
   "cell_type": "code",
   "execution_count": 31,
   "metadata": {
    "executionInfo": {
     "elapsed": 13,
     "status": "ok",
     "timestamp": 1689839420896,
     "user": {
      "displayName": "낭만AI",
      "userId": "15141833767579605424"
     },
     "user_tz": -540
    },
    "id": "WSj4kgtEuVLi",
    "tags": []
   },
   "outputs": [],
   "source": [
    "from functools import partial\n",
    "\n",
    "one_token_id = processor.tokenizer(\"<one>\", add_special_tokens=False).input_ids[0]\n",
    "unk_token_id = processor.tokenizer.unk_token_id\n",
    "\n",
    "\n",
    "def replace_unk_one_tokens_with_one(example_ids: List[int], example_tokens: List[str], one_token_id:int, unk_token_id:int) -> List[int]:\n",
    "    \"\"\"\n",
    "    Replace unknown tokens that represent \"1\" with the correct token id.\n",
    "\n",
    "    Args:\n",
    "        example_ids (list): List of token ids for a given example\n",
    "        example_tokens (list): List of tokens for the same given example\n",
    "        one_token_id (int): Token id for the \"<one>\" token\n",
    "        unk_token_id (int): Token id for the unknown token\n",
    "\n",
    "    Returns:\n",
    "        list: The updated list of token ids with the correct token id for \"1\"\n",
    "    \"\"\"\n",
    "\n",
    "    temp_ids = []\n",
    "    for id_, token in zip(example_ids, example_tokens):\n",
    "        if id_ == unk_token_id and token == \"1\":\n",
    "            id_ = one_token_id\n",
    "        temp_ids.append(id_)\n",
    "    return temp_ids\n",
    "\n",
    "\n",
    "def preprocess(examples: Dict[str, str], processor: DonutProcessor, CFG: CFG) -> Dict[str, Union[torch.Tensor, List[int], List[str]]]:\n",
    "    \"\"\"\n",
    "    Preprocess the given examples.\n",
    "\n",
    "    This function processes the input examples by tokenizing the texts, replacing\n",
    "    any unknown tokens that represent \"1\" with the correct token id, and loading\n",
    "    the images.\n",
    "\n",
    "    Args:\n",
    "        examples (dict): A dictionary containing ground truth texts, image paths, and ids\n",
    "        processor: An object responsible for tokenizing texts and processing images\n",
    "        CFG: A configuration object containing settings and hyperparameters\n",
    "\n",
    "    Returns:\n",
    "        dict: A dictionary containing preprocessed images, token ids, and ids\n",
    "    \"\"\"\n",
    "\n",
    "    pixel_values = []\n",
    "\n",
    "    texts = examples[\"ground_truth\"]\n",
    "\n",
    "    ids = processor.tokenizer(\n",
    "        texts,\n",
    "        add_special_tokens=False,\n",
    "        max_length=CFG.max_length,\n",
    "        padding=True,\n",
    "        truncation=True,\n",
    "    ).input_ids\n",
    "\n",
    "    if isinstance(texts, str):\n",
    "        texts = [texts]\n",
    "\n",
    "    tokens = [processor.tokenizer.tokenize(text, add_special_tokens=False) for text in texts]\n",
    "\n",
    "    one_token_id = processor.tokenizer(\"<one>\", add_special_tokens=False).input_ids[0]\n",
    "    unk_token_id = processor.tokenizer.unk_token_id\n",
    "\n",
    "    final_ids = [\n",
    "        replace_unk_one_tokens_with_one(example_ids, example_tokens, one_token_id, unk_token_id)\n",
    "        for example_ids, example_tokens in zip(ids, tokens)\n",
    "    ]\n",
    "\n",
    "    for sample in examples[\"image_path\"]:\n",
    "        pixel_values.append(processor(sample.convert(\"RGB\").resize((CFG.image_width,CFG.image_height)), random_padding=True).pixel_values)\n",
    "\n",
    "    return {\n",
    "        \"pixel_values\": torch.tensor(np.vstack(pixel_values)),\n",
    "        \"input_ids\": final_ids,\n",
    "        \"id\": examples[\"id\"],\n",
    "    }\n",
    "\n",
    "\n",
    "image_ds = ds.cast_column(\"image_path\", ds_img())\n",
    "image_ds.set_transform(partial(preprocess, processor=processor, CFG=CFG))"
   ]
  },
  {
   "cell_type": "code",
   "execution_count": 32,
   "metadata": {
    "colab": {
     "base_uri": "https://localhost:8080/"
    },
    "executionInfo": {
     "elapsed": 12,
     "status": "ok",
     "timestamp": 1689839420896,
     "user": {
      "displayName": "낭만AI",
      "userId": "15141833767579605424"
     },
     "user_tz": -540
    },
    "id": "EdFNqlE_uXmb",
    "outputId": "9cdec054-5d93-4208-abd9-a00685b4d087",
    "tags": []
   },
   "outputs": [
    {
     "name": "stdout",
     "output_type": "stream",
     "text": [
      "torch.Size([3, 3, 480, 480])\n",
      "<TPT><hand><line><latex> x^{2}+y^{2}-6 x+4 y=0.</latex></line><line><latex> (x-3)^{2}+(y+2)^{2}=13.</latex></line><line> 원의 중심이 <latex>\\displaystyle (3,-2)</latex> 이므로</line><line><latex>\\displaystyle a=-3, b=2</latex> 이다.</line><line> 반지름은 같 으므로 <latex> c=13</latex> 이다.\n",
      "100\n",
      "['<TPT>', '<hand>', '<line>', '<latex>', '▁x', '^', '{', '2', '}', '+', 'y', '^', '{', '2', '}', '-6', '▁x', '+', '4', '▁y', '=', '0', '▁', '.', '</latex>', '</line>', '<line>', '<latex>', '▁(', 'x', '-3', ')', '^', '{', '2', '}', '+', '(', 'y', '+2', ')', '^', '{', '2', '}', '=', '13', '▁', '.', '</latex>', '</line>', '<line>', '▁원', '의', '▁중심', '이', '▁', '<latex>', '\\\\displaystyle', '▁(3', ',', '-', '2)', '</latex>', '▁이', '므로', '</line>', '<line>', '<latex>', '\\\\displaystyle', '▁a', '=', '-3', ',', '▁b', '=2', '</latex>', '▁', '이다', '.', '</line>', '<line>', '▁반', '지', '름', '은', '▁', '같', '▁', '으', '므로', '▁', '<latex>', '▁c', '=', '13', '</latex>', '▁', '이다', '.']\n"
     ]
    }
   ],
   "source": [
    "sample = image_ds[[0, 1, 2]]\n",
    "\n",
    "print(sample[\"pixel_values\"].shape)\n",
    "print(processor.decode(sample[\"input_ids\"][2]))\n",
    "print(len(sample[\"input_ids\"][2]))\n",
    "print(processor.tokenizer.convert_ids_to_tokens(sample[\"input_ids\"][2]))"
   ]
  },
  {
   "cell_type": "code",
   "execution_count": 33,
   "metadata": {
    "colab": {
     "base_uri": "https://localhost:8080/",
     "height": 490
    },
    "executionInfo": {
     "elapsed": 1380,
     "status": "ok",
     "timestamp": 1689839422266,
     "user": {
      "displayName": "낭만AI",
      "userId": "15141833767579605424"
     },
     "user_tz": -540
    },
    "id": "B-mtoIeDzFpG",
    "outputId": "7cccaac6-8f1f-4402-f469-d3996a068e39",
    "tags": []
   },
   "outputs": [
    {
     "name": "stderr",
     "output_type": "stream",
     "text": [
      "Clipping input data to the valid range for imshow with RGB data ([0..1] for floats or [0..255] for integers).\n"
     ]
    },
    {
     "data": {
      "text/plain": [
       "<matplotlib.image.AxesImage at 0x223def13f40>"
      ]
     },
     "execution_count": 33,
     "metadata": {},
     "output_type": "execute_result"
    },
    {
     "data": {
      "image/png": "[encoded data removed]",
      "text/plain": [
       "<Figure size 640x480 with 1 Axes>"
      ]
     },
     "metadata": {},
     "output_type": "display_data"
    }
   ],
   "source": [
    "plt.imshow(sample[\"pixel_values\"][0].permute(1,2,0))"
   ]
  },
  {
   "cell_type": "markdown",
   "metadata": {
    "id": "JEjezB9N0sCH"
   },
   "source": [
    "## Splits 만들기"
   ]
  },
  {
   "cell_type": "code",
   "execution_count": 34,
   "metadata": {
    "executionInfo": {
     "elapsed": 9,
     "status": "ok",
     "timestamp": 1689839422266,
     "user": {
      "displayName": "낭만AI",
      "userId": "15141833767579605424"
     },
     "user_tz": -540
    },
    "id": "Gi3Lh4E-8lyt",
    "tags": []
   },
   "outputs": [],
   "source": [
    "# # train_test_split 사용하는 방법\n",
    "#from sklearn.model_selection import train_test_split\n",
    "\n",
    "#traIn_ds, val_ds = train_test_split(ds, test_size=0.1, random_state=CFG.seed)\n",
    "\n",
    "#train_ds = traIn_ds.cast_column(\"image_path\", ds_img())\n",
    "#train_ds.set_transform(partial(preprocess, processor=processor, CFG=CFG))\n",
    "\n",
    "#val_gt_ds = val_ds\n",
    "#val_ds = val_ds.cast_column(\"image_path\", ds_img())\n",
    "#val_ds.set_transform(partial(preprocess, processor=processor, CFG=CFG))"
   ]
  },
  {
   "cell_type": "code",
   "execution_count": 35,
   "metadata": {
    "executionInfo": {
     "elapsed": 9,
     "status": "ok",
     "timestamp": 1689839422266,
     "user": {
      "displayName": "낭만AI",
      "userId": "15141833767579605424"
     },
     "user_tz": -540
    },
    "id": "wfEpLTY71Sa5",
    "tags": []
   },
   "outputs": [],
   "source": [
    "skf = StratifiedKFold(n_splits=80)\n",
    "\n",
    "fold_idxs = []\n",
    "\n",
    "for _, val_idxs in skf.split(ds[\"material_type\"], y=ds[\"material_type\"]):\n",
    "    fold_idxs.append(val_idxs)"
   ]
  },
  {
   "cell_type": "code",
   "execution_count": 36,
   "metadata": {
    "colab": {
     "base_uri": "https://localhost:8080/"
    },
    "executionInfo": {
     "elapsed": 10,
     "status": "ok",
     "timestamp": 1689839422267,
     "user": {
      "displayName": "낭만AI",
      "userId": "15141833767579605424"
     },
     "user_tz": -540
    },
    "id": "-D59DGmD-8Nz",
    "outputId": "ae0c8b35-bc0d-4961-8d65-95635db0a644",
    "tags": []
   },
   "outputs": [
    {
     "data": {
      "text/plain": [
       "[array([    0,     1,     2, ..., 97657, 97658, 97659]),\n",
       " array([ 1217,  1218,  1219, ..., 98029, 98030, 98031]),\n",
       " array([ 2434,  2435,  2436, ..., 98401, 98402, 98403]),\n",
       " array([ 3651,  3652,  3653, ..., 98773, 98774, 98775]),\n",
       " array([ 4868,  4869,  4870, ..., 99145, 99146, 99147]),\n",
       " array([ 6085,  6086,  6087, ..., 99517, 99518, 99519]),\n",
       " array([ 7302,  7303,  7304, ..., 99889, 99890, 99891]),\n",
       " array([  8519,   8520,   8521, ..., 100261, 100262, 100263]),\n",
       " array([  9736,   9737,   9738, ..., 100634, 100635, 100636]),\n",
       " array([ 10952,  10953,  10954, ..., 101007, 101008, 101009]),\n",
       " array([ 12168,  12169,  12170, ..., 101380, 101381, 101382]),\n",
       " array([ 13384,  13385,  13386, ..., 101753, 101754, 101755]),\n",
       " array([ 14600,  14601,  14602, ..., 102126, 102127, 102128]),\n",
       " array([ 15816,  15817,  15818, ..., 102499, 102500, 102501]),\n",
       " array([ 17032,  17033,  17034, ..., 102872, 102873, 102874]),\n",
       " array([ 18248,  18249,  18250, ..., 103245, 103246, 103247]),\n",
       " array([ 19464,  19465,  19466, ..., 103618, 103619, 103620]),\n",
       " array([ 20680,  20681,  20682, ..., 103991, 103992, 103993]),\n",
       " array([ 21896,  21897,  21898, ..., 104364, 104365, 104366]),\n",
       " array([ 23112,  23113,  23114, ..., 104737, 104738, 104739]),\n",
       " array([ 24328,  24329,  24330, ..., 105109, 105110, 105111]),\n",
       " array([ 25544,  25545,  25546, ..., 105481, 105482, 105483]),\n",
       " array([ 26760,  26761,  26762, ..., 105853, 105854, 105855]),\n",
       " array([ 27976,  27977,  27978, ..., 106225, 106226, 106227]),\n",
       " array([ 29192,  29193,  29194, ..., 106597, 106598, 106599]),\n",
       " array([ 30408,  30409,  30410, ..., 106969, 106970, 106971]),\n",
       " array([ 31624,  31625,  31626, ..., 107341, 107342, 107343]),\n",
       " array([ 32840,  32841,  32842, ..., 107713, 107714, 107715]),\n",
       " array([ 34056,  34057,  34058, ..., 108085, 108086, 108087]),\n",
       " array([ 35272,  35273,  35274, ..., 108457, 108458, 108459]),\n",
       " array([ 36488,  36489,  36490, ..., 108829, 108830, 108831]),\n",
       " array([ 37704,  37705,  37706, ..., 109201, 109202, 109203]),\n",
       " array([ 38920,  38921,  38922, ..., 109573, 109574, 109575]),\n",
       " array([ 40136,  40137,  40138, ..., 109945, 109946, 109947]),\n",
       " array([ 41352,  41353,  41354, ..., 110317, 110318, 110319]),\n",
       " array([ 42568,  42569,  42570, ..., 110689, 110690, 110691]),\n",
       " array([ 43784,  43785,  43786, ..., 111061, 111062, 111063]),\n",
       " array([ 45000,  45001,  45002, ..., 111433, 111434, 111435]),\n",
       " array([ 46216,  46217,  46218, ..., 111805, 111806, 111807]),\n",
       " array([ 47432,  47433,  47434, ..., 112177, 112178, 112179]),\n",
       " array([ 48648,  48649,  48650, ..., 112549, 112550, 112551]),\n",
       " array([ 49864,  49865,  49866, ..., 112921, 112922, 112923]),\n",
       " array([ 51080,  51081,  51082, ..., 113293, 113294, 113295]),\n",
       " array([ 52296,  52297,  52298, ..., 113665, 113666, 113667]),\n",
       " array([ 53512,  53513,  53514, ..., 114037, 114038, 114039]),\n",
       " array([ 54728,  54729,  54730, ..., 114409, 114410, 114411]),\n",
       " array([ 55944,  55945,  55946, ..., 114781, 114782, 114783]),\n",
       " array([ 57160,  57161,  57162, ..., 115153, 115154, 115155]),\n",
       " array([ 58376,  58377,  58378, ..., 115525, 115526, 115527]),\n",
       " array([ 59592,  59593,  59594, ..., 115897, 115898, 115899]),\n",
       " array([ 60808,  60809,  60810, ..., 116269, 116270, 116271]),\n",
       " array([ 62024,  62025,  62026, ..., 116641, 116642, 116643]),\n",
       " array([ 63240,  63241,  63242, ..., 117013, 117014, 117015]),\n",
       " array([ 64456,  64457,  64458, ..., 117385, 117386, 117387]),\n",
       " array([ 65672,  65673,  65674, ..., 117757, 117758, 117759]),\n",
       " array([ 66888,  66889,  66890, ..., 118129, 118130, 118131]),\n",
       " array([ 68104,  68105,  68106, ..., 118501, 118502, 118503]),\n",
       " array([ 69320,  69321,  69322, ..., 118873, 118874, 118875]),\n",
       " array([ 70536,  70537,  70538, ..., 119245, 119246, 119247]),\n",
       " array([ 71752,  71753,  71754, ..., 119617, 119618, 119619]),\n",
       " array([ 72968,  72969,  72970, ..., 119989, 119990, 119991]),\n",
       " array([ 74184,  74185,  74186, ..., 120361, 120362, 120363]),\n",
       " array([ 75400,  75401,  75402, ..., 120733, 120734, 120735]),\n",
       " array([ 76616,  76617,  76618, ..., 121105, 121106, 121107]),\n",
       " array([ 77832,  77833,  77834, ..., 121477, 121478, 121479]),\n",
       " array([ 79048,  79049,  79050, ..., 121849, 121850, 121851]),\n",
       " array([ 80264,  80265,  80266, ..., 122221, 122222, 122223]),\n",
       " array([ 81480,  81481,  81482, ..., 122593, 122594, 122595]),\n",
       " array([ 82696,  82697,  82698, ..., 122965, 122966, 122967]),\n",
       " array([ 83912,  83913,  83914, ..., 123337, 123338, 123339]),\n",
       " array([ 85128,  85129,  85130, ..., 123709, 123710, 123711]),\n",
       " array([ 86344,  86345,  86346, ..., 124081, 124082, 124083]),\n",
       " array([ 87560,  87561,  87562, ..., 124453, 124454, 124455]),\n",
       " array([ 88776,  88777,  88778, ..., 124825, 124826, 124827]),\n",
       " array([ 89992,  89993,  89994, ..., 125197, 125198, 125199]),\n",
       " array([ 91208,  91209,  91210, ..., 125569, 125570, 125571]),\n",
       " array([ 92424,  92425,  92426, ..., 125941, 125942, 125943]),\n",
       " array([ 93640,  93641,  93642, ..., 126313, 126314, 126315]),\n",
       " array([ 94856,  94857,  94858, ..., 126685, 126686, 126687]),\n",
       " array([ 96072,  96073,  96074, ..., 127057, 127058, 127059])]"
      ]
     },
     "execution_count": 36,
     "metadata": {},
     "output_type": "execute_result"
    }
   ],
   "source": [
    "fold_idxs"
   ]
  },
  {
   "cell_type": "code",
   "execution_count": 37,
   "metadata": {
    "colab": {
     "base_uri": "https://localhost:8080/"
    },
    "executionInfo": {
     "elapsed": 16831,
     "status": "ok",
     "timestamp": 1689839439091,
     "user": {
      "displayName": "낭만AI",
      "userId": "15141833767579605424"
     },
     "user_tz": -540
    },
    "id": "VKHAc0E33wYz",
    "outputId": "727879a0-ae74-46d9-c48c-002610609c30",
    "tags": []
   },
   "outputs": [
    {
     "name": "stdout",
     "output_type": "stream",
     "text": [
      "손글씨\n",
      "<TPT><hand><line><latex>\\displaystyle x</latex>축에 대해 대칭이동하면, <latex>\\displaystyle y</latex>대신 <latex>\\displaystyle -y</latex>대입.</line><line><latex>a x-y+6=0</latex></line><line>원점대칭하면,  <latex>\\displaystyle x</latex>대신 <latex>\\displaystyle -x, \\; y</latex> 대신 <latex>\\displaystyle -y</latex> 대입.</line><line><latex>-a x+y-6=0</latex> .</line><line><latex>\\displaystyle (1,-3)</latex>을   지나므로,</line><line><latex>-a-3-6=0</latex></line><line><latex>a=-9 .</latex></line><line><latex>-9</latex></line>\n",
      "8d93cb01-56fe-4323-9722-712557a0080b\n",
      "Counter({'손글씨': 1217, '인쇄체': 372})\n"
     ]
    }
   ],
   "source": [
    "fold = 0\n",
    "train_extracted = ds.select(\n",
    "    list(chain(*[x for i, x in enumerate(fold_idxs) if i != fold]))\n",
    ")\n",
    "\n",
    "train_ds = train_extracted.cast_column(\"image_path\", ds_img())\n",
    "train_ds.set_transform(partial(preprocess, processor=processor, CFG=CFG))\n",
    "\n",
    "val_gt_ds = ds.select(fold_idxs[fold])\n",
    "val_ds = val_gt_ds.cast_column(\"image_path\", ds_img())\n",
    "val_ds.set_transform(partial(preprocess, processor=processor, CFG=CFG))\n",
    "\n",
    "gt_material_type = val_gt_ds[\"material_type\"]\n",
    "gt_texts = val_gt_ds['ground_truth']\n",
    "gt_ids = val_gt_ds[\"id\"]\n",
    "\n",
    "i = 0\n",
    "print(gt_material_type[i])\n",
    "print(gt_texts[i])\n",
    "print(gt_ids[i])\n",
    "print(Counter(gt_material_type))"
   ]
  },
  {
   "cell_type": "markdown",
   "metadata": {
    "id": "EXHzRcJD4j95"
   },
   "source": [
    "## `ids` 가 batch 마다 전부 같은 길이를 가지도록 하는 collate function"
   ]
  },
  {
   "cell_type": "code",
   "execution_count": 58,
   "metadata": {
    "executionInfo": {
     "elapsed": 7,
     "status": "ok",
     "timestamp": 1689839439092,
     "user": {
      "displayName": "낭만AI",
      "userId": "15141833767579605424"
     },
     "user_tz": -540
    },
    "id": "6y6ip1U14l53",
    "tags": []
   },
   "outputs": [],
   "source": [
    "pad_token_id = processor.tokenizer.pad_token_id\n",
    "import numpy as np\n",
    "from PIL import Image\n",
    "import easyocr\n",
    "reader = easyocr.Reader(['en', 'ko'])\n",
    "# Assuming 'tensor' is your NumPy array representing the image\n",
    "# Make sure the tensor is in the correct shape and data type (e.g., uint8 for RGB images)\n",
    "# If it's a PyTorch tensor, you can convert it to NumPy using tensor.cpu().numpy()\n",
    "\n",
    "# Convert the tensor to an image\n",
    "\n",
    "def collate_fn(samples: List[Dict[str, Union[torch.Tensor, List[int], str]]]) -> Dict[str, Union[torch.Tensor, List[str]]]:\n",
    "    \"\"\"\n",
    "    Custom collate function for DataLoader.\n",
    "\n",
    "    This function takes a list of samples and combines them into a batch with\n",
    "    properly padded input_ids.\n",
    "\n",
    "    Args:\n",
    "        samples (List[Dict[str, Union[torch.Tensor, List[int], str]]]):\n",
    "            A list of samples, where each sample is a dictionary containing\n",
    "            \"pixel_values\" (torch.Tensor), \"input_ids\" (List[int]), and \"id\" (str).\n",
    "\n",
    "    Returns:\n",
    "        Dict[str, Union[torch.Tensor, List[str]]]:\n",
    "            A dictionary containing the combined pixel values, padded input_ids, and ids.\n",
    "    \"\"\"\n",
    "    ocr_text_length = 0\n",
    "    for x in samples:\n",
    "        tensor_data = torch.tensor(x[\"pixel_values\"])\n",
    "\n",
    "        # Convert the tensor data from the range [-1, 1] to the range [0, 1]\n",
    "        tensor_data = (tensor_data + 1) / 2\n",
    "\n",
    "        # Convert the tensor to a NumPy array and scale it to the range [0, 255]\n",
    "        numpy_array = (tensor_data * 255).clamp(0, 255).to(torch.uint8).numpy()\n",
    "        image = Image.fromarray(numpy_array.transpose(1, 2, 0))\n",
    "        numpy_image = np.array(image)\n",
    "\n",
    "        result = reader.readtext(numpy_image)\n",
    "        # Perform OCR on the image\n",
    "        text = \"\"\n",
    "        for detection in result:\n",
    "            text += detection[1] + \" \"\n",
    "        # Calculate the length of the OCR text (number of characters)\n",
    "        ocr_text_length = len(text)\n",
    "        if ocr_text_length < 5:\n",
    "            ocr_text_length = 15\n",
    "        else:\n",
    "            ocr_text_length = int(ocr_text_length * 1.4)\n",
    "\n",
    "    CFG.max_length = ocr_text_length    \n",
    "\n",
    "    batch = {}\n",
    "\n",
    "    batch[\"pixel_values\"] = torch.stack([x[\"pixel_values\"] for x in samples])\n",
    "\n",
    "    max_length = max([len(x[\"input_ids\"]) for x in samples])\n",
    "\n",
    "    # Make a multiple of 8 to efficiently use the tensor cores\n",
    "    if max_length % 8 != 0:\n",
    "        max_length = (max_length // 8 + 1) * 8\n",
    "\n",
    "    input_ids = [\n",
    "        x[\"input_ids\"] + [pad_token_id] * (max_length - len(x[\"input_ids\"]))\n",
    "        for x in samples\n",
    "    ]\n",
    "    labels = torch.tensor(input_ids)\n",
    "    labels[labels == pad_token_id] = -100 # ignore loss on padding tokens\n",
    "    batch[\"labels\"] = labels\n",
    "\n",
    "    batch[\"id\"] = [x[\"id\"] for x in samples]\n",
    "\n",
    "    return batch"
   ]
  },
  {
   "cell_type": "markdown",
   "metadata": {
    "id": "gnvmqA2Y4zIP"
   },
   "source": [
    "## Dataloaders\n",
    "\n",
    "- Validation은 generation을 사용하기 때문에 굉장히 느리다.\n",
    "- 따라서 sample의 일부를 적게만 사용한다."
   ]
  },
  {
   "cell_type": "code",
   "execution_count": 59,
   "metadata": {
    "colab": {
     "base_uri": "https://localhost:8080/"
    },
    "executionInfo": {
     "elapsed": 799,
     "status": "ok",
     "timestamp": 1689839439886,
     "user": {
      "displayName": "낭만AI",
      "userId": "15141833767579605424"
     },
     "user_tz": -540
    },
    "id": "E0qLokCz41Zl",
    "outputId": "bff3adcc-2df8-494e-8120-56c9dbc76358",
    "tags": []
   },
   "outputs": [
    {
     "name": "stderr",
     "output_type": "stream",
     "text": [
      "C:\\Users\\W7\\AppData\\Local\\Temp\\ipykernel_2612\\1931839399.py:30: UserWarning: To copy construct from a tensor, it is recommended to use sourceTensor.clone().detach() or sourceTensor.clone().detach().requires_grad_(True), rather than torch.tensor(sourceTensor).\n",
      "  tensor_data = torch.tensor(x[\"pixel_values\"])\n"
     ]
    },
    {
     "data": {
      "text/plain": [
       "(dict_keys(['pixel_values', 'labels', 'id']),\n",
       " [('pixel_values', torch.Size([2, 3, 480, 480])),\n",
       "  ('labels', torch.Size([2, 8]))])"
      ]
     },
     "execution_count": 59,
     "metadata": {},
     "output_type": "execute_result"
    }
   ],
   "source": [
    "if CFG.debug:\n",
    "    train_ds = train_ds.select(range(100))\n",
    "    val_ds = val_ds.select(range(100))\n",
    "\n",
    "train_dataloader = DataLoader(\n",
    "    train_ds,\n",
    "    batch_size=CFG.batch_size,\n",
    "    shuffle=True,\n",
    "    collate_fn=collate_fn,\n",
    "    num_workers=CFG.num_workers,\n",
    ")\n",
    "val_dataloader = DataLoader(\n",
    "    val_ds,\n",
    "    batch_size=CFG.batch_size,\n",
    "    shuffle=False,\n",
    "    collate_fn=collate_fn,\n",
    "    num_workers=CFG.num_workers,\n",
    ")\n",
    "\n",
    "num_training_steps = len(train_dataloader) * CFG.epochs // CFG.gpus\n",
    "\n",
    "batch = next(iter(train_dataloader))\n",
    "\n",
    "batch.keys(), [(k, v.shape) for k, v in batch.items() if k != \"id\"]"
   ]
  },
  {
   "cell_type": "code",
   "execution_count": 60,
   "metadata": {
    "colab": {
     "base_uri": "https://localhost:8080/",
     "height": 490
    },
    "executionInfo": {
     "elapsed": 874,
     "status": "ok",
     "timestamp": 1689839440753,
     "user": {
      "displayName": "낭만AI",
      "userId": "15141833767579605424"
     },
     "user_tz": -540
    },
    "id": "275ntVj9uXjo",
    "outputId": "aaa92a96-7575-473a-bbb0-38dc372ec15a",
    "tags": []
   },
   "outputs": [
    {
     "name": "stderr",
     "output_type": "stream",
     "text": [
      "Clipping input data to the valid range for imshow with RGB data ([0..1] for floats or [0..255] for integers).\n"
     ]
    },
    {
     "data": {
      "text/plain": [
       "<matplotlib.image.AxesImage at 0x223997f7670>"
      ]
     },
     "execution_count": 60,
     "metadata": {},
     "output_type": "execute_result"
    },
    {
     "data": {
      "image/png": "[encoded data removed]",
      "text/plain": [
       "<Figure size 640x480 with 1 Axes>"
      ]
     },
     "metadata": {},
     "output_type": "display_data"
    }
   ],
   "source": [
    "plt.imshow(batch['pixel_values'][0].permute(1,2,0))"
   ]
  },
  {
   "cell_type": "code",
   "execution_count": 61,
   "metadata": {
    "colab": {
     "base_uri": "https://localhost:8080/"
    },
    "executionInfo": {
     "elapsed": 14,
     "status": "ok",
     "timestamp": 1689839440754,
     "user": {
      "displayName": "낭만AI",
      "userId": "15141833767579605424"
     },
     "user_tz": -540
    },
    "id": "DlVEEJQ3WwYJ",
    "outputId": "042648a0-ed4c-4e7d-8262-c343ad9dfb13",
    "tags": []
   },
   "outputs": [
    {
     "data": {
      "text/plain": [
       "tensor([57541, 57546, 57542, 49869, 34171, 42990, 59934,  -100])"
      ]
     },
     "execution_count": 61,
     "metadata": {},
     "output_type": "execute_result"
    }
   ],
   "source": [
    "batch['labels'][0]"
   ]
  },
  {
   "cell_type": "markdown",
   "metadata": {
    "id": "5fd0G9dd4_Ci"
   },
   "source": [
    "## Metric을 계산하기 위한 function"
   ]
  },
  {
   "cell_type": "code",
   "execution_count": 62,
   "metadata": {
    "executionInfo": {
     "elapsed": 10,
     "status": "ok",
     "timestamp": 1689839440755,
     "user": {
      "displayName": "낭만AI",
      "userId": "15141833767579605424"
     },
     "user_tz": -540
    },
    "id": "hLLswKUL4_vd",
    "tags": []
   },
   "outputs": [],
   "source": [
    "def rmse(y_true: List[float], y_pred: List[float]) -> float:\n",
    "    \"\"\"\n",
    "    Calculate the Root Mean Square Error (RMSE) between the true and predicted values.\n",
    "\n",
    "    Args:\n",
    "        y_true (List[float]): The true values.\n",
    "        y_pred (List[float]): The predicted values.\n",
    "\n",
    "    Returns:\n",
    "        float: The Root Mean Square Error.\n",
    "    \"\"\"\n",
    "    return np.sqrt(np.mean(np.square(np.subtract(y_true, y_pred))))\n",
    "\n",
    "\n",
    "def sigmoid(x: float) -> float:\n",
    "    \"\"\"\n",
    "    Calculate the sigmoid function for the given value.\n",
    "\n",
    "    Args:\n",
    "        x (float): The input value.\n",
    "\n",
    "    Returns:\n",
    "        float: The result of the sigmoid function.\n",
    "    \"\"\"\n",
    "    return 2 - 2 / (1 + np.exp(-x))\n",
    "\n",
    "\n",
    "def normalized_rmse(y_true: List[float], y_pred: List[float]) -> float:\n",
    "    \"\"\"\n",
    "    Calculate the normalized Root Mean Square Error (RMSE) between the true and predicted values.\n",
    "\n",
    "    Args:\n",
    "        y_true (List[float]): The true values.\n",
    "        y_pred (List[float]): The predicted values.\n",
    "\n",
    "    Returns:\n",
    "        float: The normalized Root Mean Square Error.\n",
    "    \"\"\"\n",
    "    numerator = rmse(y_true, y_pred)\n",
    "    denominator = rmse(y_true, np.mean(y_true))\n",
    "\n",
    "    if denominator == 0:\n",
    "        if numerator == 0:\n",
    "            return 1.0\n",
    "        return 0.0\n",
    "\n",
    "    return sigmoid(numerator / denominator)\n",
    "\n",
    "\n",
    "def normalized_levenshtein_score(y_true: List[str], y_pred: List[str]) -> float:\n",
    "    \"\"\"\n",
    "    Calculate the normalized Levenshtein distance between two lists of strings.\n",
    "\n",
    "    Args:\n",
    "        y_true (List[str]): The true values.\n",
    "        y_pred (List[str]): The predicted values.\n",
    "\n",
    "    Returns:\n",
    "        float: The normalized Levenshtein distance.\n",
    "    \"\"\"\n",
    "    total_distance = np.sum([levenshtein(yt, yp) for yt, yp in zip(y_true, y_pred)])\n",
    "    length_sum = np.sum([len(yt) for yt in y_true])\n",
    "    return sigmoid(total_distance / length_sum)\n",
    "\n",
    "def score_series(\n",
    "    y_true: List[Union[float, str]], y_pred: List[Union[float, str]]\n",
    ") -> float:\n",
    "    \"\"\"\n",
    "    Calculate the score for a series of true and predicted values.\n",
    "\n",
    "    Args:\n",
    "        y_true (List[Union[float, str]]): The true values.\n",
    "        y_pred (List[Union[float, str]]): The predicted values.\n",
    "\n",
    "    Returns:\n",
    "        float: The score for the series.\n",
    "    \"\"\"\n",
    "    if len(y_true) != len(y_pred):\n",
    "        pass\n",
    "        #return 0.0\n",
    "    if isinstance(y_true[0], str):\n",
    "        return f1_score(y_true, y_pred)\n",
    "    else:\n",
    "        # Since this is a generative model, there is a chance it doesn't produce a float.\n",
    "        # In that case, we return 0.0.\n",
    "        try:\n",
    "            # return mse(list(map(float, y_true)), list(map(float, y_pred)))\n",
    "            return normalized_rmse(y_true, list(map(float, y_pred)))\n",
    "        except:\n",
    "            return 0.0\n",
    "\n",
    "\n",
    "def benetech_score(ground_truth: pd.DataFrame, predictions: pd.DataFrame) -> float:\n",
    "    \"\"\"Evaluate predictions using the metric from the Benetech - Making Graphs Accessible.\n",
    "\n",
    "    Parameters\n",
    "    ----------\n",
    "    ground_truth: pd.DataFrame\n",
    "        Has columns `[data_series, chart_type]` and an index `id`. Values in `data_series`\n",
    "        should be either arrays of floats or arrays of strings.\n",
    "\n",
    "    predictions: pd.DataFrame\n",
    "    \"\"\"\n",
    "    if not ground_truth.index.equals(predictions.index):\n",
    "        raise ValueError(\n",
    "            \"Must have exactly one prediction for each ground-truth instance.\"\n",
    "        )\n",
    "    if not ground_truth.columns.equals(predictions.columns):\n",
    "        raise ValueError(f\"Predictions must have columns: {ground_truth.columns}.\")\n",
    "    pairs = zip(\n",
    "        ground_truth.itertuples(index=False), predictions.itertuples(index=False)\n",
    "    )\n",
    "    scores = []\n",
    "    for (gt_series, gt_type), (pred_series, pred_type) in pairs:\n",
    "        # if gt_type != pred_type:  # Check material_type condition\n",
    "        #     scores.append(0.0)\n",
    "        # else:  # Score with RMSE or Levenshtein as appropriate\n",
    "        scores.append(score_series(gt_series, pred_series))\n",
    "\n",
    "    ground_truth[\"score\"] = scores\n",
    "\n",
    "    grouped = ground_truth.groupby(\"material_type\", as_index=False)[\"score\"].mean()\n",
    "\n",
    "    material_type2score = {\n",
    "        material_type: score\n",
    "        for material_type, score in zip(grouped[\"material_type\"], grouped[\"score\"])\n",
    "    }\n",
    "\n",
    "    return np.mean(scores), material_type2score\n",
    "\n",
    "def f1_score(y_true: List[str], y_pred: List[str]) -> float:\n",
    "    \"\"\"\n",
    "    Calculate the F1 score between the true and predicted values.\n",
    "\n",
    "    Args:\n",
    "        y_true (List[str]): The true values.\n",
    "        y_pred (List[str]): The predicted values.\n",
    "\n",
    "    Returns:\n",
    "        float: The F1 score.\n",
    "    \"\"\"\n",
    "    true_set = set(y_true)\n",
    "    pred_set = set(y_pred)\n",
    "    intersection = true_set.intersection(pred_set)\n",
    "    precision = len(intersection) / len(pred_set) if len(pred_set) > 0 else 0.0\n",
    "    recall = len(intersection) / len(true_set) if len(true_set) > 0 else 0.0\n",
    "    f1 = (2 * precision * recall) / (precision + recall) if (precision + recall) > 0 else 0.0\n",
    "    return f1\n",
    "\n",
    "def mse(y_true: List[float], y_pred: List[float]) -> float:\n",
    "    \"\"\"\n",
    "    Calculate the Mean Squared Error (MSE) between the true and predicted values.\n",
    "\n",
    "    Args:\n",
    "        y_true (List[float]): The true values.\n",
    "        y_pred (List[float]): The predicted values.\n",
    "\n",
    "    Returns:\n",
    "        float: The Mean Squared Error.\n",
    "    \"\"\"\n",
    "    return np.mean(np.square(np.subtract(y_true, y_pred)))\n",
    "\n",
    "def string2doublet(pred_string: str) -> Tuple[str, List[str]]:\n",
    "    \"\"\"\n",
    "    Convert a prediction string to a doublet of material type, and text.\n",
    "\n",
    "    Args:\n",
    "        pred_string (str): The prediction string.\n",
    "\n",
    "    Returns:\n",
    "        Tuple[str, List[str]]: A doublet of material type, and text.\n",
    "    \"\"\"\n",
    "\n",
    "    material_type = \"인쇄체\"\n",
    "    for tok in [HAND_TOKEN, PRINT_TOKEN]:\n",
    "        if tok in pred_string:\n",
    "            if tok == HAND_TOKEN:\n",
    "                material_type = '손글씨'\n",
    "            else:\n",
    "                material_type = '인쇄체'\n",
    "\n",
    "    pred_string = re.sub(r\"<one>\", \"1\", pred_string)\n",
    "\n",
    "    text = pred_string\n",
    "\n",
    "    if len(text) == 0:\n",
    "        return material_type, []\n",
    "\n",
    "    return material_type, text\n",
    "\n",
    "\n",
    "def validation_metrics(val_outputs: List[str], val_ids: List[str], gt_df: pd.DataFrame) -> Dict[str, float]:\n",
    "    \"\"\"\n",
    "    Calculate validation metrics for a set of outputs, ids, and ground truth dataframe.\n",
    "\n",
    "    Args:\n",
    "        val_outputs (List[str]): A list of validation outputs.\n",
    "        val_ids (List[str]): A list of validation ids.\n",
    "        gt_df (pd.DataFrame): The ground truth dataframe.\n",
    "\n",
    "    Returns:\n",
    "        Dict[str, float]: A dictionary containing the validation scores.\n",
    "    \"\"\"\n",
    "    pred_doublets = []\n",
    "\n",
    "    for example_output in val_outputs:\n",
    "        pred_doublets.append(string2doublet(example_output))\n",
    "\n",
    "    # Comment[전현욱] : 생각해보니 굳이 material type 별로 점수를 나눌 필요가 있을까 싶다\n",
    "    pred_df = pd.DataFrame(\n",
    "        index=val_ids,\n",
    "        data={\n",
    "            \"text\": [x[1] for x in pred_doublets],\n",
    "            \"material_type\": [x[0] for x in pred_doublets],\n",
    "        },\n",
    "    )\n",
    "\n",
    "    overall_score, material_type2score = benetech_score(\n",
    "        gt_df.loc[pred_df.index.values], pred_df\n",
    "    )\n",
    "\n",
    "    return {\n",
    "        \"val_score\": overall_score,\n",
    "        **{f\"{k}_score\": v for k, v in material_type2score.items()},\n",
    "    }"
   ]
  },
  {
   "cell_type": "markdown",
   "metadata": {
    "id": "vuf2h1xkf9Mv"
   },
   "source": [
    "## Lightning Module"
   ]
  },
  {
   "cell_type": "code",
   "execution_count": 63,
   "metadata": {
    "executionInfo": {
     "elapsed": 494,
     "status": "ok",
     "timestamp": 1689840904172,
     "user": {
      "displayName": "낭만AI",
      "userId": "15141833767579605424"
     },
     "user_tz": -540
    },
    "id": "m0wEoUQif9un",
    "tags": []
   },
   "outputs": [],
   "source": [
    "import pytorch_lightning as pl\n",
    "import gc\n",
    "from transformers import PreTrainedTokenizerBase, PreTrainedModel\n",
    "\n",
    "class DonutModelPLModule(pl.LightningModule):\n",
    "    def __init__(self, processor: PreTrainedTokenizerBase, model: PreTrainedModel, gt_df: pd.DataFrame, num_training_steps: int):\n",
    "        \"\"\"\n",
    "        A PyTorch Lightning module for the DonutModel.\n",
    "\n",
    "        Args:\n",
    "            processor (PreTrainedTokenizerBase): The tokenizer/processor for the model.\n",
    "            model (PreTrainedModel): The pretrained model.\n",
    "            gt_df (pd.DataFrame): The ground truth dataframe.\n",
    "            num_training_steps (int): The number of training steps.\n",
    "        \"\"\"\n",
    "        super().__init__()\n",
    "        self.processor = processor\n",
    "        self.model = model\n",
    "        self.gt_df = gt_df\n",
    "        self.num_training_steps = num_training_steps\n",
    "\n",
    "    def training_step(self, batch: Dict[str, torch.Tensor], batch_idx: int) -> torch.Tensor:\n",
    "        gc.collect()\n",
    "        torch.cuda.empty_cache()\n",
    "\n",
    "        pixel_values = batch[\"pixel_values\"]\n",
    "        labels = batch[\"labels\"]\n",
    "\n",
    "        outputs = self.model(pixel_values, labels=labels)\n",
    "        loss = outputs.loss\n",
    "        self.log(\"train_loss\", loss)\n",
    "\n",
    "        return loss\n",
    "\n",
    "    def validation_step(self, batch: Dict[str, torch.Tensor], batch_idx: int, dataset_idx: int = 0) -> None:\n",
    "        pixel_values = batch[\"pixel_values\"]\n",
    "        batch_size = pixel_values.shape[0]\n",
    "        # we feed the prompt to the model\n",
    "        decoder_input_ids = torch.full(\n",
    "            (batch_size, 1),\n",
    "            self.model.config.decoder_start_token_id,\n",
    "            device=self.device,\n",
    "        )\n",
    "\n",
    "        outputs = self.model.generate(\n",
    "            pixel_values,\n",
    "            decoder_input_ids=decoder_input_ids,\n",
    "            max_length=CFG.max_length,\n",
    "            early_stopping=True,\n",
    "            pad_token_id=self.processor.tokenizer.pad_token_id,\n",
    "            eos_token_id=self.processor.tokenizer.eos_token_id,\n",
    "            use_cache=True,\n",
    "            num_beams=1,\n",
    "            top_k=1,\n",
    "            bad_words_ids=[[self.processor.tokenizer.unk_token_id]],\n",
    "            return_dict_in_generate=True,\n",
    "        )\n",
    "\n",
    "        self.val_outputs.extend(\n",
    "            self.processor.tokenizer.batch_decode(outputs.sequences)\n",
    "        )\n",
    "        self.val_ids.extend(batch[\"id\"])\n",
    "\n",
    "    def on_validation_start(self) -> None:\n",
    "        gc.collect()\n",
    "        torch.cuda.empty_cache()\n",
    "\n",
    "        self.val_outputs, self.val_ids = [], []\n",
    "\n",
    "    def on_validation_epoch_end(self) -> None:\n",
    "\n",
    "        metrics = validation_metrics(self.val_outputs, self.val_ids, self.gt_df)\n",
    "        print(\"\\n\", metrics)\n",
    "\n",
    "        self.log_dict(metrics)\n",
    "\n",
    "        self.val_outputs, self.val_ids = [], []\n",
    "\n",
    "    def configure_optimizers(self) -> torch.optim.Optimizer:\n",
    "\n",
    "        optimizer = torch.optim.Adam(self.parameters(), lr=CFG.lr)\n",
    "\n",
    "        return optimizer"
   ]
  },
  {
   "cell_type": "markdown",
   "metadata": {
    "id": "_lE6uW3AgDOV"
   },
   "source": [
    "### Model, Ground Truth DataFrame 생성"
   ]
  },
  {
   "cell_type": "code",
   "execution_count": 70,
   "metadata": {
    "colab": {
     "base_uri": "https://localhost:8080/"
    },
    "executionInfo": {
     "elapsed": 4746,
     "status": "ok",
     "timestamp": 1689841460517,
     "user": {
      "displayName": "낭만AI",
      "userId": "15141833767579605424"
     },
     "user_tz": -540
    },
    "id": "3zmwSA4_gDiJ",
    "outputId": "67d1c798-9304-4310-b749-dff1085489a2",
    "tags": []
   },
   "outputs": [
    {
     "name": "stderr",
     "output_type": "stream",
     "text": [
      "Some weights of VisionEncoderDecoderModel were not initialized from the model checkpoint at C:/Users/W7/.cache/huggingface/hub and are newly initialized because the shapes did not match:\n",
      "- decoder.model.decoder.embed_tokens.weight: found shape torch.Size([57525, 1024]) in the checkpoint and torch.Size([60029, 1024]) in the model instantiated\n",
      "- decoder.lm_head.weight: found shape torch.Size([57525, 1024]) in the checkpoint and torch.Size([60029, 1024]) in the model instantiated\n",
      "You should probably TRAIN this model on a down-stream task to be able to use it for predictions and inference.\n"
     ]
    }
   ],
   "source": [
    "gt_material_type = val_gt_ds[\"material_type\"]\n",
    "gt_texts = val_gt_ds[\"ground_truth\"]\n",
    "gt_ids = val_gt_ds[\"id\"]\n",
    "\n",
    "gt_df = pd.DataFrame(\n",
    "    index=gt_ids,\n",
    "    data={\n",
    "        \"text\": gt_texts,\n",
    "        \"material_type\": gt_material_type,\n",
    "    },\n",
    ")\n",
    "\n",
    "\n",
    "model = VisionEncoderDecoderModel.from_pretrained(\n",
    "    \"C:/Users/W7/.cache/huggingface/hub\", config=config, ignore_mismatched_sizes=True\n",
    ")\n",
    "model.decoder.resize_token_embeddings(len(processor.tokenizer))\n",
    "model_module = DonutModelPLModule(processor, model, gt_df, num_training_steps)"
   ]
  },
  {
   "cell_type": "code",
   "execution_count": 71,
   "metadata": {
    "executionInfo": {
     "elapsed": 3709,
     "status": "ok",
     "timestamp": 1689839454422,
     "user": {
      "displayName": "낭만AI",
      "userId": "15141833767579605424"
     },
     "user_tz": -540
    },
    "id": "BScl_Kmds7HP",
    "tags": []
   },
   "outputs": [],
   "source": [
    "# Check if it works\n",
    "outputs = model(batch[\"pixel_values\"], labels=batch[\"labels\"])"
   ]
  },
  {
   "cell_type": "code",
   "execution_count": 72,
   "metadata": {
    "tags": []
   },
   "outputs": [
    {
     "data": {
      "text/plain": [
       "<torch.utils.data.dataloader.DataLoader at 0x223997b5120>"
      ]
     },
     "execution_count": 72,
     "metadata": {},
     "output_type": "execute_result"
    }
   ],
   "source": [
    "train_dataloader"
   ]
  },
  {
   "cell_type": "code",
   "execution_count": null,
   "metadata": {
    "colab": {
     "base_uri": "https://localhost:8080/"
    },
    "executionInfo": {
     "elapsed": 5,
     "status": "ok",
     "timestamp": 1689840241279,
     "user": {
      "displayName": "낭만AI",
      "userId": "15141833767579605424"
     },
     "user_tz": -540
    },
    "id": "ap5v-kd9hExa",
    "outputId": "09b0db39-71f1-4263-da8c-e299f2033bd9",
    "tags": []
   },
   "outputs": [
    {
     "name": "stderr",
     "output_type": "stream",
     "text": [
      "C:\\Users\\W7\\anaconda3\\envs\\TestBuild\\lib\\site-packages\\lightning_fabric\\connector.py:554: UserWarning: 16 is supported for historical reasons but its usage is discouraged. Please set your precision to 16-mixed instead!\n",
      "  rank_zero_warn(\n",
      "Using 16bit Automatic Mixed Precision (AMP)\n",
      "GPU available: True (cuda), used: True\n",
      "TPU available: False, using: 0 TPU cores\n",
      "IPU available: False, using: 0 IPUs\n",
      "HPU available: False, using: 0 HPUs\n",
      "`Trainer(val_check_interval=1.0)` was configured so validation will run at the end of the training epoch..\n",
      "C:\\Users\\W7\\anaconda3\\envs\\TestBuild\\lib\\site-packages\\pytorch_lightning\\trainer\\configuration_validator.py:70: PossibleUserWarning: You defined a `validation_step` but have no `val_dataloader`. Skipping val loop.\n",
      "  rank_zero_warn(\n",
      "C:\\Users\\W7\\anaconda3\\envs\\TestBuild\\lib\\site-packages\\pytorch_lightning\\callbacks\\model_checkpoint.py:615: UserWarning: Checkpoint directory C:\\final_project\\kr-img2latex\\data\\output exists and is not empty.\n",
      "  rank_zero_warn(f\"Checkpoint directory {dirpath} exists and is not empty.\")\n",
      "LOCAL_RANK: 0 - CUDA_VISIBLE_DEVICES: [0]\n",
      "\n",
      "  | Name  | Type                      | Params\n",
      "----------------------------------------------------\n",
      "0 | model | VisionEncoderDecoderModel | 204 M \n",
      "----------------------------------------------------\n",
      "204 M     Trainable params\n",
      "0         Non-trainable params\n",
      "204 M     Total params\n",
      "817.664   Total estimated model params size (MB)\n",
      "C:\\Users\\W7\\anaconda3\\envs\\TestBuild\\lib\\site-packages\\pytorch_lightning\\trainer\\connectors\\data_connector.py:432: PossibleUserWarning: The dataloader, train_dataloader, does not have many workers which may be a bottleneck. Consider increasing the value of the `num_workers` argument` (try 32 which is the number of cpus on this machine) in the `DataLoader` init to improve performance.\n",
      "  rank_zero_warn(\n"
     ]
    },
    {
     "data": {
      "application/vnd.jupyter.widget-view+json": {
       "model_id": "30dfb17e349d4772af5eb133e4a5e789",
       "version_major": 2,
       "version_minor": 0
      },
      "text/plain": [
       "Training: 0it [00:00, ?it/s]"
      ]
     },
     "metadata": {},
     "output_type": "display_data"
    },
    {
     "name": "stderr",
     "output_type": "stream",
     "text": [
      "C:\\Users\\W7\\AppData\\Local\\Temp\\ipykernel_2612\\1931839399.py:30: UserWarning: To copy construct from a tensor, it is recommended to use sourceTensor.clone().detach() or sourceTensor.clone().detach().requires_grad_(True), rather than torch.tensor(sourceTensor).\n",
      "  tensor_data = torch.tensor(x[\"pixel_values\"])\n"
     ]
    }
   ],
   "source": [
    "from pytorch_lightning.callbacks import ModelCheckpoint\n",
    "from pytorch_lightning.loggers import WandbLogger\n",
    "\n",
    "checkpoint_cb = ModelCheckpoint(CFG.output_path)\n",
    "\n",
    "loggers = []\n",
    "\n",
    "trainer = pl.Trainer(\n",
    "        accelerator=\"gpu\",\n",
    "        devices=CFG.gpus,\n",
    "        max_epochs=CFG.epochs,\n",
    "        val_check_interval=CFG.val_check_interval,\n",
    "        check_val_every_n_epoch=CFG.check_val_every_n_epoch,\n",
    "        gradient_clip_val=CFG.gradient_clip_val,\n",
    "        precision=16, # if you have tensor cores (t4, v100, a100, etc.) training will be 2x faster\n",
    "        num_sanity_val_steps=5,\n",
    "        callbacks=[checkpoint_cb],\n",
    "        logger=loggers\n",
    ")\n",
    "\n",
    "trainer.fit(model_module, train_dataloaders=train_dataloader)"
   ]
  },
  {
   "cell_type": "code",
   "execution_count": null,
   "metadata": {
    "executionInfo": {
     "elapsed": 8,
     "status": "aborted",
     "timestamp": 1689838003561,
     "user": {
      "displayName": "낭만AI",
      "userId": "15141833767579605424"
     },
     "user_tz": -540
    },
    "id": "wlWMNoTvjnZk",
    "tags": []
   },
   "outputs": [],
   "source": [
    "trainer.validate(model_module, dataloaders=val_dataloader)"
   ]
  },
  {
   "cell_type": "code",
   "execution_count": null,
   "metadata": {
    "executionInfo": {
     "elapsed": 8,
     "status": "aborted",
     "timestamp": 1689838003561,
     "user": {
      "displayName": "낭만AI",
      "userId": "15141833767579605424"
     },
     "user_tz": -540
    },
    "id": "YUs0HIvyngro",
    "tags": []
   },
   "outputs": [],
   "source": [
    "# check gt label\n",
    "for i, batch in enumerate(val_dataloader):\n",
    "  if i == 10:\n",
    "    break\n",
    "  for b in batch['labels']:\n",
    "    tokens = []\n",
    "    for token in b:\n",
    "      if token != -100:\n",
    "        tokens.append(token)\n",
    "    print(processor.decode(tokens))"
   ]
  },
  {
   "cell_type": "markdown",
   "metadata": {
    "id": "KCL3nYBOKtjM"
   },
   "source": [
    "## Test"
   ]
  },
  {
   "cell_type": "code",
   "execution_count": null,
   "metadata": {
    "executionInfo": {
     "elapsed": 9,
     "status": "aborted",
     "timestamp": 1689838003562,
     "user": {
      "displayName": "낭만AI",
      "userId": "15141833767579605424"
     },
     "user_tz": -540
    },
    "id": "SREYaSyuLSNw",
    "tags": []
   },
   "outputs": [],
   "source": [
    "test_img_paths = glob.glob('C:/final_project/kr-img2latex/data/test/images/*.png')\n",
    "sample_test_img_path = np.random.choice(test_img_paths)\n",
    "sample_test_json_file = sample_test_img_path.replace('images','annotations').replace('.png','.json')"
   ]
  },
  {
   "cell_type": "code",
   "execution_count": null,
   "metadata": {
    "executionInfo": {
     "elapsed": 9,
     "status": "aborted",
     "timestamp": 1689838003562,
     "user": {
      "displayName": "낭만AI",
      "userId": "15141833767579605424"
     },
     "user_tz": -540
    },
    "id": "Fqb1QPxeRzPq",
    "tags": []
   },
   "outputs": [],
   "source": [
    "# for personal data\n",
    "# sample_test_img_path = '/content/mypic.jpg'"
   ]
  },
  {
   "cell_type": "code",
   "execution_count": null,
   "metadata": {
    "executionInfo": {
     "elapsed": 9,
     "status": "aborted",
     "timestamp": 1689838003562,
     "user": {
      "displayName": "낭만AI",
      "userId": "15141833767579605424"
     },
     "user_tz": -540
    },
    "id": "PdVpWw0cKvBs",
    "tags": []
   },
   "outputs": [],
   "source": [
    "sample_test_img = Image.open(sample_test_img_path).convert(\"RGB\")# .resize((CFG.image_width, CFG.image_height))\n",
    "sample_test_img"
   ]
  },
  {
   "cell_type": "code",
   "execution_count": null,
   "metadata": {
    "executionInfo": {
     "elapsed": 4296,
     "status": "ok",
     "timestamp": 1689840923061,
     "user": {
      "displayName": "낭만AI",
      "userId": "15141833767579605424"
     },
     "user_tz": -540
    },
    "id": "idHweRbWLjya",
    "tags": []
   },
   "outputs": [],
   "source": [
    "pixel_values = processor(sample_test_img, random_padding=True).pixel_values\n",
    "pixel_values = torch.FloatTensor(pixel_values).to('cuda')\n",
    "\n",
    "decoder_input_ids = torch.full(\n",
    "            (1, 1),\n",
    "            model.config.decoder_start_token_id,\n",
    "            device='cuda',\n",
    ")\n",
    "\n",
    "model.cuda()\n",
    "\n",
    "\n",
    "results = reader.readtext(sample_test_img_path.replace('\\\\','/'))\n",
    "\n",
    "# Extract the OCR text from the results\n",
    "ocr_text = [result[1] for result in results]\n",
    "\n",
    "# Calculate the length of the OCR text (number of characters)\n",
    "ocr_text_length = sum(len(text) for text in ocr_text) + 5\n",
    "\n",
    "if ocr_text_length < 10:\n",
    "   ocr_text_length = 15\n",
    "        \n",
    "# Print the length of the OCR text\n",
    "print(\"Length of OCR Text:\", ocr_text_length)\n",
    "\n",
    "\n",
    "outputs = model.generate(\n",
    "            pixel_values,\n",
    "            decoder_input_ids=decoder_input_ids,\n",
    "            max_length=ocr_text_length,\n",
    "            early_stopping=True,\n",
    "            pad_token_id=processor.tokenizer.pad_token_id,\n",
    "            eos_token_id=processor.tokenizer.eos_token_id,\n",
    "            use_cache=True,\n",
    "            num_beams=1,\n",
    "            top_k=1,\n",
    "            bad_words_ids=[[processor.tokenizer.unk_token_id]],\n",
    "            return_dict_in_generate=True,\n",
    ")"
   ]
  },
  {
   "cell_type": "code",
   "execution_count": null,
   "metadata": {
    "executionInfo": {
     "elapsed": 9,
     "status": "aborted",
     "timestamp": 1689838003563,
     "user": {
      "displayName": "낭만AI",
      "userId": "15141833767579605424"
     },
     "user_tz": -540
    },
    "id": "P2WdlLvsL2JA",
    "tags": []
   },
   "outputs": [],
   "source": [
    "processor.tokenizer.batch_decode(outputs.sequences)"
   ]
  },
  {
   "cell_type": "code",
   "execution_count": null,
   "metadata": {
    "executionInfo": {
     "elapsed": 9,
     "status": "aborted",
     "timestamp": 1689838003563,
     "user": {
      "displayName": "낭만AI",
      "userId": "15141833767579605424"
     },
     "user_tz": -540
    },
    "id": "if1LxezvM0cF",
    "tags": []
   },
   "outputs": [],
   "source": [
    "get_gt_string(sample_test_json_file)['ground_truth']"
   ]
  },
  {
   "cell_type": "code",
   "execution_count": null,
   "metadata": {
    "tags": []
   },
   "outputs": [],
   "source": [
    "get_gt_string(sample_test_json_file)"
   ]
  },
  {
   "cell_type": "code",
   "execution_count": null,
   "metadata": {
    "executionInfo": {
     "elapsed": 10,
     "status": "aborted",
     "timestamp": 1689838003564,
     "user": {
      "displayName": "낭만AI",
      "userId": "15141833767579605424"
     },
     "user_tz": -540
    },
    "id": "iXDsuBHpM92V",
    "tags": []
   },
   "outputs": [],
   "source": [
    "normalized_levenshtein_score(processor.tokenizer.batch_decode(outputs.sequences),\n",
    "                             [get_gt_string(sample_test_json_file)['ground_truth']])"
   ]
  },
  {
   "cell_type": "markdown",
   "metadata": {
    "id": "-mfrl5cfnvOm"
   },
   "source": [
    "## Save Model"
   ]
  },
  {
   "cell_type": "code",
   "execution_count": null,
   "metadata": {
    "executionInfo": {
     "elapsed": 9,
     "status": "aborted",
     "timestamp": 1689838003564,
     "user": {
      "displayName": "낭만AI",
      "userId": "15141833767579605424"
     },
     "user_tz": -540
    },
    "id": "ZQW6Z9_Qn0Hh",
    "tags": []
   },
   "outputs": [],
   "source": [
    "model_module.model.save_pretrained('C:/final_project/content/drive/Model/epoch-2, batch-2, img_size-480, fine_tuned/Donut-mathOCR-model')\n",
    "model_module.processor.save_pretrained('C:/final_project/content/drive/Model/epoch-2, batch-2, img_size-480, fine_tuned/Donut-mathOCR-processor')\n",
    "config.save_pretrained('C:/final_project/content/drive/Model/epoch-2, batch-2, img_size-480, fine_tuned/Donut-mathOCR-config')"
   ]
  },
  {
   "cell_type": "markdown",
   "metadata": {
    "id": "ksRV2argp22-"
   },
   "source": [
    "## Load Model"
   ]
  },
  {
   "cell_type": "code",
   "execution_count": null,
   "metadata": {
    "executionInfo": {
     "elapsed": 5475,
     "status": "ok",
     "timestamp": 1689841710519,
     "user": {
      "displayName": "낭만AI",
      "userId": "15141833767579605424"
     },
     "user_tz": -540
    },
    "id": "zkgnjak8p5cS",
    "tags": []
   },
   "outputs": [],
   "source": [
    "new_config = VisionEncoderDecoderConfig.from_pretrained(\"C:/final_project/content/drive/Model/epoch-2, batch-2, img_size-480, fine_tuned/Donut-mathOCR-config\")\n",
    "new_processor = DonutProcessor.from_pretrained(\"C:/final_project/content/drive/Model/epoch-2, batch-2, img_size-480, fine_tuned/Donut-mathOCR-processor\")\n",
    "new_model =  VisionEncoderDecoderModel.from_pretrained(\n",
    "    \"C:/final_project/content/drive/Model/epoch-2, batch-2, img_size-480, fine_tuned/Donut-mathOCR-model\", config=new_config\n",
    ")"
   ]
  },
  {
   "cell_type": "code",
   "execution_count": null,
   "metadata": {
    "colab": {
     "base_uri": "https://localhost:8080/"
    },
    "executionInfo": {
     "elapsed": 15,
     "status": "ok",
     "timestamp": 1689841710519,
     "user": {
      "displayName": "낭만AI",
      "userId": "15141833767579605424"
     },
     "user_tz": -540
    },
    "id": "gonfUUxeq1r0",
    "outputId": "9fee0452-20ea-42a1-ba68-5834e6c586a8",
    "tags": []
   },
   "outputs": [],
   "source": [
    "new_model.cuda()"
   ]
  },
  {
   "cell_type": "code",
   "execution_count": null,
   "metadata": {
    "executionInfo": {
     "elapsed": 12,
     "status": "ok",
     "timestamp": 1689841710520,
     "user": {
      "displayName": "낭만AI",
      "userId": "15141833767579605424"
     },
     "user_tz": -540
    },
    "id": "42A17aP5q9M0",
    "tags": []
   },
   "outputs": [],
   "source": [
    "new_model_module = DonutModelPLModule(new_processor, new_model, gt_df, num_training_steps)"
   ]
  },
  {
   "cell_type": "code",
   "execution_count": null,
   "metadata": {
    "colab": {
     "base_uri": "https://localhost:8080/"
    },
    "executionInfo": {
     "elapsed": 12,
     "status": "ok",
     "timestamp": 1689841710521,
     "user": {
      "displayName": "낭만AI",
      "userId": "15141833767579605424"
     },
     "user_tz": -540
    },
    "id": "3VOdQYfTu9og",
    "outputId": "ac05c1d5-4862-40a0-9c69-5c00cb6ce8c7",
    "tags": []
   },
   "outputs": [],
   "source": [
    "new_trainer = pl.Trainer(\n",
    "        accelerator=\"gpu\",\n",
    "        devices=CFG.gpus,\n",
    "        max_epochs=CFG.epochs,\n",
    "        val_check_interval=CFG.val_check_interval,\n",
    "        check_val_every_n_epoch=CFG.check_val_every_n_epoch,\n",
    "        gradient_clip_val=CFG.gradient_clip_val,\n",
    "        precision=16, # if you have tensor cores (t4, v100, a100, etc.) training will be 2x faster\n",
    "        num_sanity_val_steps=5,\n",
    "        callbacks=[checkpoint_cb],\n",
    "        logger=loggers\n",
    ")"
   ]
  },
  {
   "cell_type": "code",
   "execution_count": null,
   "metadata": {
    "colab": {
     "base_uri": "https://localhost:8080/",
     "height": 121,
     "referenced_widgets": [
      "90f4e4d3667e461a8b680fb2273299a4",
      "998ca7c6a7e4409a8722c342ae705e84",
      "d22865b186ab4e578eb6e918e6c3e31b",
      "852eb514182d4abdad0c14bad1ffc506",
      "9d3792a386a44897a59903d3c6428433",
      "43e4c2f9cca94ad5b10f4a30b92e19aa",
      "8310bdf35ae04f299e79ef60f577457a",
      "252a2054d53f4437942859c1efca9de7",
      "e151c4e8265248258cc06e502e1066d2",
      "e2f9c1d0eae947f48dd3a8d4d27f0527",
      "c746140d9d6a403ebffb2d20d141fe76"
     ]
    },
    "executionInfo": {
     "elapsed": 64003,
     "status": "ok",
     "timestamp": 1689841788666,
     "user": {
      "displayName": "낭만AI",
      "userId": "15141833767579605424"
     },
     "user_tz": -540
    },
    "id": "OABP848WTLQX",
    "outputId": "f5133eb9-751d-4b23-b688-cf70824aa650",
    "tags": []
   },
   "outputs": [],
   "source": [
    "new_trainer.validate(new_model_module, dataloaders=val_dataloader)"
   ]
  },
  {
   "cell_type": "code",
   "execution_count": null,
   "metadata": {
    "tags": []
   },
   "outputs": [],
   "source": [
    "# ! pip install easyocr"
   ]
  },
  {
   "cell_type": "markdown",
   "metadata": {
    "id": "bKarnCyXTDlI"
   },
   "source": [
    "## For Debug"
   ]
  },
  {
   "cell_type": "code",
   "execution_count": null,
   "metadata": {
    "tags": []
   },
   "outputs": [],
   "source": [
    "test_img_paths = glob.glob('C:/final_project/kr-img2latex/data/test/images/*.png')\n",
    "sample_test_img_path = np.random.choice(test_img_paths)\n",
    "sample_test_json_file = sample_test_img_path.replace('images','annotations').replace('.png','.json')\n",
    "sample_test_img = Image.open(sample_test_img_path).convert(\"RGB\").resize((CFG.image_width, CFG.image_height))\n",
    "sample_test_img"
   ]
  },
  {
   "cell_type": "code",
   "execution_count": null,
   "metadata": {
    "tags": []
   },
   "outputs": [],
   "source": [
    "print(\"Estimated length of Latex Text:\", CFG.max_length)"
   ]
  },
  {
   "cell_type": "code",
   "execution_count": null,
   "metadata": {
    "colab": {
     "base_uri": "https://localhost:8080/",
     "height": 487
    },
    "executionInfo": {
     "elapsed": 631,
     "status": "error",
     "timestamp": 1689841868152,
     "user": {
      "displayName": "낭만AI",
      "userId": "15141833767579605424"
     },
     "user_tz": -540
    },
    "id": "Kb1CoJNURqkA",
    "outputId": "1cb56d49-b6cb-458c-fd2e-201a172df812",
    "tags": []
   },
   "outputs": [],
   "source": [
    "pixel_values = new_processor(sample_test_img, random_padding=True).pixel_values\n",
    "pixel_values = torch.FloatTensor(pixel_values).to('cuda')\n",
    "\n",
    "decoder_input_ids = torch.full(\n",
    "            (1, 1),\n",
    "            new_model.config.decoder_start_token_id,\n",
    "            device='cuda',\n",
    ")\n",
    "\n",
    "new_model.cuda()\n",
    "\n",
    "outputs = new_model.generate(\n",
    "            pixel_values,\n",
    "            decoder_input_ids=decoder_input_ids,\n",
    "            early_stopping=True,\n",
    "            pad_token_id=new_processor.tokenizer.pad_token_id,\n",
    "            eos_token_id=new_processor.tokenizer.eos_token_id,\n",
    "            use_cache=True,\n",
    "            num_beams=1,\n",
    "            top_k=1,\n",
    "            bad_words_ids=[[new_processor.tokenizer.unk_token_id]],\n",
    "            return_dict_in_generate=True,\n",
    "            max_length= CFG.max_length,\n",
    ")"
   ]
  },
  {
   "cell_type": "code",
   "execution_count": null,
   "metadata": {
    "colab": {
     "base_uri": "https://localhost:8080/"
    },
    "executionInfo": {
     "elapsed": 499,
     "status": "ok",
     "timestamp": 1689841895030,
     "user": {
      "displayName": "낭만AI",
      "userId": "15141833767579605424"
     },
     "user_tz": -540
    },
    "id": "Rr_LC_jASIEB",
    "outputId": "8954c0df-f3d5-4537-f097-10cae6a68791",
    "tags": []
   },
   "outputs": [],
   "source": [
    "new_processor.tokenizer.batch_decode(outputs.sequences)"
   ]
  },
  {
   "cell_type": "code",
   "execution_count": null,
   "metadata": {
    "colab": {
     "base_uri": "https://localhost:8080/",
     "height": 53
    },
    "executionInfo": {
     "elapsed": 14,
     "status": "ok",
     "timestamp": 1689840279726,
     "user": {
      "displayName": "낭만AI",
      "userId": "15141833767579605424"
     },
     "user_tz": -540
    },
    "id": "04kCTUHLSKBp",
    "outputId": "4f0ab9c0-12e9-4e93-d946-40af23b4b114",
    "tags": []
   },
   "outputs": [],
   "source": [
    "get_gt_string(sample_test_json_file)['ground_truth']"
   ]
  },
  {
   "cell_type": "code",
   "execution_count": null,
   "metadata": {
    "colab": {
     "base_uri": "https://localhost:8080/"
    },
    "executionInfo": {
     "elapsed": 14,
     "status": "ok",
     "timestamp": 1689840279727,
     "user": {
      "displayName": "낭만AI",
      "userId": "15141833767579605424"
     },
     "user_tz": -540
    },
    "id": "ZuYyFfQ4SLb7",
    "outputId": "110d0d91-db18-483f-e3a9-9c647a1e64e4",
    "tags": []
   },
   "outputs": [],
   "source": [
    "normalized_levenshtein_score(processor.tokenizer.batch_decode(outputs.sequences),\n",
    "                             [get_gt_string(sample_test_json_file)['ground_truth']])"
   ]
  },
  {
   "cell_type": "code",
   "execution_count": null,
   "metadata": {},
   "outputs": [],
   "source": []
  }
 ],
 "metadata": {
  "accelerator": "GPU",
  "colab": {
   "collapsed_sections": [
    "Xf7ClMmse-Ik"
   ],
   "machine_shape": "hm",
   "provenance": [],
   "toc_visible": true
  },
  "kernelspec": {
   "display_name": "Python 3 (ipykernel)",
   "language": "python",
   "name": "python3"
  },
  "language_info": {
   "codemirror_mode": {
    "name": "ipython",
    "version": 3
   },
   "file_extension": ".py",
   "mimetype": "text/x-python",
   "name": "python",
   "nbconvert_exporter": "python",
   "pygments_lexer": "ipython3",
   "version": "3.10.9"
  },
  "widgets": {
   "application/vnd.jupyter.widget-state+json": {
    "1aa3da00b66240a5ac35e5a4953c55bf": {
     "model_module": "@jupyter-widgets/controls",
     "model_module_version": "1.5.0",
     "model_name": "DescriptionStyleModel",
     "state": {
      "_model_module": "@jupyter-widgets/controls",
      "_model_module_version": "1.5.0",
      "_model_name": "DescriptionStyleModel",
      "_view_count": null,
      "_view_module": "@jupyter-widgets/base",
      "_view_module_version": "1.2.0",
      "_view_name": "StyleView",
      "description_width": ""
     }
    },
    "214c7174272d4f439ba0f2ae86ab90cf": {
     "model_module": "@jupyter-widgets/controls",
     "model_module_version": "1.5.0",
     "model_name": "HTMLModel",
     "state": {
      "_dom_classes": [],
      "_model_module": "@jupyter-widgets/controls",
      "_model_module_version": "1.5.0",
      "_model_name": "HTMLModel",
      "_view_count": null,
      "_view_module": "@jupyter-widgets/controls",
      "_view_module_version": "1.5.0",
      "_view_name": "HTMLView",
      "description": "",
      "description_tooltip": null,
      "layout": "IPY_MODEL_ba73e64d1edc4700b9f3bb9c2a5b0acd",
      "placeholder": "​",
      "style": "IPY_MODEL_1aa3da00b66240a5ac35e5a4953c55bf",
      "value": " 126295/127060 [00:17&lt;00:00, 7661.17 examples/s]"
     }
    },
    "252a2054d53f4437942859c1efca9de7": {
     "model_module": "@jupyter-widgets/base",
     "model_module_version": "1.2.0",
     "model_name": "LayoutModel",
     "state": {
      "_model_module": "@jupyter-widgets/base",
      "_model_module_version": "1.2.0",
      "_model_name": "LayoutModel",
      "_view_count": null,
      "_view_module": "@jupyter-widgets/base",
      "_view_module_version": "1.2.0",
      "_view_name": "LayoutView",
      "align_content": null,
      "align_items": null,
      "align_self": null,
      "border": null,
      "bottom": null,
      "display": null,
      "flex": "2",
      "flex_flow": null,
      "grid_area": null,
      "grid_auto_columns": null,
      "grid_auto_flow": null,
      "grid_auto_rows": null,
      "grid_column": null,
      "grid_gap": null,
      "grid_row": null,
      "grid_template_areas": null,
      "grid_template_columns": null,
      "grid_template_rows": null,
      "height": null,
      "justify_content": null,
      "justify_items": null,
      "left": null,
      "margin": null,
      "max_height": null,
      "max_width": null,
      "min_height": null,
      "min_width": null,
      "object_fit": null,
      "object_position": null,
      "order": null,
      "overflow": null,
      "overflow_x": null,
      "overflow_y": null,
      "padding": null,
      "right": null,
      "top": null,
      "visibility": null,
      "width": null
     }
    },
    "2c5c2867c0d6444bad036f4e849fee29": {
     "model_module": "@jupyter-widgets/base",
     "model_module_version": "1.2.0",
     "model_name": "LayoutModel",
     "state": {
      "_model_module": "@jupyter-widgets/base",
      "_model_module_version": "1.2.0",
      "_model_name": "LayoutModel",
      "_view_count": null,
      "_view_module": "@jupyter-widgets/base",
      "_view_module_version": "1.2.0",
      "_view_name": "LayoutView",
      "align_content": null,
      "align_items": null,
      "align_self": null,
      "border": null,
      "bottom": null,
      "display": null,
      "flex": null,
      "flex_flow": null,
      "grid_area": null,
      "grid_auto_columns": null,
      "grid_auto_flow": null,
      "grid_auto_rows": null,
      "grid_column": null,
      "grid_gap": null,
      "grid_row": null,
      "grid_template_areas": null,
      "grid_template_columns": null,
      "grid_template_rows": null,
      "height": null,
      "justify_content": null,
      "justify_items": null,
      "left": null,
      "margin": null,
      "max_height": null,
      "max_width": null,
      "min_height": null,
      "min_width": null,
      "object_fit": null,
      "object_position": null,
      "order": null,
      "overflow": null,
      "overflow_x": null,
      "overflow_y": null,
      "padding": null,
      "right": null,
      "top": null,
      "visibility": null,
      "width": null
     }
    },
    "2fa901ba780347f8a38dd5d102c92fa8": {
     "model_module": "@jupyter-widgets/controls",
     "model_module_version": "1.5.0",
     "model_name": "HBoxModel",
     "state": {
      "_dom_classes": [],
      "_model_module": "@jupyter-widgets/controls",
      "_model_module_version": "1.5.0",
      "_model_name": "HBoxModel",
      "_view_count": null,
      "_view_module": "@jupyter-widgets/controls",
      "_view_module_version": "1.5.0",
      "_view_name": "HBoxView",
      "box_style": "",
      "children": [
       "IPY_MODEL_f2aa1756e16d4a669f60df7d20292b77",
       "IPY_MODEL_b3a54a97220f4a288ca52035da239df1",
       "IPY_MODEL_214c7174272d4f439ba0f2ae86ab90cf"
      ],
      "layout": "IPY_MODEL_4b74417f54344fc6992030cea3dc33f2"
     }
    },
    "43e4c2f9cca94ad5b10f4a30b92e19aa": {
     "model_module": "@jupyter-widgets/base",
     "model_module_version": "1.2.0",
     "model_name": "LayoutModel",
     "state": {
      "_model_module": "@jupyter-widgets/base",
      "_model_module_version": "1.2.0",
      "_model_name": "LayoutModel",
      "_view_count": null,
      "_view_module": "@jupyter-widgets/base",
      "_view_module_version": "1.2.0",
      "_view_name": "LayoutView",
      "align_content": null,
      "align_items": null,
      "align_self": null,
      "border": null,
      "bottom": null,
      "display": null,
      "flex": null,
      "flex_flow": null,
      "grid_area": null,
      "grid_auto_columns": null,
      "grid_auto_flow": null,
      "grid_auto_rows": null,
      "grid_column": null,
      "grid_gap": null,
      "grid_row": null,
      "grid_template_areas": null,
      "grid_template_columns": null,
      "grid_template_rows": null,
      "height": null,
      "justify_content": null,
      "justify_items": null,
      "left": null,
      "margin": null,
      "max_height": null,
      "max_width": null,
      "min_height": null,
      "min_width": null,
      "object_fit": null,
      "object_position": null,
      "order": null,
      "overflow": null,
      "overflow_x": null,
      "overflow_y": null,
      "padding": null,
      "right": null,
      "top": null,
      "visibility": null,
      "width": null
     }
    },
    "4b74417f54344fc6992030cea3dc33f2": {
     "model_module": "@jupyter-widgets/base",
     "model_module_version": "1.2.0",
     "model_name": "LayoutModel",
     "state": {
      "_model_module": "@jupyter-widgets/base",
      "_model_module_version": "1.2.0",
      "_model_name": "LayoutModel",
      "_view_count": null,
      "_view_module": "@jupyter-widgets/base",
      "_view_module_version": "1.2.0",
      "_view_name": "LayoutView",
      "align_content": null,
      "align_items": null,
      "align_self": null,
      "border": null,
      "bottom": null,
      "display": null,
      "flex": null,
      "flex_flow": null,
      "grid_area": null,
      "grid_auto_columns": null,
      "grid_auto_flow": null,
      "grid_auto_rows": null,
      "grid_column": null,
      "grid_gap": null,
      "grid_row": null,
      "grid_template_areas": null,
      "grid_template_columns": null,
      "grid_template_rows": null,
      "height": null,
      "justify_content": null,
      "justify_items": null,
      "left": null,
      "margin": null,
      "max_height": null,
      "max_width": null,
      "min_height": null,
      "min_width": null,
      "object_fit": null,
      "object_position": null,
      "order": null,
      "overflow": null,
      "overflow_x": null,
      "overflow_y": null,
      "padding": null,
      "right": null,
      "top": null,
      "visibility": "hidden",
      "width": null
     }
    },
    "6e7565f68e8f41cd965ec049628ab75b": {
     "model_module": "@jupyter-widgets/controls",
     "model_module_version": "1.5.0",
     "model_name": "ProgressStyleModel",
     "state": {
      "_model_module": "@jupyter-widgets/controls",
      "_model_module_version": "1.5.0",
      "_model_name": "ProgressStyleModel",
      "_view_count": null,
      "_view_module": "@jupyter-widgets/base",
      "_view_module_version": "1.2.0",
      "_view_name": "StyleView",
      "bar_color": null,
      "description_width": ""
     }
    },
    "7e05b0956d1644ffb3e218e8cff50153": {
     "model_module": "@jupyter-widgets/base",
     "model_module_version": "1.2.0",
     "model_name": "LayoutModel",
     "state": {
      "_model_module": "@jupyter-widgets/base",
      "_model_module_version": "1.2.0",
      "_model_name": "LayoutModel",
      "_view_count": null,
      "_view_module": "@jupyter-widgets/base",
      "_view_module_version": "1.2.0",
      "_view_name": "LayoutView",
      "align_content": null,
      "align_items": null,
      "align_self": null,
      "border": null,
      "bottom": null,
      "display": null,
      "flex": null,
      "flex_flow": null,
      "grid_area": null,
      "grid_auto_columns": null,
      "grid_auto_flow": null,
      "grid_auto_rows": null,
      "grid_column": null,
      "grid_gap": null,
      "grid_row": null,
      "grid_template_areas": null,
      "grid_template_columns": null,
      "grid_template_rows": null,
      "height": null,
      "justify_content": null,
      "justify_items": null,
      "left": null,
      "margin": null,
      "max_height": null,
      "max_width": null,
      "min_height": null,
      "min_width": null,
      "object_fit": null,
      "object_position": null,
      "order": null,
      "overflow": null,
      "overflow_x": null,
      "overflow_y": null,
      "padding": null,
      "right": null,
      "top": null,
      "visibility": null,
      "width": null
     }
    },
    "8310bdf35ae04f299e79ef60f577457a": {
     "model_module": "@jupyter-widgets/controls",
     "model_module_version": "1.5.0",
     "model_name": "DescriptionStyleModel",
     "state": {
      "_model_module": "@jupyter-widgets/controls",
      "_model_module_version": "1.5.0",
      "_model_name": "DescriptionStyleModel",
      "_view_count": null,
      "_view_module": "@jupyter-widgets/base",
      "_view_module_version": "1.2.0",
      "_view_name": "StyleView",
      "description_width": ""
     }
    },
    "852eb514182d4abdad0c14bad1ffc506": {
     "model_module": "@jupyter-widgets/controls",
     "model_module_version": "1.5.0",
     "model_name": "HTMLModel",
     "state": {
      "_dom_classes": [],
      "_model_module": "@jupyter-widgets/controls",
      "_model_module_version": "1.5.0",
      "_model_name": "HTMLModel",
      "_view_count": null,
      "_view_module": "@jupyter-widgets/controls",
      "_view_module_version": "1.5.0",
      "_view_name": "HTMLView",
      "description": "",
      "description_tooltip": null,
      "layout": "IPY_MODEL_e2f9c1d0eae947f48dd3a8d4d27f0527",
      "placeholder": "​",
      "style": "IPY_MODEL_c746140d9d6a403ebffb2d20d141fe76",
      "value": " 0/795 [00:00&lt;?, ?it/s]"
     }
    },
    "90f4e4d3667e461a8b680fb2273299a4": {
     "model_module": "@jupyter-widgets/controls",
     "model_module_version": "1.5.0",
     "model_name": "HBoxModel",
     "state": {
      "_dom_classes": [],
      "_model_module": "@jupyter-widgets/controls",
      "_model_module_version": "1.5.0",
      "_model_name": "HBoxModel",
      "_view_count": null,
      "_view_module": "@jupyter-widgets/controls",
      "_view_module_version": "1.5.0",
      "_view_name": "HBoxView",
      "box_style": "",
      "children": [
       "IPY_MODEL_998ca7c6a7e4409a8722c342ae705e84",
       "IPY_MODEL_d22865b186ab4e578eb6e918e6c3e31b",
       "IPY_MODEL_852eb514182d4abdad0c14bad1ffc506"
      ],
      "layout": "IPY_MODEL_9d3792a386a44897a59903d3c6428433"
     }
    },
    "998ca7c6a7e4409a8722c342ae705e84": {
     "model_module": "@jupyter-widgets/controls",
     "model_module_version": "1.5.0",
     "model_name": "HTMLModel",
     "state": {
      "_dom_classes": [],
      "_model_module": "@jupyter-widgets/controls",
      "_model_module_version": "1.5.0",
      "_model_name": "HTMLModel",
      "_view_count": null,
      "_view_module": "@jupyter-widgets/controls",
      "_view_module_version": "1.5.0",
      "_view_name": "HTMLView",
      "description": "",
      "description_tooltip": null,
      "layout": "IPY_MODEL_43e4c2f9cca94ad5b10f4a30b92e19aa",
      "placeholder": "​",
      "style": "IPY_MODEL_8310bdf35ae04f299e79ef60f577457a",
      "value": "Validation DataLoader 0:   0%"
     }
    },
    "9d3792a386a44897a59903d3c6428433": {
     "model_module": "@jupyter-widgets/base",
     "model_module_version": "1.2.0",
     "model_name": "LayoutModel",
     "state": {
      "_model_module": "@jupyter-widgets/base",
      "_model_module_version": "1.2.0",
      "_model_name": "LayoutModel",
      "_view_count": null,
      "_view_module": "@jupyter-widgets/base",
      "_view_module_version": "1.2.0",
      "_view_name": "LayoutView",
      "align_content": null,
      "align_items": null,
      "align_self": null,
      "border": null,
      "bottom": null,
      "display": "inline-flex",
      "flex": null,
      "flex_flow": "row wrap",
      "grid_area": null,
      "grid_auto_columns": null,
      "grid_auto_flow": null,
      "grid_auto_rows": null,
      "grid_column": null,
      "grid_gap": null,
      "grid_row": null,
      "grid_template_areas": null,
      "grid_template_columns": null,
      "grid_template_rows": null,
      "height": null,
      "justify_content": null,
      "justify_items": null,
      "left": null,
      "margin": null,
      "max_height": null,
      "max_width": null,
      "min_height": null,
      "min_width": null,
      "object_fit": null,
      "object_position": null,
      "order": null,
      "overflow": null,
      "overflow_x": null,
      "overflow_y": null,
      "padding": null,
      "right": null,
      "top": null,
      "visibility": null,
      "width": "100%"
     }
    },
    "b3a54a97220f4a288ca52035da239df1": {
     "model_module": "@jupyter-widgets/controls",
     "model_module_version": "1.5.0",
     "model_name": "FloatProgressModel",
     "state": {
      "_dom_classes": [],
      "_model_module": "@jupyter-widgets/controls",
      "_model_module_version": "1.5.0",
      "_model_name": "FloatProgressModel",
      "_view_count": null,
      "_view_module": "@jupyter-widgets/controls",
      "_view_module_version": "1.5.0",
      "_view_name": "ProgressView",
      "bar_style": "",
      "description": "",
      "description_tooltip": null,
      "layout": "IPY_MODEL_7e05b0956d1644ffb3e218e8cff50153",
      "max": 127060,
      "min": 0,
      "orientation": "horizontal",
      "style": "IPY_MODEL_6e7565f68e8f41cd965ec049628ab75b",
      "value": 127060
     }
    },
    "ba73e64d1edc4700b9f3bb9c2a5b0acd": {
     "model_module": "@jupyter-widgets/base",
     "model_module_version": "1.2.0",
     "model_name": "LayoutModel",
     "state": {
      "_model_module": "@jupyter-widgets/base",
      "_model_module_version": "1.2.0",
      "_model_name": "LayoutModel",
      "_view_count": null,
      "_view_module": "@jupyter-widgets/base",
      "_view_module_version": "1.2.0",
      "_view_name": "LayoutView",
      "align_content": null,
      "align_items": null,
      "align_self": null,
      "border": null,
      "bottom": null,
      "display": null,
      "flex": null,
      "flex_flow": null,
      "grid_area": null,
      "grid_auto_columns": null,
      "grid_auto_flow": null,
      "grid_auto_rows": null,
      "grid_column": null,
      "grid_gap": null,
      "grid_row": null,
      "grid_template_areas": null,
      "grid_template_columns": null,
      "grid_template_rows": null,
      "height": null,
      "justify_content": null,
      "justify_items": null,
      "left": null,
      "margin": null,
      "max_height": null,
      "max_width": null,
      "min_height": null,
      "min_width": null,
      "object_fit": null,
      "object_position": null,
      "order": null,
      "overflow": null,
      "overflow_x": null,
      "overflow_y": null,
      "padding": null,
      "right": null,
      "top": null,
      "visibility": null,
      "width": null
     }
    },
    "c746140d9d6a403ebffb2d20d141fe76": {
     "model_module": "@jupyter-widgets/controls",
     "model_module_version": "1.5.0",
     "model_name": "DescriptionStyleModel",
     "state": {
      "_model_module": "@jupyter-widgets/controls",
      "_model_module_version": "1.5.0",
      "_model_name": "DescriptionStyleModel",
      "_view_count": null,
      "_view_module": "@jupyter-widgets/base",
      "_view_module_version": "1.2.0",
      "_view_name": "StyleView",
      "description_width": ""
     }
    },
    "d22865b186ab4e578eb6e918e6c3e31b": {
     "model_module": "@jupyter-widgets/controls",
     "model_module_version": "1.5.0",
     "model_name": "FloatProgressModel",
     "state": {
      "_dom_classes": [],
      "_model_module": "@jupyter-widgets/controls",
      "_model_module_version": "1.5.0",
      "_model_name": "FloatProgressModel",
      "_view_count": null,
      "_view_module": "@jupyter-widgets/controls",
      "_view_module_version": "1.5.0",
      "_view_name": "ProgressView",
      "bar_style": "",
      "description": "",
      "description_tooltip": null,
      "layout": "IPY_MODEL_252a2054d53f4437942859c1efca9de7",
      "max": 795,
      "min": 0,
      "orientation": "horizontal",
      "style": "IPY_MODEL_e151c4e8265248258cc06e502e1066d2",
      "value": 0
     }
    },
    "e151c4e8265248258cc06e502e1066d2": {
     "model_module": "@jupyter-widgets/controls",
     "model_module_version": "1.5.0",
     "model_name": "ProgressStyleModel",
     "state": {
      "_model_module": "@jupyter-widgets/controls",
      "_model_module_version": "1.5.0",
      "_model_name": "ProgressStyleModel",
      "_view_count": null,
      "_view_module": "@jupyter-widgets/base",
      "_view_module_version": "1.2.0",
      "_view_name": "StyleView",
      "bar_color": null,
      "description_width": ""
     }
    },
    "e195eb7eb4ff45ceb4265e79bef75e63": {
     "model_module": "@jupyter-widgets/controls",
     "model_module_version": "1.5.0",
     "model_name": "DescriptionStyleModel",
     "state": {
      "_model_module": "@jupyter-widgets/controls",
      "_model_module_version": "1.5.0",
      "_model_name": "DescriptionStyleModel",
      "_view_count": null,
      "_view_module": "@jupyter-widgets/base",
      "_view_module_version": "1.2.0",
      "_view_name": "StyleView",
      "description_width": ""
     }
    },
    "e2f9c1d0eae947f48dd3a8d4d27f0527": {
     "model_module": "@jupyter-widgets/base",
     "model_module_version": "1.2.0",
     "model_name": "LayoutModel",
     "state": {
      "_model_module": "@jupyter-widgets/base",
      "_model_module_version": "1.2.0",
      "_model_name": "LayoutModel",
      "_view_count": null,
      "_view_module": "@jupyter-widgets/base",
      "_view_module_version": "1.2.0",
      "_view_name": "LayoutView",
      "align_content": null,
      "align_items": null,
      "align_self": null,
      "border": null,
      "bottom": null,
      "display": null,
      "flex": null,
      "flex_flow": null,
      "grid_area": null,
      "grid_auto_columns": null,
      "grid_auto_flow": null,
      "grid_auto_rows": null,
      "grid_column": null,
      "grid_gap": null,
      "grid_row": null,
      "grid_template_areas": null,
      "grid_template_columns": null,
      "grid_template_rows": null,
      "height": null,
      "justify_content": null,
      "justify_items": null,
      "left": null,
      "margin": null,
      "max_height": null,
      "max_width": null,
      "min_height": null,
      "min_width": null,
      "object_fit": null,
      "object_position": null,
      "order": null,
      "overflow": null,
      "overflow_x": null,
      "overflow_y": null,
      "padding": null,
      "right": null,
      "top": null,
      "visibility": null,
      "width": null
     }
    },
    "f2aa1756e16d4a669f60df7d20292b77": {
     "model_module": "@jupyter-widgets/controls",
     "model_module_version": "1.5.0",
     "model_name": "HTMLModel",
     "state": {
      "_dom_classes": [],
      "_model_module": "@jupyter-widgets/controls",
      "_model_module_version": "1.5.0",
      "_model_name": "HTMLModel",
      "_view_count": null,
      "_view_module": "@jupyter-widgets/controls",
      "_view_module_version": "1.5.0",
      "_view_name": "HTMLView",
      "description": "",
      "description_tooltip": null,
      "layout": "IPY_MODEL_2c5c2867c0d6444bad036f4e849fee29",
      "placeholder": "​",
      "style": "IPY_MODEL_e195eb7eb4ff45ceb4265e79bef75e63",
      "value": "Map (num_proc=4):  99%"
     }
    }
   }
  }
 },
 "nbformat": 4,
 "nbformat_minor": 4
}
