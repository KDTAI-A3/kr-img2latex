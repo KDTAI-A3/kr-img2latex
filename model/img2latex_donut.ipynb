{
  "cells": [
    {
      "cell_type": "markdown",
      "metadata": {
        "id": "_6aTucp-3V-R"
      },
      "source": [
        "## 사전 설정"
      ]
    },
    {
      "cell_type": "code",
      "execution_count": null,
      "metadata": {
        "colab": {
          "base_uri": "https://localhost:8080/"
        },
        "id": "53vY4sb73TFn",
        "outputId": "7027d9ac-1a9b-4a70-bdb4-fb0beec3f05b"
      },
      "outputs": [
        {
          "name": "stdout",
          "output_type": "stream",
          "text": [
            "Drive already mounted at /content/drive; to attempt to forcibly remount, call drive.mount(\"/content/drive\", force_remount=True).\n"
          ]
        }
      ],
      "source": [
        "from google.colab import drive\n",
        "drive.mount('/content/drive')"
      ]
    },
    {
      "cell_type": "code",
      "execution_count": null,
      "metadata": {
        "id": "UdaTpuB93VaV"
      },
      "outputs": [],
      "source": [
        "!pip install -U sentencepiece datasets transformers pyarrow polyleven pytorch-lightning -q"
      ]
    },
    {
      "cell_type": "code",
      "execution_count": null,
      "metadata": {
        "id": "UlbzwT9H3kRv"
      },
      "outputs": [],
      "source": [
        "import os\n",
        "import re\n",
        "import json\n",
        "import glob, shutil\n",
        "import xml.etree.ElementTree as elemTree\n",
        "from collections import Counter\n",
        "from itertools import chain\n",
        "from pathlib import Path\n",
        "from typing import List, Dict, Union, Tuple, Any\n",
        "\n",
        "import matplotlib.pyplot as plt\n",
        "import numpy as np\n",
        "import pandas as pd\n",
        "import torch\n",
        "from PIL import Image\n",
        "from sklearn.model_selection import StratifiedKFold\n",
        "from torch.utils.data import DataLoader\n",
        "from transformers import (\n",
        "    DonutProcessor,\n",
        "    VisionEncoderDecoderConfig,\n",
        "    VisionEncoderDecoderModel,\n",
        "    get_scheduler\n",
        ")\n",
        "from datasets import Dataset\n",
        "from datasets import Image as ds_img\n",
        "from polyleven import levenshtein"
      ]
    },
    {
      "cell_type": "code",
      "execution_count": null,
      "metadata": {
        "colab": {
          "base_uri": "https://localhost:8080/"
        },
        "id": "4PTmcqk827la",
        "outputId": "e281fd5e-8309-4937-8dc6-46170f10249e"
      },
      "outputs": [
        {
          "name": "stdout",
          "output_type": "stream",
          "text": [
            "fatal: destination path 'kr-img2latex' already exists and is not an empty directory.\n",
            "/content/kr-img2latex\n"
          ]
        }
      ],
      "source": [
        "!git clone https://github.com/KDTAI-A3/kr-img2latex.git\n",
        "%cd kr-img2latex"
      ]
    },
    {
      "cell_type": "markdown",
      "metadata": {
        "id": "k0JU7c2_38C3"
      },
      "source": [
        "## 데이터 압축 해제 및 정리"
      ]
    },
    {
      "cell_type": "markdown",
      "metadata": {
        "id": "KSavHkUNYqMJ"
      },
      "source": [
        "### Download Data"
      ]
    },
    {
      "cell_type": "code",
      "execution_count": null,
      "metadata": {
        "colab": {
          "base_uri": "https://localhost:8080/"
        },
        "id": "zykhvvZe3HjK",
        "outputId": "93697d7b-f158-4a77-dd64-1354361c7b29"
      },
      "outputs": [
        {
          "name": "stdout",
          "output_type": "stream",
          "text": [
            "[Errno 2] No such file or directory: 'data'\n",
            "/content\n",
            "chmod: cannot access './download.sh': No such file or directory\n",
            "/bin/bash: ./download.sh: No such file or directory\n"
          ]
        }
      ],
      "source": [
        "%cd data\n",
        "!chmod u+x ./download.sh\n",
        "!./download.sh"
      ]
    },
    {
      "cell_type": "code",
      "execution_count": null,
      "metadata": {
        "colab": {
          "base_uri": "https://localhost:8080/"
        },
        "id": "h7cNJm7M354Y",
        "outputId": "ce56e0b2-3573-46b4-8d8d-6ee2ba90415f"
      },
      "outputs": [
        {
          "name": "stdout",
          "output_type": "stream",
          "text": [
            "python3: can't open file '/content/./unzip.py': [Errno 2] No such file or directory\n"
          ]
        }
      ],
      "source": [
        "!python ./unzip.py"
      ]
    },
    {
      "cell_type": "code",
      "execution_count": null,
      "metadata": {
        "id": "AcWKVy01451i"
      },
      "outputs": [],
      "source": [
        "images_path = glob.glob('/content/kr-img2latex/data/train/images/*')\n",
        "train_json_files = glob.glob('/content/kr-img2latex/data/train/annotations/*')"
      ]
    },
    {
      "cell_type": "markdown",
      "metadata": {
        "id": "Xf7ClMmse-Ik"
      },
      "source": [
        "### For Temporary Drive"
      ]
    },
    {
      "cell_type": "code",
      "execution_count": null,
      "metadata": {
        "id": "HQZ8l6_Je6nB"
      },
      "outputs": [],
      "source": [
        "train_annotation_paths = glob.glob('/content/drive/MyDrive/programmers/Team_caffeine_holic/01.데이터/1.Training/라벨링데이터/*.zip')\n",
        "train_image_paths = glob.glob('/content/drive/MyDrive/programmers/Team_caffeine_holic/01.데이터/1.Training/원천데이터/*.zip')"
      ]
    },
    {
      "cell_type": "code",
      "execution_count": null,
      "metadata": {
        "id": "GyMzfP4k9G74"
      },
      "outputs": [],
      "source": [
        "# 임시적으로 생성\n",
        "\n",
        "def organize_train_dataset(value: str) -> list:\n",
        "  \"\"\"\n",
        "    Unzip all train data files and organize train dataset.\n",
        "    It will be created on the directory '/content/train'.\n",
        "\n",
        "    Args:\n",
        "        value (str): The value must be either 'images' or 'annotations'.\n",
        "\n",
        "    Returns:\n",
        "        list: File path list of the dataset.\n",
        "  \"\"\"\n",
        "  extract_dir = f'./train/{value}'\n",
        "  archive_format = 'zip'\n",
        "\n",
        "  if value == 'annotations':\n",
        "    file_paths = train_annotation_paths\n",
        "  else:\n",
        "    file_paths = train_image_paths\n",
        "\n",
        "  for filename in file_paths:\n",
        "    shutil.unpack_archive(filename, extract_dir, archive_format)\n",
        "\n",
        "  for folder_name, _, file_names in os.walk(extract_dir):\n",
        "    if len(file_names) > 0:\n",
        "      for f in file_names:\n",
        "        current_file = os.path.join(folder_name, f)\n",
        "        shutil.move(current_file, extract_dir)\n",
        "\n",
        "  folder_name, sub_folders, _ = next(iter(os.walk(extract_dir)))\n",
        "  for sf in sub_folders:\n",
        "    shutil.rmtree(os.path.join(folder_name, sf))\n",
        "\n",
        "  return glob.glob(os.path.join(extract_dir,'*'))"
      ]
    },
    {
      "cell_type": "code",
      "execution_count": null,
      "metadata": {
        "colab": {
          "base_uri": "https://localhost:8080/",
          "height": 306
        },
        "id": "2Pk7Gylk_XsA",
        "outputId": "aae51883-8f94-484b-aeb3-3b0ef40853a9"
      },
      "outputs": [
        {
          "ename": "StopIteration",
          "evalue": "ignored",
          "output_type": "error",
          "traceback": [
            "\u001b[0;31m---------------------------------------------------------------------------\u001b[0m",
            "\u001b[0;31mStopIteration\u001b[0m                             Traceback (most recent call last)",
            "\u001b[0;32m<ipython-input-11-8385ef46ef17>\u001b[0m in \u001b[0;36m<cell line: 1>\u001b[0;34m()\u001b[0m\n\u001b[0;32m----> 1\u001b[0;31m \u001b[0mimages_path\u001b[0m \u001b[0;34m=\u001b[0m \u001b[0morganize_train_dataset\u001b[0m\u001b[0;34m(\u001b[0m\u001b[0;34m'images'\u001b[0m\u001b[0;34m)\u001b[0m\u001b[0;34m\u001b[0m\u001b[0;34m\u001b[0m\u001b[0m\n\u001b[0m\u001b[1;32m      2\u001b[0m \u001b[0mtrain_json_files\u001b[0m \u001b[0;34m=\u001b[0m \u001b[0morganize_train_dataset\u001b[0m\u001b[0;34m(\u001b[0m\u001b[0;34m'annotations'\u001b[0m\u001b[0;34m)\u001b[0m\u001b[0;34m\u001b[0m\u001b[0;34m\u001b[0m\u001b[0m\n",
            "\u001b[0;32m<ipython-input-10-041ea35f3ff9>\u001b[0m in \u001b[0;36morganize_train_dataset\u001b[0;34m(value)\u001b[0m\n\u001b[1;32m     29\u001b[0m         \u001b[0mshutil\u001b[0m\u001b[0;34m.\u001b[0m\u001b[0mmove\u001b[0m\u001b[0;34m(\u001b[0m\u001b[0mcurrent_file\u001b[0m\u001b[0;34m,\u001b[0m \u001b[0mextract_dir\u001b[0m\u001b[0;34m)\u001b[0m\u001b[0;34m\u001b[0m\u001b[0;34m\u001b[0m\u001b[0m\n\u001b[1;32m     30\u001b[0m \u001b[0;34m\u001b[0m\u001b[0m\n\u001b[0;32m---> 31\u001b[0;31m   \u001b[0mfolder_name\u001b[0m\u001b[0;34m,\u001b[0m \u001b[0msub_folders\u001b[0m\u001b[0;34m,\u001b[0m \u001b[0m_\u001b[0m \u001b[0;34m=\u001b[0m \u001b[0mnext\u001b[0m\u001b[0;34m(\u001b[0m\u001b[0miter\u001b[0m\u001b[0;34m(\u001b[0m\u001b[0mos\u001b[0m\u001b[0;34m.\u001b[0m\u001b[0mwalk\u001b[0m\u001b[0;34m(\u001b[0m\u001b[0mextract_dir\u001b[0m\u001b[0;34m)\u001b[0m\u001b[0;34m)\u001b[0m\u001b[0;34m)\u001b[0m\u001b[0;34m\u001b[0m\u001b[0;34m\u001b[0m\u001b[0m\n\u001b[0m\u001b[1;32m     32\u001b[0m   \u001b[0;32mfor\u001b[0m \u001b[0msf\u001b[0m \u001b[0;32min\u001b[0m \u001b[0msub_folders\u001b[0m\u001b[0;34m:\u001b[0m\u001b[0;34m\u001b[0m\u001b[0;34m\u001b[0m\u001b[0m\n\u001b[1;32m     33\u001b[0m     \u001b[0mshutil\u001b[0m\u001b[0;34m.\u001b[0m\u001b[0mrmtree\u001b[0m\u001b[0;34m(\u001b[0m\u001b[0mos\u001b[0m\u001b[0;34m.\u001b[0m\u001b[0mpath\u001b[0m\u001b[0;34m.\u001b[0m\u001b[0mjoin\u001b[0m\u001b[0;34m(\u001b[0m\u001b[0mfolder_name\u001b[0m\u001b[0;34m,\u001b[0m \u001b[0msf\u001b[0m\u001b[0;34m)\u001b[0m\u001b[0;34m)\u001b[0m\u001b[0;34m\u001b[0m\u001b[0;34m\u001b[0m\u001b[0m\n",
            "\u001b[0;31mStopIteration\u001b[0m: "
          ]
        }
      ],
      "source": [
        "images_path = organize_train_dataset('images')\n",
        "train_json_files = organize_train_dataset('annotations')"
      ]
    },
    {
      "cell_type": "code",
      "execution_count": null,
      "metadata": {
        "colab": {
          "base_uri": "https://localhost:8080/"
        },
        "id": "be6UdMZKjftt",
        "outputId": "374e7b89-1421-4b01-d736-f8f484f2b83e"
      },
      "outputs": [
        {
          "data": {
            "text/plain": [
              "[]"
            ]
          },
          "execution_count": 13,
          "metadata": {},
          "output_type": "execute_result"
        }
      ],
      "source": [
        "images_path"
      ]
    },
    {
      "cell_type": "code",
      "execution_count": null,
      "metadata": {
        "id": "WrPozm3iALdf"
      },
      "outputs": [],
      "source": [
        "assert len(images_path) == len(train_json_files)"
      ]
    },
    {
      "cell_type": "markdown",
      "metadata": {
        "id": "iUx4JENiBms3"
      },
      "source": [
        "## Check Samples"
      ]
    },
    {
      "cell_type": "code",
      "execution_count": null,
      "metadata": {
        "id": "qhohOj5jBpE2"
      },
      "outputs": [],
      "source": [
        "sample_img = np.random.choice(images_path)\n",
        "sample_json = sample_img.replace('images','annotations').replace('.png','.json')"
      ]
    },
    {
      "cell_type": "code",
      "execution_count": null,
      "metadata": {
        "colab": {
          "base_uri": "https://localhost:8080/",
          "height": 43
        },
        "id": "xJbPbqTDCYsx",
        "outputId": "0e8746e1-521d-4714-bbab-b493024ee327"
      },
      "outputs": [
        {
          "data": {
            "image/png": "[encoded data removed]",
            "text/plain": [
              "<PIL.PngImagePlugin.PngImageFile image mode=RGB size=88x26 at 0x7BA1A3C69E10>"
            ]
          },
          "execution_count": 8,
          "metadata": {},
          "output_type": "execute_result"
        }
      ],
      "source": [
        "Image.open(sample_img)"
      ]
    },
    {
      "cell_type": "code",
      "execution_count": null,
      "metadata": {
        "id": "2UF9XYrCCcKx"
      },
      "outputs": [],
      "source": [
        "with open(Path(sample_json)) as jf:\n",
        "  temp_json = json.load(jf)"
      ]
    },
    {
      "cell_type": "code",
      "execution_count": null,
      "metadata": {
        "colab": {
          "base_uri": "https://localhost:8080/"
        },
        "id": "O5Z2GTfYDPBU",
        "outputId": "a78fc407-45d6-4f0c-9dd0-8baac1d0c0bb"
      },
      "outputs": [
        {
          "data": {
            "text/plain": [
              "{'id': 'b1cb1dc5-92cf-47b7-83b3-c158bc781b45',\n",
              " 'chapter_id': '813',\n",
              " 'material_type': '손글씨',\n",
              " 'segments': [{'box': [[0, 0], [88, 0], [88, 26], [0, 26]],\n",
              "   'type': '수식/텍스트',\n",
              "   'type_detail': '수식',\n",
              "   'equation': '$b=0$'}]}"
            ]
          },
          "execution_count": 10,
          "metadata": {},
          "output_type": "execute_result"
        }
      ],
      "source": [
        "temp_json"
      ]
    },
    {
      "cell_type": "code",
      "execution_count": null,
      "metadata": {
        "colab": {
          "base_uri": "https://localhost:8080/"
        },
        "id": "PTvf_9R7DeN0",
        "outputId": "586b4a15-b9cf-4f3d-e323-5287b9a5de35"
      },
      "outputs": [
        {
          "data": {
            "text/plain": [
              "[{'box': [[0, 0], [88, 0], [88, 26], [0, 26]],\n",
              "  'type': '수식/텍스트',\n",
              "  'type_detail': '수식',\n",
              "  'equation': '$b=0$'}]"
            ]
          },
          "execution_count": 11,
          "metadata": {},
          "output_type": "execute_result"
        }
      ],
      "source": [
        "temp_json['segments']"
      ]
    },
    {
      "cell_type": "markdown",
      "metadata": {
        "id": "uz9Oa4CVEO0S"
      },
      "source": [
        "$\\int_{-1}^{1}\\left|x^{3}-x\\right| d x=\\int_{-1}^{0}\\left(x^{3}-x\\right) d x+\\int_{0}^{1}\\left(-x^{3}+x\\right) d x$"
      ]
    },
    {
      "cell_type": "markdown",
      "metadata": {
        "id": "fOHJ3C5PUGik"
      },
      "source": [
        "$\\displaystyle {a_{n+1}}^{2} = a_{n+2} \\times a_{n} \\to $ 등비수열"
      ]
    },
    {
      "cell_type": "markdown",
      "metadata": {
        "id": "KlJgrue8UgXC"
      },
      "source": [
        "$\\displaystyle d$ 면"
      ]
    },
    {
      "cell_type": "markdown",
      "metadata": {
        "id": "fpWb3QMAAJQh"
      },
      "source": [
        "## Config"
      ]
    },
    {
      "cell_type": "code",
      "execution_count": null,
      "metadata": {
        "id": "kF-p_cd7Are4"
      },
      "outputs": [],
      "source": [
        "class CFG:\n",
        "\n",
        "    # General\n",
        "    debug = False\n",
        "    num_proc = 4\n",
        "    num_workers = 4\n",
        "    gpus = 1\n",
        "\n",
        "    # Data\n",
        "    max_length = 480 # 256\n",
        "    image_height = 480\n",
        "    image_width = 480\n",
        "\n",
        "    # Training\n",
        "    epochs = 1 # 빠른 확인을 위해 1로 설정, 2로 설정하는 것을 추천\n",
        "    val_check_interval = 1.0  # how many times we want to validate during an epoch\n",
        "    check_val_every_n_epoch = 1\n",
        "    gradient_clip_val = 1.0\n",
        "    lr = 3e-5\n",
        "    lr_scheduler_type = \"cosine\"\n",
        "    num_warmup_steps = 100\n",
        "    seed = 42\n",
        "    warmup_steps = 300\n",
        "    output_path = \"output\"\n",
        "    log_steps = 200\n",
        "    batch_size = 8\n",
        "    use_wandb = False"
      ]
    },
    {
      "cell_type": "markdown",
      "metadata": {
        "id": "d_QrvXTuAwCv"
      },
      "source": [
        "## Add Special Tokens"
      ]
    },
    {
      "cell_type": "code",
      "execution_count": null,
      "metadata": {
        "id": "RCiaOiVwQYmo"
      },
      "outputs": [],
      "source": [
        "PROMPT_TOKEN = \"<TPT>\"\n",
        "LINE_START = \"<line>\"\n",
        "LINE_END = \"</line>\"\n",
        "LATEX_START = \"<latex>\" # $ 가 라텍스 문법을 구분하는 토큰\n",
        "LATEX_END = \"</latex>\"\n",
        "HAND_TOKEN = \"<hand>\"\n",
        "PRINT_TOKEN = \"<print>\"\n",
        "\n",
        "\n",
        "SEPARATOR_TOKENS = [\n",
        "    PROMPT_TOKEN,\n",
        "    LINE_START,\n",
        "    LINE_END,\n",
        "    LATEX_START,\n",
        "    LATEX_END,\n",
        "    HAND_TOKEN,\n",
        "    PRINT_TOKEN,\n",
        "]\n",
        "\n",
        "new_tokens = SEPARATOR_TOKENS"
      ]
    },
    {
      "cell_type": "code",
      "execution_count": null,
      "metadata": {
        "id": "IRpFXd3pAy7b"
      },
      "outputs": [],
      "source": [
        "def get_gt_string(filepath: Union[str, os.PathLike]) -> Dict[str, str]:\n",
        "    \"\"\"\n",
        "    Get the ground truth string and x-y data from the given JSON file.\n",
        "\n",
        "    Args:\n",
        "        filepath (str): The path to the JSON file\n",
        "\n",
        "    Returns:\n",
        "        dict: A dictionary containing the ground truth string, material type, and id\n",
        "    \"\"\"\n",
        "    filepath = Path(filepath)\n",
        "\n",
        "    with open(filepath, encoding='utf-8') as fp:\n",
        "        data = json.load(fp)\n",
        "\n",
        "    data_series = data[\"segments\"]\n",
        "\n",
        "    all_lines = []\n",
        "\n",
        "    NON_OBJECT = False\n",
        "\n",
        "    for d_line in data_series:\n",
        "      if 'equation' not in d_line: # 도형, 그래프 제외\n",
        "        NON_OBJECT = True\n",
        "        break\n",
        "\n",
        "      if '$' not in d_line['equation']:\n",
        "        new_line = LINE_START + d_line['equation'] + LINE_END\n",
        "      else:\n",
        "        equation = d_line['equation'].split('$')\n",
        "        latex_line = equation[0]\n",
        "        for i, e in enumerate(equation[1:]):\n",
        "          if i%2 == 0:\n",
        "            latex_line += LATEX_START + e\n",
        "          else:\n",
        "            latex_line += LATEX_END + e\n",
        "\n",
        "        new_line = LINE_START + latex_line + LINE_END\n",
        "\n",
        "      all_lines.append(new_line)\n",
        "\n",
        "    if not NON_OBJECT:\n",
        "      if data['material_type'] == '손글씨':\n",
        "        material_type = HAND_TOKEN\n",
        "      else:\n",
        "        material_type = PRINT_TOKEN\n",
        "\n",
        "      string_lines = \"\".join(all_lines)\n",
        "\n",
        "      gt_string = PROMPT_TOKEN + material_type + string_lines\n",
        "\n",
        "      return {\n",
        "          \"ground_truth\": gt_string,\n",
        "          \"material_type\": data[\"material_type\"],\n",
        "          \"id\": data['id']\n",
        "      }\n",
        "\n",
        "    else:\n",
        "      return False"
      ]
    },
    {
      "cell_type": "code",
      "execution_count": null,
      "metadata": {
        "colab": {
          "base_uri": "https://localhost:8080/"
        },
        "id": "_7KDZIrBZcjd",
        "outputId": "c61e05d6-ca2e-477c-be39-10d15a1ffa58"
      },
      "outputs": [
        {
          "data": {
            "text/plain": [
              "{'ground_truth': '<TPT><hand><line><latex>b=0</latex></line>',\n",
              " 'material_type': '손글씨',\n",
              " 'id': 'b1cb1dc5-92cf-47b7-83b3-c158bc781b45'}"
            ]
          },
          "execution_count": 15,
          "metadata": {},
          "output_type": "execute_result"
        }
      ],
      "source": [
        "get_gt_string(sample_json)"
      ]
    },
    {
      "cell_type": "markdown",
      "metadata": {
        "id": "thoFtig2ZwAm"
      },
      "source": [
        "## 데이터셋 구축"
      ]
    },
    {
      "cell_type": "code",
      "execution_count": null,
      "metadata": {
        "colab": {
          "base_uri": "https://localhost:8080/"
        },
        "id": "vp21cQTIZxEM",
        "outputId": "5213e629-4695-47c3-8d8d-2de4c0e5ec9a"
      },
      "outputs": [
        {
          "name": "stderr",
          "output_type": "stream",
          "text": [
            "WARNING:datasets.builder:Found cached dataset generator (/root/.cache/huggingface/datasets/generator/default-7ec79dc606abd6fc/0.0.0)\n"
          ]
        }
      ],
      "source": [
        "def gen_data(files: List[Union[str, os.PathLike]]) -> Dict[str, str]:\n",
        "    \"\"\"\n",
        "    This function takes a list of json files and returns a generator that yields a\n",
        "    dictionary with the ground truth string and the path to the image.\n",
        "\n",
        "    Args:\n",
        "        files (list): A list of json files\n",
        "\n",
        "    Returns:\n",
        "        generator: A generator that yields a dictionary with the ground truth string and\n",
        "            the path to the corresponding image.\n",
        "    \"\"\"\n",
        "\n",
        "    for f in files:\n",
        "\n",
        "        result = get_gt_string(f)\n",
        "        if result:\n",
        "          yield {\n",
        "              **result,\n",
        "              \"image_path\": f.replace('annotations','images').replace('.json','.png')\n",
        "          }\n",
        "\n",
        "\n",
        "ds = Dataset.from_generator(\n",
        "    gen_data, gen_kwargs={\"files\": train_json_files}, num_proc=CFG.num_proc\n",
        ")"
      ]
    },
    {
      "cell_type": "markdown",
      "metadata": {
        "id": "7sXqC2szbN-9"
      },
      "source": [
        "## 이미지 사이즈 확인"
      ]
    },
    {
      "cell_type": "code",
      "execution_count": null,
      "metadata": {
        "colab": {
          "base_uri": "https://localhost:8080/"
        },
        "id": "JDX-zsRvbP6n",
        "outputId": "c489b905-04b2-449e-f1d5-a5b045a401a0"
      },
      "outputs": [
        {
          "name": "stderr",
          "output_type": "stream",
          "text": [
            "WARNING:datasets.arrow_dataset:Loading cached processed dataset at /root/.cache/huggingface/datasets/generator/default-7ec79dc606abd6fc/0.0.0/cache-9fa116c1c92ddb1f_*_of_00004.arrow\n"
          ]
        }
      ],
      "source": [
        "def add_image_sizes(examples: Dict[str, Union[str, os.PathLike]]) -> Dict[str, List[int]]:\n",
        "    \"\"\"\n",
        "    This function takes a dictionary of examples and adds the width and height of the\n",
        "    image to the dictionary. This is to be used with the `Dataset.map` function.\n",
        "\n",
        "    Args:\n",
        "        examples (dict): A dictionary of examples (from `map` function)\n",
        "\n",
        "    Returns:\n",
        "        dict: The dictionary with the width and height of the image added\n",
        "    \"\"\"\n",
        "\n",
        "    sizes = [Image.open(x).size for x in examples[\"image_path\"]]\n",
        "\n",
        "    width, height = list(zip(*sizes))\n",
        "\n",
        "    return {\n",
        "        \"width\": list(width),\n",
        "        \"height\": list(height),\n",
        "    }\n",
        "\n",
        "\n",
        "ds = ds.map(add_image_sizes, batched=True, num_proc=CFG.num_proc)"
      ]
    },
    {
      "cell_type": "code",
      "execution_count": null,
      "metadata": {
        "colab": {
          "base_uri": "https://localhost:8080/",
          "height": 346
        },
        "id": "8gcgjBNUbVkI",
        "outputId": "60b80898-7e23-4c39-b327-4eb95e2b1412"
      },
      "outputs": [
        {
          "data": {
            "image/png": "[encoded data removed]",
            "text/plain": [
              "<Figure size 1000x1000 with 1 Axes>"
            ]
          },
          "metadata": {},
          "output_type": "display_data"
        }
      ],
      "source": [
        "plt.figure(figsize=(10, 10))\n",
        "\n",
        "plt.scatter(x=ds[\"width\"], y=ds[\"height\"], marker=\"o\", alpha=0.5)\n",
        "\n",
        "# Add axis labels\n",
        "plt.xlabel(\"Width\")\n",
        "plt.ylabel(\"Height\")\n",
        "\n",
        "# Add a title\n",
        "plt.title(\"Image Dimensions\")\n",
        "\n",
        "# Add gridlines\n",
        "plt.grid(True)\n",
        "\n",
        "# Set aspect ratio to be equal\n",
        "plt.gca().set_aspect(\"equal\", adjustable=\"box\")\n",
        "\n",
        "# Show the plot\n",
        "plt.show()"
      ]
    },
    {
      "cell_type": "markdown",
      "metadata": {
        "id": "2jz5QsZacFef"
      },
      "source": [
        "## 모델 CONFIG"
      ]
    },
    {
      "cell_type": "code",
      "execution_count": null,
      "metadata": {
        "colab": {
          "base_uri": "https://localhost:8080/"
        },
        "id": "QmXC6GutcG07",
        "outputId": "7c42fa90-c987-4ec1-e517-af8948d2971e"
      },
      "outputs": [
        {
          "name": "stdout",
          "output_type": "stream",
          "text": [
            "480 480 480\n"
          ]
        }
      ],
      "source": [
        "config = VisionEncoderDecoderConfig.from_pretrained(\"naver-clova-ix/donut-base\")\n",
        "config.encoder.image_size = (CFG.image_height, CFG.image_width)\n",
        "config.decoder.max_length = CFG.max_length\n",
        "\n",
        "print(CFG.image_height, CFG.image_width, CFG.max_length)"
      ]
    },
    {
      "cell_type": "code",
      "execution_count": null,
      "metadata": {
        "colab": {
          "base_uri": "https://localhost:8080/"
        },
        "id": "Wddi1O2gcRe8",
        "outputId": "2314ae11-1564-4b98-c68c-bcfc38368b81"
      },
      "outputs": [
        {
          "name": "stderr",
          "output_type": "stream",
          "text": [
            "Could not find image processor class in the image processor config or the model config. Loading based on pattern matching with the model's feature extractor configuration.\n"
          ]
        }
      ],
      "source": [
        "processor = DonutProcessor.from_pretrained(\"naver-clova-ix/donut-base\")\n",
        "processor.image_processor.size = {\n",
        "    \"height\": CFG.image_height,\n",
        "    \"width\": CFG.image_width,\n",
        "}"
      ]
    },
    {
      "cell_type": "markdown",
      "metadata": {
        "id": "VV6-5qRqTb9I"
      },
      "source": [
        "## 토크나이징"
      ]
    },
    {
      "cell_type": "code",
      "execution_count": null,
      "metadata": {
        "id": "4bbrJSMqqSNi"
      },
      "outputs": [],
      "source": [
        "tree = elemTree.parse('/content/kr-img2latex/vocab/tex_list.xml')\n",
        "keywords = tree.find('AutoComplete').findall('KeyWord')\n",
        "math_tokens = ['\\\\' + x.get('name') for x in keywords]"
      ]
    },
    {
      "cell_type": "code",
      "execution_count": null,
      "metadata": {
        "colab": {
          "base_uri": "https://localhost:8080/"
        },
        "id": "dtcVk_0yUzJD",
        "outputId": "b64df953-7f54-4f00-a719-fcf46ae6b16b"
      },
      "outputs": [
        {
          "data": {
            "text/plain": [
              "True"
            ]
          },
          "execution_count": 22,
          "metadata": {},
          "output_type": "execute_result"
        }
      ],
      "source": [
        "'\\\\int' in math_tokens"
      ]
    },
    {
      "cell_type": "code",
      "execution_count": null,
      "metadata": {
        "colab": {
          "base_uri": "https://localhost:8080/"
        },
        "id": "1nteiR-w5JHQ",
        "outputId": "7cd8f7b5-cf27-44a2-e268-1808ff399f73"
      },
      "outputs": [
        {
          "data": {
            "text/plain": [
              "['\\\\Alph',\n",
              " '\\\\Alpha',\n",
              " '\\\\AltMacroFont',\n",
              " '\\\\AmSTeX',\n",
              " '\\\\Appendix',\n",
              " '\\\\Arrowvert',\n",
              " '\\\\AtBeginDocument',\n",
              " '\\\\AtEndClass',\n",
              " '\\\\AtEndDocument',\n",
              " '\\\\AtEndOfClass']"
            ]
          },
          "execution_count": 23,
          "metadata": {},
          "output_type": "execute_result"
        }
      ],
      "source": [
        "math_tokens[:10]"
      ]
    },
    {
      "cell_type": "markdown",
      "metadata": {
        "id": "FBu8ic0UUb2M"
      },
      "source": [
        "### UNK 토큰 핸들링"
      ]
    },
    {
      "cell_type": "code",
      "execution_count": null,
      "metadata": {
        "colab": {
          "base_uri": "https://localhost:8080/"
        },
        "id": "h5xnlNSVcU2U",
        "outputId": "517c5fce-5f90-4cff-9289-5c2683ac52b5"
      },
      "outputs": [
        {
          "name": "stderr",
          "output_type": "stream",
          "text": [
            "WARNING:datasets.arrow_dataset:Loading cached processed dataset at /root/.cache/huggingface/datasets/generator/default-7ec79dc606abd6fc/0.0.0/cache-c4bb1e046a6e307c_*_of_00004.arrow\n"
          ]
        }
      ],
      "source": [
        "def check_for_unk(examples: Dict[str, str]) -> Dict[str, List[str]]:\n",
        "    \"\"\"\n",
        "    Check for unknown tokens in the given examples.\n",
        "\n",
        "    This function takes a dictionary containing a list of ground truth texts and\n",
        "    tokenizes them using the processor's tokenizer. It then checks for any unknown\n",
        "    tokens in the tokenized text and returns a dictionary containing a list of the\n",
        "    unknown tokens for each example.\n",
        "\n",
        "    Args:\n",
        "        examples (dict): A dictionary containing a list of ground truth texts.\n",
        "            Example: {\"ground_truth\": [\"text1\", \"text2\", ...]}\n",
        "\n",
        "    Returns:\n",
        "        dict: A dictionary containing a list of unknown tokens for each example.\n",
        "            Example: {\"unk_tokens\": [[\"unk1\", \"unk2\"], [], [\"unk3\"], ...]}\n",
        "    \"\"\"\n",
        "\n",
        "    texts = examples[\"ground_truth\"]\n",
        "\n",
        "    ids = processor.tokenizer(texts).input_ids\n",
        "    tokens = [processor.tokenizer.tokenize(x, add_special_tokens=True) for x in texts]\n",
        "\n",
        "    unk_tokens = []\n",
        "    for example_ids, example_tokens in zip(ids, tokens):\n",
        "        example_unk_tokens = []\n",
        "        for i in range(len(example_ids)):\n",
        "            if example_ids[i] == processor.tokenizer.unk_token_id:\n",
        "                example_unk_tokens.append(example_tokens[i])\n",
        "\n",
        "        unk_tokens.append(example_unk_tokens)\n",
        "\n",
        "    return {\"unk_tokens\": unk_tokens}\n",
        "\n",
        "\n",
        "unk = ds.map(check_for_unk, batched=True, num_proc=CFG.num_proc)"
      ]
    },
    {
      "cell_type": "code",
      "execution_count": null,
      "metadata": {
        "colab": {
          "base_uri": "https://localhost:8080/"
        },
        "id": "HZ9oS0cScUx3",
        "outputId": "f130c941-b286-4a25-a715-24b060e936e0"
      },
      "outputs": [
        {
          "name": "stderr",
          "output_type": "stream",
          "text": [
            "WARNING:datasets.arrow_dataset:Loading cached processed dataset at /root/.cache/huggingface/datasets/generator/default-7ec79dc606abd6fc/0.0.0/cache-afdf27d17b7711c2_*_of_00004.arrow\n"
          ]
        },
        {
          "name": "stdout",
          "output_type": "stream",
          "text": [
            "29559\n"
          ]
        },
        {
          "data": {
            "text/plain": [
              "{'ground_truth': '<TPT><hand><line><latex>\\\\frac{x_{1} x}{16}+\\\\frac{y_{1} y}{4}=1</latex></line>',\n",
              " 'material_type': '손글씨',\n",
              " 'id': 'ec0d2b7b-4393-424d-9438-90c20a10a4b0',\n",
              " 'image_path': '/content/kr-img2latex/data/train/images/M_HS_h3_1231_01417.png',\n",
              " 'width': 232,\n",
              " 'height': 69,\n",
              " 'unk_tokens': ['1', '1']}"
            ]
          },
          "execution_count": 25,
          "metadata": {},
          "output_type": "execute_result"
        }
      ],
      "source": [
        "# Let's look at only the examples with unknown tokens\n",
        "unk = unk.filter(lambda x: len(x[\"unk_tokens\"]) > 0, num_proc=CFG.num_proc)\n",
        "\n",
        "print(len(unk))\n",
        "\n",
        "unk[0]"
      ]
    },
    {
      "cell_type": "code",
      "execution_count": null,
      "metadata": {
        "id": "VO_hOL_kcz7H"
      },
      "outputs": [],
      "source": [
        "all_unk_tokens = [x for y in unk[\"unk_tokens\"] for x in y]\n",
        "\n",
        "# Counter(all_unk_tokens)"
      ]
    },
    {
      "cell_type": "code",
      "execution_count": null,
      "metadata": {
        "id": "bFmYJttmt7OH"
      },
      "outputs": [],
      "source": [
        "text_unk_tokens = list(set(all_unk_tokens))\n",
        "text_unk_tokens.remove('1')"
      ]
    },
    {
      "cell_type": "code",
      "execution_count": null,
      "metadata": {
        "colab": {
          "base_uri": "https://localhost:8080/"
        },
        "id": "jb9q2MJ7ebFR",
        "outputId": "2d1e0fe1-d25b-46a9-9465-456d133e1856"
      },
      "outputs": [
        {
          "name": "stdout",
          "output_type": "stream",
          "text": [
            "2489 tokens added\n"
          ]
        }
      ],
      "source": [
        "# 토큰 추가하기\n",
        "num_added = processor.tokenizer.add_tokens([\"<one>\"] + new_tokens + math_tokens + text_unk_tokens)\n",
        "print(num_added, \"tokens added\")"
      ]
    },
    {
      "cell_type": "code",
      "execution_count": null,
      "metadata": {
        "colab": {
          "base_uri": "https://localhost:8080/"
        },
        "id": "ZmF1KNa4eUUM",
        "outputId": "5e36797a-793f-4f80-e48a-707fb10128b9"
      },
      "outputs": [
        {
          "name": "stdout",
          "output_type": "stream",
          "text": [
            "ids: [0, 57526, 57531, 57527, 57529, 40769, 7690, 40392, 9026, 40392, 11938, 9026, 58296, 1741, 3, 52613, 32650, 56548, 52613, 7690, 40392, 45391, 43440, 40392, 36966, 35815, 35934, 35815, 52872, 35815, 40711, 57530, 57528, 2]\n",
            "tokenized: ['<TPT>', '<hand>', '<line>', '<latex>', '▁P', '(', 'x', '=', 'x', ')', '=', '\\\\frac', '▁{', '1', '}', '{', '10', '}', '(', 'x', '-1', ')(', 'x', '=1', ',', '2', ',', '3,4', ',', '5)', '</latex>', '</line>']\n",
            "decoded: <s><TPT><hand><line><latex> P(x=x)=\\frac {<unk>}{10}(x-1)(x=1,2,3,4,5)</latex></line></s>\n",
            "unk id: 3\n"
          ]
        }
      ],
      "source": [
        "example_str = \"<TPT><hand><line><latex>P(x=x)=\\\\frac{1}{10}(x-1)(x=1,2,3,4,5)</latex></line>\"\n",
        "\n",
        "temp_ids = processor.tokenizer(example_str).input_ids\n",
        "print(\"ids:\", temp_ids)\n",
        "print(\"tokenized:\", processor.tokenizer.tokenize(example_str))\n",
        "print(\"decoded:\", processor.tokenizer.decode(temp_ids))\n",
        "print(\"unk id:\", processor.tokenizer.unk_token_id)"
      ]
    },
    {
      "cell_type": "code",
      "execution_count": null,
      "metadata": {
        "id": "nSrz3DKMzXuQ"
      },
      "outputs": [],
      "source": [
        "config.pad_token_id = processor.tokenizer.pad_token_id\n",
        "config.decoder_start_token_id = processor.tokenizer.convert_tokens_to_ids([PROMPT_TOKEN])[0]\n",
        "#"
      ]
    },
    {
      "cell_type": "markdown",
      "metadata": {
        "id": "EwQnWDN9uRPI"
      },
      "source": [
        "## Pixel Value, Input Id 전처리"
      ]
    },
    {
      "cell_type": "code",
      "execution_count": null,
      "metadata": {
        "id": "WSj4kgtEuVLi"
      },
      "outputs": [],
      "source": [
        "from functools import partial\n",
        "\n",
        "one_token_id = processor.tokenizer(\"<one>\", add_special_tokens=False).input_ids[0]\n",
        "unk_token_id = processor.tokenizer.unk_token_id\n",
        "\n",
        "\n",
        "def replace_unk_one_tokens_with_one(example_ids: List[int], example_tokens: List[str], one_token_id:int, unk_token_id:int) -> List[int]:\n",
        "    \"\"\"\n",
        "    Replace unknown tokens that represent \"1\" with the correct token id.\n",
        "\n",
        "    Args:\n",
        "        example_ids (list): List of token ids for a given example\n",
        "        example_tokens (list): List of tokens for the same given example\n",
        "        one_token_id (int): Token id for the \"<one>\" token\n",
        "        unk_token_id (int): Token id for the unknown token\n",
        "\n",
        "    Returns:\n",
        "        list: The updated list of token ids with the correct token id for \"1\"\n",
        "    \"\"\"\n",
        "\n",
        "    temp_ids = []\n",
        "    for id_, token in zip(example_ids, example_tokens):\n",
        "        if id_ == unk_token_id and token == \"1\":\n",
        "            id_ = one_token_id\n",
        "        temp_ids.append(id_)\n",
        "    return temp_ids\n",
        "\n",
        "\n",
        "def preprocess(examples: Dict[str, str], processor: DonutProcessor, CFG: CFG) -> Dict[str, Union[torch.Tensor, List[int], List[str]]]:\n",
        "    \"\"\"\n",
        "    Preprocess the given examples.\n",
        "\n",
        "    This function processes the input examples by tokenizing the texts, replacing\n",
        "    any unknown tokens that represent \"1\" with the correct token id, and loading\n",
        "    the images.\n",
        "\n",
        "    Args:\n",
        "        examples (dict): A dictionary containing ground truth texts, image paths, and ids\n",
        "        processor: An object responsible for tokenizing texts and processing images\n",
        "        CFG: A configuration object containing settings and hyperparameters\n",
        "\n",
        "    Returns:\n",
        "        dict: A dictionary containing preprocessed images, token ids, and ids\n",
        "    \"\"\"\n",
        "\n",
        "    pixel_values = []\n",
        "\n",
        "    texts = examples[\"ground_truth\"]\n",
        "\n",
        "    ids = processor.tokenizer(\n",
        "        texts,\n",
        "        add_special_tokens=False,\n",
        "        max_length=CFG.max_length,\n",
        "        padding=True,\n",
        "        truncation=True,\n",
        "    ).input_ids\n",
        "\n",
        "    if isinstance(texts, str):\n",
        "        texts = [texts]\n",
        "\n",
        "    tokens = [processor.tokenizer.tokenize(text, add_special_tokens=False) for text in texts]\n",
        "\n",
        "    one_token_id = processor.tokenizer(\"<one>\", add_special_tokens=False).input_ids[0]\n",
        "    unk_token_id = processor.tokenizer.unk_token_id\n",
        "\n",
        "    final_ids = [\n",
        "        replace_unk_one_tokens_with_one(example_ids, example_tokens, one_token_id, unk_token_id)\n",
        "        for example_ids, example_tokens in zip(ids, tokens)\n",
        "    ]\n",
        "\n",
        "    for sample in examples[\"image_path\"]:\n",
        "        pixel_values.append(processor(sample.convert(\"RGB\").resize((CFG.image_width,CFG.image_height)), random_padding=True).pixel_values)\n",
        "\n",
        "    return {\n",
        "        \"pixel_values\": torch.tensor(np.vstack(pixel_values)),\n",
        "        \"input_ids\": final_ids,\n",
        "        \"id\": examples[\"id\"],\n",
        "    }\n",
        "\n",
        "\n",
        "image_ds = ds.cast_column(\"image_path\", ds_img())\n",
        "image_ds.set_transform(partial(preprocess, processor=processor, CFG=CFG))"
      ]
    },
    {
      "cell_type": "code",
      "execution_count": null,
      "metadata": {
        "colab": {
          "base_uri": "https://localhost:8080/"
        },
        "id": "EdFNqlE_uXmb",
        "outputId": "a98c99e9-c892-42e5-f657-23fdc24adc0e"
      },
      "outputs": [
        {
          "name": "stdout",
          "output_type": "stream",
          "text": [
            "torch.Size([3, 3, 480, 480])\n",
            "<TPT><hand><line><latex> m \\times n=-1</latex></line>\n",
            "12\n",
            "['<TPT>', '<hand>', '<line>', '<latex>', '▁m', '▁', '\\\\times', '▁n', '=', '-1', '</latex>', '</line>']\n"
          ]
        }
      ],
      "source": [
        "sample = image_ds[[0, 1, 2]]\n",
        "\n",
        "print(sample[\"pixel_values\"].shape)\n",
        "print(processor.decode(sample[\"input_ids\"][2]))\n",
        "print(len(sample[\"input_ids\"][2]))\n",
        "print(processor.tokenizer.convert_ids_to_tokens(sample[\"input_ids\"][2]))"
      ]
    },
    {
      "cell_type": "code",
      "execution_count": null,
      "metadata": {
        "colab": {
          "base_uri": "https://localhost:8080/",
          "height": 490
        },
        "id": "B-mtoIeDzFpG",
        "outputId": "9d6af17c-79f9-446a-df48-5c36c6740fea"
      },
      "outputs": [
        {
          "name": "stderr",
          "output_type": "stream",
          "text": [
            "WARNING:matplotlib.image:Clipping input data to the valid range for imshow with RGB data ([0..1] for floats or [0..255] for integers).\n"
          ]
        },
        {
          "data": {
            "text/plain": [
              "<matplotlib.image.AxesImage at 0x7ba1a3c23c70>"
            ]
          },
          "execution_count": 33,
          "metadata": {},
          "output_type": "execute_result"
        },
        {
          "data": {
            "image/png": "[encoded data removed]",
            "text/plain": [
              "<Figure size 640x480 with 1 Axes>"
            ]
          },
          "metadata": {},
          "output_type": "display_data"
        }
      ],
      "source": [
        "plt.imshow(sample[\"pixel_values\"][0].permute(1,2,0))"
      ]
    },
    {
      "cell_type": "markdown",
      "metadata": {
        "id": "JEjezB9N0sCH"
      },
      "source": [
        "## Splits 만들기"
      ]
    },
    {
      "cell_type": "code",
      "execution_count": null,
      "metadata": {
        "id": "Gi3Lh4E-8lyt"
      },
      "outputs": [],
      "source": [
        "# # train_test_split 사용하는 방법\n",
        "# from sklearn.model_selection import train_test_split\n",
        "\n",
        "# traIn_ds, val_ds = train_test_split(ds, test_size=0.1, random_state=CFG.seed)\n",
        "\n",
        "# train_ds = traIn_ds.cast_column(\"image_path\", ds_img())\n",
        "# train_ds.set_transform(partial(preprocess, processor=processor, CFG=CFG))\n",
        "\n",
        "# val_gt_ds = val_ds\n",
        "# val_ds = val_ds.cast_column(\"image_path\", ds_img())\n",
        "# val_ds.set_transform(partial(preprocess, processor=processor, CFG=CFG))"
      ]
    },
    {
      "cell_type": "code",
      "execution_count": null,
      "metadata": {
        "id": "wfEpLTY71Sa5"
      },
      "outputs": [],
      "source": [
        "skf = StratifiedKFold(n_splits=80)\n",
        "\n",
        "fold_idxs = []\n",
        "\n",
        "for _, val_idxs in skf.split(ds[\"material_type\"], y=ds[\"material_type\"]):\n",
        "    fold_idxs.append(val_idxs)"
      ]
    },
    {
      "cell_type": "code",
      "execution_count": null,
      "metadata": {
        "colab": {
          "base_uri": "https://localhost:8080/"
        },
        "id": "-D59DGmD-8Nz",
        "outputId": "677a093a-7dbe-4f44-8720-3f0d7365e75a"
      },
      "outputs": [
        {
          "data": {
            "text/plain": [
              "[array([   0,    1,    2, ..., 1646, 1647, 1649]),\n",
              " array([1569, 1570, 1571, ..., 3257, 3264, 3272]),\n",
              " array([3147, 3149, 3150, ..., 4937, 4943, 4952]),\n",
              " array([4709, 4711, 4712, ..., 6553, 6555, 6560]),\n",
              " array([6290, 6292, 6293, ..., 8195, 8197, 8198]),\n",
              " array([7860, 7861, 7864, ..., 9717, 9723, 9729]),\n",
              " array([ 9468,  9469,  9470, ..., 11199, 11204, 11209]),\n",
              " array([11087, 11088, 11093, ..., 12733, 12734, 12735]),\n",
              " array([12666, 12669, 12671, ..., 14315, 14318, 14319]),\n",
              " array([14237, 14238, 14248, ..., 15890, 15896, 15898]),\n",
              " array([15886, 15887, 15888, ..., 17481, 17483, 17484]),\n",
              " array([17454, 17457, 17462, ..., 19118, 19123, 19125]),\n",
              " array([19050, 19051, 19052, ..., 20659, 20661, 20662]),\n",
              " array([20631, 20638, 20651, ..., 22243, 22244, 22253]),\n",
              " array([22245, 22246, 22247, ..., 23848, 23849, 23850]),\n",
              " array([23765, 23771, 23772, ..., 25422, 25423, 25424]),\n",
              " array([25421, 25425, 25426, ..., 27100, 27102, 27106]),\n",
              " array([26979, 26980, 26981, ..., 28642, 28643, 28644]),\n",
              " array([28586, 28587, 28588, ..., 30188, 30189, 30192]),\n",
              " array([30190, 30191, 30193, ..., 31819, 31820, 31827]),\n",
              " array([31761, 31762, 31764, ..., 33394, 33395, 33396]),\n",
              " array([33289, 33291, 33295, ..., 35015, 35017, 35018]),\n",
              " array([34756, 34757, 34758, ..., 36613, 36614, 36615]),\n",
              " array([36292, 36296, 36297, ..., 38253, 38254, 38257]),\n",
              " array([37767, 37773, 37779, ..., 39841, 39842, 39843]),\n",
              " array([39304, 39308, 39310, ..., 41412, 41413, 41414]),\n",
              " array([40852, 40863, 40873, ..., 42999, 43000, 43001]),\n",
              " array([42551, 42559, 42563, ..., 44559, 44560, 44562]),\n",
              " array([44180, 44181, 44185, ..., 46095, 46096, 46097]),\n",
              " array([45936, 45950, 45952, ..., 47674, 47675, 47676]),\n",
              " array([47578, 47579, 47595, ..., 49266, 49267, 49268]),\n",
              " array([49185, 49188, 49189, ..., 50843, 50844, 50846]),\n",
              " array([50812, 50816, 50817, ..., 52492, 52493, 52494]),\n",
              " array([52402, 52404, 52405, ..., 54172, 54173, 54176]),\n",
              " array([53953, 53954, 53955, ..., 55744, 55746, 55748]),\n",
              " array([55548, 55549, 55550, ..., 57211, 57221, 57224]),\n",
              " array([57171, 57172, 57174, ..., 58814, 58819, 58820]),\n",
              " array([58761, 58762, 58764, ..., 60492, 60493, 60500]),\n",
              " array([60326, 60327, 60329, ..., 62058, 62062, 62069]),\n",
              " array([61906, 61907, 61908, ..., 63687, 63690, 63697]),\n",
              " array([63494, 63495, 63496, ..., 65194, 65197, 65199]),\n",
              " array([65097, 65098, 65101, ..., 66823, 66825, 66827]),\n",
              " array([66682, 66683, 66684, ..., 68385, 68387, 68392]),\n",
              " array([68271, 68272, 68273, ..., 69951, 69955, 69974]),\n",
              " array([69863, 69864, 69865, ..., 71683, 71690, 71696]),\n",
              " array([71421, 71422, 71423, ..., 73076, 73077, 73078]),\n",
              " array([73027, 73034, 73039, ..., 74653, 74654, 74655]),\n",
              " array([74656, 74657, 74658, ..., 76273, 76277, 76279]),\n",
              " array([76232, 76233, 76235, ..., 77884, 77885, 77903]),\n",
              " array([77815, 77817, 77818, ..., 79490, 79499, 79501]),\n",
              " array([79392, 79393, 79394, ..., 81015, 81022, 81027]),\n",
              " array([81004, 81005, 81006, ..., 82663, 82664, 82665]),\n",
              " array([82574, 82576, 82577, ..., 84323, 84324, 84325]),\n",
              " array([84139, 84140, 84141, ..., 85911, 85912, 85913]),\n",
              " array([85732, 85733, 85735, ..., 87471, 87472, 87473]),\n",
              " array([87329, 87331, 87332, ..., 89088, 89097, 89098]),\n",
              " array([88907, 88908, 88909, ..., 90595, 90599, 90600]),\n",
              " array([90510, 90511, 90512, ..., 92129, 92130, 92132]),\n",
              " array([92088, 92092, 92098, ..., 93709, 93710, 93719]),\n",
              " array([93711, 93712, 93713, ..., 95401, 95403, 95410]),\n",
              " array([95260, 95263, 95265, ..., 96910, 96917, 96920]),\n",
              " array([96872, 96874, 96877, ..., 98579, 98584, 98588]),\n",
              " array([ 98447,  98448,  98449, ..., 100163, 100164, 100167]),\n",
              " array([100036, 100039, 100040, ..., 101807, 101808, 101813]),\n",
              " array([101602, 101604, 101605, ..., 103333, 103334, 103341]),\n",
              " array([103216, 103218, 103219, ..., 104830, 104831, 104834]),\n",
              " array([104812, 104813, 104821, ..., 106520, 106521, 106525]),\n",
              " array([106388, 106390, 106391, ..., 108032, 108050, 108052]),\n",
              " array([107986, 107987, 107988, ..., 109699, 109700, 109703]),\n",
              " array([109562, 109563, 109564, ..., 111263, 111267, 111274]),\n",
              " array([111155, 111156, 111158, ..., 113005, 113010, 113015]),\n",
              " array([112704, 112706, 112707, ..., 114620, 114621, 114624]),\n",
              " array([114269, 114271, 114272, ..., 116156, 116163, 116166]),\n",
              " array([115887, 115888, 115889, ..., 117756, 117759, 117760]),\n",
              " array([117455, 117456, 117458, ..., 119339, 119342, 119344]),\n",
              " array([119036, 119037, 119038, ..., 120875, 120882, 120895]),\n",
              " array([120645, 120647, 120649, ..., 122350, 122352, 122355]),\n",
              " array([122269, 122270, 122271, ..., 123955, 123960, 123961]),\n",
              " array([123857, 123858, 123860, ..., 125473, 125475, 125490]),\n",
              " array([125468, 125469, 125470, ..., 127057, 127058, 127059])]"
            ]
          },
          "execution_count": 36,
          "metadata": {},
          "output_type": "execute_result"
        }
      ],
      "source": [
        "fold_idxs"
      ]
    },
    {
      "cell_type": "code",
      "execution_count": null,
      "metadata": {
        "colab": {
          "base_uri": "https://localhost:8080/"
        },
        "id": "VKHAc0E33wYz",
        "outputId": "06d5c77f-3f02-4f6a-bcd4-79eec8b0cdab"
      },
      "outputs": [
        {
          "name": "stdout",
          "output_type": "stream",
          "text": [
            "손글씨\n",
            "<TPT><hand><line><latex>\\frac{x_{1} x}{16}+\\frac{y_{1} y}{4}=1</latex></line>\n",
            "ec0d2b7b-4393-424d-9438-90c20a10a4b0\n",
            "Counter({'손글씨': 1217, '인쇄체': 372})\n"
          ]
        }
      ],
      "source": [
        "fold = 0\n",
        "train_extracted = ds.select(\n",
        "    list(chain(*[x for i, x in enumerate(fold_idxs) if i != fold]))\n",
        ")\n",
        "\n",
        "train_ds = train_extracted.cast_column(\"image_path\", ds_img())\n",
        "train_ds.set_transform(partial(preprocess, processor=processor, CFG=CFG))\n",
        "\n",
        "val_gt_ds = ds.select(fold_idxs[fold])\n",
        "val_ds = val_gt_ds.cast_column(\"image_path\", ds_img())\n",
        "val_ds.set_transform(partial(preprocess, processor=processor, CFG=CFG))\n",
        "\n",
        "gt_material_type = val_gt_ds[\"material_type\"]\n",
        "gt_texts = val_gt_ds['ground_truth']\n",
        "gt_ids = val_gt_ds[\"id\"]\n",
        "\n",
        "i = 0\n",
        "print(gt_material_type[i])\n",
        "print(gt_texts[i])\n",
        "print(gt_ids[i])\n",
        "print(Counter(gt_material_type))"
      ]
    },
    {
      "cell_type": "markdown",
      "metadata": {
        "id": "EXHzRcJD4j95"
      },
      "source": [
        "## `ids` 가 batch 마다 전부 같은 길이를 가지도록 하는 collate function"
      ]
    },
    {
      "cell_type": "code",
      "execution_count": null,
      "metadata": {
        "id": "6y6ip1U14l53"
      },
      "outputs": [],
      "source": [
        "pad_token_id = processor.tokenizer.pad_token_id\n",
        "\n",
        "\n",
        "def collate_fn(samples: List[Dict[str, Union[torch.Tensor, List[int], str]]]) -> Dict[str, Union[torch.Tensor, List[str]]]:\n",
        "    \"\"\"\n",
        "    Custom collate function for DataLoader.\n",
        "\n",
        "    This function takes a list of samples and combines them into a batch with\n",
        "    properly padded input_ids.\n",
        "\n",
        "    Args:\n",
        "        samples (List[Dict[str, Union[torch.Tensor, List[int], str]]]):\n",
        "            A list of samples, where each sample is a dictionary containing\n",
        "            \"pixel_values\" (torch.Tensor), \"input_ids\" (List[int]), and \"id\" (str).\n",
        "\n",
        "    Returns:\n",
        "        Dict[str, Union[torch.Tensor, List[str]]]:\n",
        "            A dictionary containing the combined pixel values, padded input_ids, and ids.\n",
        "    \"\"\"\n",
        "\n",
        "    batch = {}\n",
        "\n",
        "    batch[\"pixel_values\"] = torch.stack([x[\"pixel_values\"] for x in samples])\n",
        "\n",
        "    max_length = max([len(x[\"input_ids\"]) for x in samples])\n",
        "\n",
        "    # Make a multiple of 8 to efficiently use the tensor cores\n",
        "    if max_length % 8 != 0:\n",
        "        max_length = (max_length // 8 + 1) * 8\n",
        "\n",
        "    input_ids = [\n",
        "        x[\"input_ids\"] + [pad_token_id] * (max_length - len(x[\"input_ids\"]))\n",
        "        for x in samples\n",
        "    ]\n",
        "\n",
        "    labels = torch.tensor(input_ids)\n",
        "    labels[labels == pad_token_id] = -100 # ignore loss on padding tokens\n",
        "    batch[\"labels\"] = labels\n",
        "\n",
        "    batch[\"id\"] = [x[\"id\"] for x in samples]\n",
        "\n",
        "    return batch"
      ]
    },
    {
      "cell_type": "markdown",
      "metadata": {
        "id": "gnvmqA2Y4zIP"
      },
      "source": [
        "## Dataloaders\n",
        "\n",
        "- Validation은 generation을 사용하기 때문에 굉장히 느리다.\n",
        "- 따라서 sample의 일부를 적게만 사용한다."
      ]
    },
    {
      "cell_type": "code",
      "execution_count": null,
      "metadata": {
        "colab": {
          "base_uri": "https://localhost:8080/"
        },
        "id": "E0qLokCz41Zl",
        "outputId": "2f62d2c4-0748-477b-aef8-decc8b226d44"
      },
      "outputs": [
        {
          "data": {
            "text/plain": [
              "(dict_keys(['pixel_values', 'labels', 'id']),\n",
              " [('pixel_values', torch.Size([8, 3, 480, 480])),\n",
              "  ('labels', torch.Size([8, 48]))])"
            ]
          },
          "execution_count": 80,
          "metadata": {},
          "output_type": "execute_result"
        }
      ],
      "source": [
        "if CFG.debug:\n",
        "    train_ds = train_ds.select(range(100))\n",
        "    val_ds = val_ds.select(range(100))\n",
        "\n",
        "train_dataloader = DataLoader(\n",
        "    train_ds,\n",
        "    batch_size=CFG.batch_size,\n",
        "    shuffle=True,\n",
        "    collate_fn=collate_fn,\n",
        "    num_workers=CFG.num_workers,\n",
        ")\n",
        "val_dataloader = DataLoader(\n",
        "    val_ds,\n",
        "    batch_size=CFG.batch_size,\n",
        "    shuffle=False,\n",
        "    collate_fn=collate_fn,\n",
        "    num_workers=CFG.num_workers,\n",
        ")\n",
        "\n",
        "num_training_steps = len(train_dataloader) * CFG.epochs // CFG.gpus\n",
        "\n",
        "batch = next(iter(train_dataloader))\n",
        "\n",
        "batch.keys(), [(k, v.shape) for k, v in batch.items() if k != \"id\"]"
      ]
    },
    {
      "cell_type": "code",
      "execution_count": null,
      "metadata": {
        "colab": {
          "base_uri": "https://localhost:8080/",
          "height": 490
        },
        "id": "275ntVj9uXjo",
        "outputId": "53a58daf-0cdc-4886-dd91-719b23288f47"
      },
      "outputs": [
        {
          "name": "stderr",
          "output_type": "stream",
          "text": [
            "WARNING:matplotlib.image:Clipping input data to the valid range for imshow with RGB data ([0..1] for floats or [0..255] for integers).\n"
          ]
        },
        {
          "data": {
            "text/plain": [
              "<matplotlib.image.AxesImage at 0x7ba059576200>"
            ]
          },
          "execution_count": 40,
          "metadata": {},
          "output_type": "execute_result"
        },
        {
          "data": {
            "image/png": "[encoded data removed]",
            "text/plain": [
              "<Figure size 640x480 with 1 Axes>"
            ]
          },
          "metadata": {},
          "output_type": "display_data"
        }
      ],
      "source": [
        "plt.imshow(batch['pixel_values'][0].permute(1,2,0))"
      ]
    },
    {
      "cell_type": "code",
      "execution_count": null,
      "metadata": {
        "colab": {
          "base_uri": "https://localhost:8080/"
        },
        "id": "DlVEEJQ3WwYJ",
        "outputId": "09115fe1-3890-4a80-d7a0-b67dd9a56fa5"
      },
      "outputs": [
        {
          "data": {
            "text/plain": [
              "tensor([57526, 57532, 57527, 42364, 42364, 57528, 57527, 57529, 58092, 42990,\n",
              "        57790,   568, 57530,  1274, 57528, 57527, 27617, 44343,  1035, 42990,\n",
              "        57529, 58092,  9066, 40392, 25544, 38354, 53163, 32650, 32650, 57956,\n",
              "        42990, 42116, 57530, 57528, 57527, 42990, 35815, 57528, 57527, 42990,\n",
              "        35815, 42990, 57529, 58092, 54915,  9026, 46702, 57530, 57528,  -100,\n",
              "         -100,  -100,  -100,  -100,  -100,  -100,  -100,  -100,  -100,  -100,\n",
              "         -100,  -100,  -100,  -100,  -100,  -100,  -100,  -100,  -100,  -100,\n",
              "         -100,  -100,  -100,  -100,  -100,  -100,  -100,  -100,  -100,  -100,\n",
              "         -100,  -100,  -100,  -100,  -100,  -100,  -100,  -100,  -100,  -100,\n",
              "         -100,  -100,  -100,  -100,  -100,  -100,  -100,  -100,  -100,  -100,\n",
              "         -100,  -100,  -100,  -100])"
            ]
          },
          "execution_count": 41,
          "metadata": {},
          "output_type": "execute_result"
        }
      ],
      "source": [
        "batch['labels'][0]"
      ]
    },
    {
      "cell_type": "markdown",
      "metadata": {
        "id": "5fd0G9dd4_Ci"
      },
      "source": [
        "## Metric을 계산하기 위한 function"
      ]
    },
    {
      "cell_type": "code",
      "execution_count": null,
      "metadata": {
        "id": "hLLswKUL4_vd"
      },
      "outputs": [],
      "source": [
        "def rmse(y_true: List[float], y_pred: List[float]) -> float:\n",
        "    \"\"\"\n",
        "    Calculate the Root Mean Square Error (RMSE) between the true and predicted values.\n",
        "\n",
        "    Args:\n",
        "        y_true (List[float]): The true values.\n",
        "        y_pred (List[float]): The predicted values.\n",
        "\n",
        "    Returns:\n",
        "        float: The Root Mean Square Error.\n",
        "    \"\"\"\n",
        "    return np.sqrt(np.mean(np.square(np.subtract(y_true, y_pred))))\n",
        "\n",
        "\n",
        "def sigmoid(x: float) -> float:\n",
        "    \"\"\"\n",
        "    Calculate the sigmoid function for the given value.\n",
        "\n",
        "    Args:\n",
        "        x (float): The input value.\n",
        "\n",
        "    Returns:\n",
        "        float: The result of the sigmoid function.\n",
        "    \"\"\"\n",
        "    return 2 - 2 / (1 + np.exp(-x))\n",
        "\n",
        "\n",
        "def normalized_rmse(y_true: List[float], y_pred: List[float]) -> float:\n",
        "    \"\"\"\n",
        "    Calculate the normalized Root Mean Square Error (RMSE) between the true and predicted values.\n",
        "\n",
        "    Args:\n",
        "        y_true (List[float]): The true values.\n",
        "        y_pred (List[float]): The predicted values.\n",
        "\n",
        "    Returns:\n",
        "        float: The normalized Root Mean Square Error.\n",
        "    \"\"\"\n",
        "    numerator = rmse(y_true, y_pred)\n",
        "    denominator = rmse(y_true, np.mean(y_true))\n",
        "\n",
        "    if denominator == 0:\n",
        "        if numerator == 0:\n",
        "            return 1.0\n",
        "        return 0.0\n",
        "\n",
        "    return sigmoid(numerator / denominator)\n",
        "\n",
        "\n",
        "def normalized_levenshtein_score(y_true: List[str], y_pred: List[str]) -> float:\n",
        "    \"\"\"\n",
        "    Calculate the normalized Levenshtein distance between two lists of strings.\n",
        "\n",
        "    Args:\n",
        "        y_true (List[str]): The true values.\n",
        "        y_pred (List[str]): The predicted values.\n",
        "\n",
        "    Returns:\n",
        "        float: The normalized Levenshtein distance.\n",
        "    \"\"\"\n",
        "    total_distance = np.sum([levenshtein(yt, yp) for yt, yp in zip(y_true, y_pred)])\n",
        "    length_sum = np.sum([len(yt) for yt in y_true])\n",
        "    return sigmoid(total_distance / length_sum)\n",
        "\n",
        "def score_series(\n",
        "    y_true: List[Union[float, str]], y_pred: List[Union[float, str]]\n",
        ") -> float:\n",
        "    \"\"\"\n",
        "    Calculate the score for a series of true and predicted values.\n",
        "\n",
        "    Args:\n",
        "        y_true (List[Union[float, str]]): The true values.\n",
        "        y_pred (List[Union[float, str]]): The predicted values.\n",
        "\n",
        "    Returns:\n",
        "        float: The score for the series.\n",
        "    \"\"\"\n",
        "    if len(y_true) != len(y_pred):\n",
        "        pass\n",
        "        #return 0.0\n",
        "    if isinstance(y_true[0], str):\n",
        "        return f1_score(y_true, y_pred)\n",
        "    else:\n",
        "        # Since this is a generative model, there is a chance it doesn't produce a float.\n",
        "        # In that case, we return 0.0.\n",
        "        try:\n",
        "            return mse(list(map(float, y_true)), list(map(float, y_pred)))\n",
        "            # return normalized_rmse(y_true, list(map(float, y_pred)))\n",
        "        except:\n",
        "            return 0.0\n",
        "\n",
        "\n",
        "def benetech_score(ground_truth: pd.DataFrame, predictions: pd.DataFrame) -> float:\n",
        "    \"\"\"Evaluate predictions using the metric from the Benetech - Making Graphs Accessible.\n",
        "\n",
        "    Parameters\n",
        "    ----------\n",
        "    ground_truth: pd.DataFrame\n",
        "        Has columns `[data_series, chart_type]` and an index `id`. Values in `data_series`\n",
        "        should be either arrays of floats or arrays of strings.\n",
        "\n",
        "    predictions: pd.DataFrame\n",
        "    \"\"\"\n",
        "    if not ground_truth.index.equals(predictions.index):\n",
        "        raise ValueError(\n",
        "            \"Must have exactly one prediction for each ground-truth instance.\"\n",
        "        )\n",
        "    if not ground_truth.columns.equals(predictions.columns):\n",
        "        raise ValueError(f\"Predictions must have columns: {ground_truth.columns}.\")\n",
        "    pairs = zip(\n",
        "        ground_truth.itertuples(index=False), predictions.itertuples(index=False)\n",
        "    )\n",
        "    scores = []\n",
        "    for (gt_series, gt_type), (pred_series, pred_type) in pairs:\n",
        "        # if gt_type != pred_type:  # Check material_type condition\n",
        "        #     scores.append(0.0)\n",
        "        # else:  # Score with RMSE or Levenshtein as appropriate\n",
        "        scores.append(score_series(gt_series, pred_series))\n",
        "\n",
        "    ground_truth[\"score\"] = scores\n",
        "\n",
        "    grouped = ground_truth.groupby(\"material_type\", as_index=False)[\"score\"].mean()\n",
        "\n",
        "    material_type2score = {\n",
        "        material_type: score\n",
        "        for material_type, score in zip(grouped[\"material_type\"], grouped[\"score\"])\n",
        "    }\n",
        "\n",
        "    return np.mean(scores), material_type2score\n",
        "\n",
        "def f1_score(y_true: List[str], y_pred: List[str]) -> float:\n",
        "    \"\"\"\n",
        "    Calculate the F1 score between the true and predicted values.\n",
        "\n",
        "    Args:\n",
        "        y_true (List[str]): The true values.\n",
        "        y_pred (List[str]): The predicted values.\n",
        "\n",
        "    Returns:\n",
        "        float: The F1 score.\n",
        "    \"\"\"\n",
        "    true_set = set(y_true)\n",
        "    pred_set = set(y_pred)\n",
        "    intersection = true_set.intersection(pred_set)\n",
        "    precision = len(intersection) / len(pred_set) if len(pred_set) > 0 else 0.0\n",
        "    recall = len(intersection) / len(true_set) if len(true_set) > 0 else 0.0\n",
        "    f1 = (2 * precision * recall) / (precision + recall) if (precision + recall) > 0 else 0.0\n",
        "    return f1\n",
        "\n",
        "def mse(y_true: List[float], y_pred: List[float]) -> float:\n",
        "    \"\"\"\n",
        "    Calculate the Mean Squared Error (MSE) between the true and predicted values.\n",
        "\n",
        "    Args:\n",
        "        y_true (List[float]): The true values.\n",
        "        y_pred (List[float]): The predicted values.\n",
        "\n",
        "    Returns:\n",
        "        float: The Mean Squared Error.\n",
        "    \"\"\"\n",
        "    return np.mean(np.square(np.subtract(y_true, y_pred)))\n",
        "\n",
        "def string2doublet(pred_string: str) -> Tuple[str, List[str]]:\n",
        "    \"\"\"\n",
        "    Convert a prediction string to a doublet of material type, and text.\n",
        "\n",
        "    Args:\n",
        "        pred_string (str): The prediction string.\n",
        "\n",
        "    Returns:\n",
        "        Tuple[str, List[str]]: A doublet of material type, and text.\n",
        "    \"\"\"\n",
        "\n",
        "    material_type = \"인쇄체\"\n",
        "    for tok in [HAND_TOKEN, PRINT_TOKEN]:\n",
        "        if tok in pred_string:\n",
        "            if tok == HAND_TOKEN:\n",
        "                material_type = '손글씨'\n",
        "            else:\n",
        "                material_type = '인쇄체'\n",
        "\n",
        "    pred_string = re.sub(r\"<one>\", \"1\", pred_string)\n",
        "\n",
        "    text = pred_string\n",
        "\n",
        "    if len(text) == 0:\n",
        "        return material_type, []\n",
        "\n",
        "    return material_type, text\n",
        "\n",
        "\n",
        "def validation_metrics(val_outputs: List[str], val_ids: List[str], gt_df: pd.DataFrame) -> Dict[str, float]:\n",
        "    \"\"\"\n",
        "    Calculate validation metrics for a set of outputs, ids, and ground truth dataframe.\n",
        "\n",
        "    Args:\n",
        "        val_outputs (List[str]): A list of validation outputs.\n",
        "        val_ids (List[str]): A list of validation ids.\n",
        "        gt_df (pd.DataFrame): The ground truth dataframe.\n",
        "\n",
        "    Returns:\n",
        "        Dict[str, float]: A dictionary containing the validation scores.\n",
        "    \"\"\"\n",
        "    pred_doublets = []\n",
        "\n",
        "    for example_output in val_outputs:\n",
        "        pred_doublets.append(string2doublet(example_output))\n",
        "\n",
        "    # Comment[전현욱] : 생각해보니 굳이 material type 별로 점수를 나눌 필요가 있을까 싶다\n",
        "    pred_df = pd.DataFrame(\n",
        "        index=val_ids,\n",
        "        data={\n",
        "            \"text\": [x[1] for x in pred_doublets],\n",
        "            \"material_type\": [x[0] for x in pred_doublets],\n",
        "        },\n",
        "    )\n",
        "\n",
        "    overall_score, material_type2score = benetech_score(\n",
        "        gt_df.loc[pred_df.index.values], pred_df\n",
        "    )\n",
        "\n",
        "    return {\n",
        "        \"val_score\": overall_score,\n",
        "        **{f\"{k}_score\": v for k, v in material_type2score.items()},\n",
        "    }"
      ]
    },
    {
      "cell_type": "markdown",
      "metadata": {
        "id": "vuf2h1xkf9Mv"
      },
      "source": [
        "## Lightning Module"
      ]
    },
    {
      "cell_type": "code",
      "execution_count": null,
      "metadata": {
        "id": "m0wEoUQif9un"
      },
      "outputs": [],
      "source": [
        "import pytorch_lightning as pl\n",
        "import gc\n",
        "from transformers import PreTrainedTokenizerBase, PreTrainedModel\n",
        "\n",
        "class DonutModelPLModule(pl.LightningModule):\n",
        "    def __init__(self, processor: PreTrainedTokenizerBase, model: PreTrainedModel, gt_df: pd.DataFrame, num_training_steps: int):\n",
        "        \"\"\"\n",
        "        A PyTorch Lightning module for the DonutModel.\n",
        "\n",
        "        Args:\n",
        "            processor (PreTrainedTokenizerBase): The tokenizer/processor for the model.\n",
        "            model (PreTrainedModel): The pretrained model.\n",
        "            gt_df (pd.DataFrame): The ground truth dataframe.\n",
        "            num_training_steps (int): The number of training steps.\n",
        "        \"\"\"\n",
        "        super().__init__()\n",
        "        self.processor = processor\n",
        "        self.model = model\n",
        "        self.gt_df = gt_df\n",
        "        self.num_training_steps = num_training_steps\n",
        "\n",
        "    def training_step(self, batch: Dict[str, torch.Tensor], batch_idx: int) -> torch.Tensor:\n",
        "        gc.collect()\n",
        "        torch.cuda.empty_cache()\n",
        "\n",
        "        pixel_values = batch[\"pixel_values\"]\n",
        "        labels = batch[\"labels\"]\n",
        "\n",
        "        outputs = self.model(pixel_values, labels=labels)\n",
        "        loss = outputs.loss\n",
        "        self.log(\"train_loss\", loss)\n",
        "\n",
        "        return loss\n",
        "\n",
        "    def validation_step(self, batch: Dict[str, torch.Tensor], batch_idx: int, dataset_idx: int = 0) -> None:\n",
        "        pixel_values = batch[\"pixel_values\"]\n",
        "        batch_size = pixel_values.shape[0]\n",
        "        # we feed the prompt to the model\n",
        "        decoder_input_ids = torch.full(\n",
        "            (batch_size, 1),\n",
        "            self.model.config.decoder_start_token_id,\n",
        "            device=self.device,\n",
        "        )\n",
        "\n",
        "        outputs = self.model.generate(\n",
        "            pixel_values,\n",
        "            decoder_input_ids=decoder_input_ids,\n",
        "            max_length=CFG.max_length,\n",
        "            early_stopping=True,\n",
        "            pad_token_id=self.processor.tokenizer.pad_token_id,\n",
        "            eos_token_id=self.processor.tokenizer.eos_token_id,\n",
        "            use_cache=True,\n",
        "            num_beams=1,\n",
        "            top_k=1,\n",
        "            bad_words_ids=[[self.processor.tokenizer.unk_token_id]],\n",
        "            return_dict_in_generate=True,\n",
        "        )\n",
        "\n",
        "        self.val_outputs.extend(\n",
        "            self.processor.tokenizer.batch_decode(outputs.sequences)\n",
        "        )\n",
        "        self.val_ids.extend(batch[\"id\"])\n",
        "\n",
        "    def on_validation_start(self) -> None:\n",
        "        gc.collect()\n",
        "        torch.cuda.empty_cache()\n",
        "\n",
        "        self.val_outputs, self.val_ids = [], []\n",
        "\n",
        "    def on_validation_epoch_end(self) -> None:\n",
        "\n",
        "        metrics = validation_metrics(self.val_outputs, self.val_ids, self.gt_df)\n",
        "        print(\"\\n\", metrics)\n",
        "\n",
        "        self.log_dict(metrics)\n",
        "\n",
        "        self.val_outputs, self.val_ids = [], []\n",
        "\n",
        "    def configure_optimizers(self) -> torch.optim.Optimizer:\n",
        "\n",
        "        optimizer = torch.optim.Adam(self.parameters(), lr=CFG.lr)\n",
        "\n",
        "        return optimizer"
      ]
    },
    {
      "cell_type": "markdown",
      "metadata": {
        "id": "_lE6uW3AgDOV"
      },
      "source": [
        "### Model, Ground Truth DataFrame 생성"
      ]
    },
    {
      "cell_type": "code",
      "execution_count": null,
      "metadata": {
        "id": "3zmwSA4_gDiJ"
      },
      "outputs": [],
      "source": [
        "gt_material_type = val_gt_ds[\"material_type\"]\n",
        "gt_texts = val_gt_ds[\"ground_truth\"]\n",
        "gt_ids = val_gt_ds[\"id\"]\n",
        "\n",
        "gt_df = pd.DataFrame(\n",
        "    index=gt_ids,\n",
        "    data={\n",
        "        \"text\": gt_texts,\n",
        "        \"material_type\": gt_material_type,\n",
        "    },\n",
        ")\n",
        "\n",
        "\n",
        "model = VisionEncoderDecoderModel.from_pretrained(\n",
        "    \"naver-clova-ix/donut-base\", config=config\n",
        ")\n",
        "model.decoder.resize_token_embeddings(len(processor.tokenizer))\n",
        "model_module = DonutModelPLModule(processor, model, gt_df, num_training_steps)"
      ]
    },
    {
      "cell_type": "code",
      "execution_count": null,
      "metadata": {
        "id": "BScl_Kmds7HP"
      },
      "outputs": [],
      "source": [
        "# Check if it works\n",
        "outputs = model(batch[\"pixel_values\"], labels=batch[\"labels\"])"
      ]
    },
    {
      "cell_type": "code",
      "execution_count": null,
      "metadata": {
        "colab": {
          "base_uri": "https://localhost:8080/"
        },
        "id": "ap5v-kd9hExa",
        "outputId": "3b36a691-8d41-4970-c784-93e815de326c"
      },
      "outputs": [
        {
          "name": "stderr",
          "output_type": "stream",
          "text": [
            "/usr/local/lib/python3.10/dist-packages/lightning_fabric/connector.py:554: UserWarning: 16 is supported for historical reasons but its usage is discouraged. Please set your precision to 16-mixed instead!\n",
            "  rank_zero_warn(\n",
            "INFO:pytorch_lightning.utilities.rank_zero:Using 16bit Automatic Mixed Precision (AMP)\n",
            "INFO:pytorch_lightning.utilities.rank_zero:GPU available: True (cuda), used: True\n",
            "INFO:pytorch_lightning.utilities.rank_zero:TPU available: False, using: 0 TPU cores\n",
            "INFO:pytorch_lightning.utilities.rank_zero:IPU available: False, using: 0 IPUs\n",
            "INFO:pytorch_lightning.utilities.rank_zero:HPU available: False, using: 0 HPUs\n",
            "INFO:pytorch_lightning.utilities.rank_zero:`Trainer(val_check_interval=1.0)` was configured so validation will run at the end of the training epoch..\n"
          ]
        }
      ],
      "source": [
        "from pytorch_lightning.callbacks import ModelCheckpoint\n",
        "from pytorch_lightning.loggers import WandbLogger\n",
        "\n",
        "checkpoint_cb = ModelCheckpoint(CFG.output_path)\n",
        "\n",
        "loggers = []\n",
        "\n",
        "trainer = pl.Trainer(\n",
        "        accelerator=\"gpu\",\n",
        "        devices=CFG.gpus,\n",
        "        max_epochs=CFG.epochs,\n",
        "        val_check_interval=CFG.val_check_interval,\n",
        "        check_val_every_n_epoch=CFG.check_val_every_n_epoch,\n",
        "        gradient_clip_val=CFG.gradient_clip_val,\n",
        "        precision=16, # if you have tensor cores (t4, v100, a100, etc.) training will be 2x faster\n",
        "        num_sanity_val_steps=5,\n",
        "        callbacks=[checkpoint_cb],\n",
        "        logger=loggers\n",
        ")\n",
        "\n",
        "# trainer.fit(model_module, train_dataloaders=train_dataloader)"
      ]
    },
    {
      "cell_type": "code",
      "execution_count": null,
      "metadata": {
        "id": "wlWMNoTvjnZk"
      },
      "outputs": [],
      "source": [
        "# trainer.validate(model_module, dataloaders=val_dataloader)"
      ]
    },
    {
      "cell_type": "code",
      "execution_count": null,
      "metadata": {
        "colab": {
          "base_uri": "https://localhost:8080/"
        },
        "id": "YUs0HIvyngro",
        "outputId": "56cbda8d-416f-4543-a9b8-ae72c43cc7c0"
      },
      "outputs": [
        {
          "name": "stdout",
          "output_type": "stream",
          "text": [
            "<TPT><hand><line><latex>\\frac {x_{<one>} x}{16}+\\frac {y_{<one>} y}{4}=1</latex></line>\n",
            "<TPT><hand><line> 답 : 점ᄀ, 변ᄂᄀ, 각ᄂᄀ ᄆ</line>\n",
            "<TPT><hand><line><latex> m \\times n=-1</latex></line>\n",
            "<TPT><print><line> 곡선 <latex>\\displaystyle f'(x)=6{x}^{2}+6x+k</latex></line><line><latex>\\displaystyle {x}^{2}=8</latex> <latex>\\displaystyle y={x}^{2}</latex></line><line>또 는 <latex>\\displaystyle \\therefore {(a-b)}^{2}={(a+b)}^{2}-4ab={6}^{2}-4(-2)=44</latex></line><line> 위의 점이므로 <latex>\\displaystyle x</latex></line><line><latex>\\displaystyle (-2,6)</latex> 는</line>\n",
            "<TPT><hand><line><latex>\\overline {\\text {AD}}=3 \\sqrt {7}</latex></line>\n",
            "<TPT><hand><line><latex> 2 a+b+c=-\\frac {15}{2}+\\frac {15}{2}+\\frac {-53}{4}=-\\frac {53}{4}</latex></line>\n",
            "<TPT><hand><line><latex> p=\\frac {4! / 3!}{16}=1 / 4 \\quad x \\sim B(n, 1 / 4)</latex></line>\n",
            "<TPT><print><line><latex>\\displaystyle {(x+\\frac {<one>}{x})}^{3}=_{3}C_{0}{x}^{0}{(\\frac {<one>}{x})}^{3}+_{3}C_{<one>}{x}^{}{(\\frac {<one>}{x})}^{2}+_{3}C_{2}{x}^{2}{(\\frac {<one>}{x})}^{}+_{3}C_{3}{x}^{3}{(\\frac {<one>}{x})}^{0}={x}^{3}+3x+\\frac {3}{x}+\\frac {<one>}{{x}^{3}}</latex> <latex>\\displaystyle _{2}H_{r}=_{7}C_{<one>}</latex></line><line> 구하고자 하는 경우의 수는 서로 다른 <latex> 3개에서 </latex>\\displaystyle 7<latex></line><line> 수는 서로 다른 3개에서</line><line> 개를 택하는 중복조합의 수와 같 으므로 <latex>\\displaystyle 7</latex></line><line><latex>\\displaystyle r</latex> 므로</line>\n",
            "<TPT><hand><line><latex>\\frac {10+\\frac {20}{99}}{1-10. \\frac {20}{99}}=\\frac {\\frac {1010}{99}}{-\\frac {101}{99}}=-10</latex></line>\n",
            "<TPT><hand><line><latex> =10</latex></line>\n",
            "<TPT><hand><line>쉽 게 알 수 있는 것은 꺽은선그래프</line>\n",
            "<TPT><hand><line><latex> f(x)=3 x-1</latex></line>\n",
            "<TPT><print><line><latex>\\displaystyle (3x-3y+4)-A=(3x-3y+4)-(-7x+y+3)=10x-4y+1</latex> <latex>\\displaystyle x-7y</latex></line><line> 두 가게 중 어느 가게에서 구매하는 것이 얼마만큼 더 저렴한지 <latex>\\displaystyle =-3(x+y)+2(x-2y)</latex></line><line><latex>\\displaystyle =10x+4</latex> 지</line><line> 위의 빠르기로 를 각각</line><line> 두 다항식</line>\n",
            "<TPT><hand><line><latex> x^{2}+3 x+5</latex></line>\n",
            "<TPT><hand><line><latex>\\therefore \\sqrt {-a}>2</latex></line>\n",
            "<TPT><hand><line><latex> 2\\left (x^{2}-6 x+9\\right )=x^{2}+12 x-4</latex></line>\n",
            "<TPT><print><line><latex>\\displaystyle {(x-3)}^{2}+{(y-0)}^{2}={r}^{2}</latex> 어야 하므로,</line><line><latex>\\displaystyle (p, -1)</latex> <latex>\\displaystyle 3k-2 = \\frac {25}{9}</latex></line><line><latex>\\displaystyle y = -\\frac {3}{x-k}-2</latex> 라서 제</line><line> 이때 <latex>\\displaystyle x</latex></line><line>, <latex>\\displaystyle y=\\sqrt {ax+b}-1</latex></line>\n",
            "<TPT><hand><line><latex>\\displaystyle f(x)=a x-8</latex> 이므로</line>\n",
            "<TPT><print><line> D <latex>\\displaystyle 10</latex></line><line> 의 수직이등분선 (i)</line><line> OY <latex>\\displaystyle \\angle ECD= \\angle EAD=20 ^{\\circ } </latex></line><line> 은 삼각형</line><line> 이다. 삼각형 <latex>\\displaystyle \\overline {BE} = \\overline {BD}</latex></line>\n",
            "<TPT><hand><line><latex> S=-\\int _{0}^{e-1} \\left \\{ \\ln (x+1)-1\\right \\} d x</latex></line>\n",
            "<TPT><print><line> Ans) 는</line><line> 를 <latex>\\displaystyle \\overrightarrow {c}=-3\\overrightarrow {e_{<one>}}+2\\overrightarrow {e_{2}}</latex></line><line> (1).</line><line> (4) <latex>\\displaystyle 133</latex></line><line> Ans) 117.</line>\n",
            "<TPT><print><line> 첫째항이 일 때, 수열</line><line><latex>\\displaystyle \\sum _{k=11}^{20} (2b_{k}-a_{k})</latex> <latex>\\displaystyle f(1)+f(4)+f(9)+ \\cdots +f(36)=g(1)+g(2)+g(3)+ \\cdots +g(6)=\\sum _{n=1}^{6} g(n)</latex></line><line><latex>\\displaystyle =1(1-\\frac {<one>}{n+1})</latex> 대하여</line><line>, <latex>\\displaystyle f(1)+f(4)+f(9)+ \\cdots +f(49)=g(1)+g(2)+g(3)+ \\cdots +g(7)=\\sum _{n=1}^{7} g(n)</latex></line><line> 수열 일 때,</line>\n",
            "<TPT><print><line> 가속도 : i)</line><line> i) ii)</line><line> or (다)</line><line><latex>\\displaystyle ( -\\frac {<one>}{2},<one> ) </latex>.</line><line><latex>\\displaystyle \\frac {dx}{dt} = \\frac {2t \\cdot t - (1+{t}^{2})}{{t}^{2}}=\\frac {{t}^{2}-1}{{t}^{2}}</latex> i)</line>\n",
            "<TPT><hand><line><latex> =(3-1)! \\times 3!</latex></line>\n",
            "<TPT><hand><line><latex> a_{<one>}=3 \\quad a_{2}=12</latex></line>\n",
            "<TPT><print><line><latex>\\displaystyle ABC</latex> <latex>\\displaystyle r</latex></line><line> 접점의 좌 표가 원을 나타내는 방정식</line><line><latex>\\displaystyle (k+1){x}^{2}+(k+1){y}^{2}+(ka+1)x-4ky-5k+5=0 \\cdots </latex> <latex>\\displaystyle y=mx-6</latex></line><line><latex>\\displaystyle {x}^{2}+{y}^{2}+ax+y-2=0,{x}^{2}+{y}^{2}-x+ay+2=0 </latex> <latex>\\displaystyle \\frac {<one>}{2}\\overline {AB}=\\frac {<one>}{2}\\sqrt {4}</latex></line><line> 원 를 지나는 원의 중심이 직선</line>\n",
            "<TPT><hand><line>왜 냐하면 밑 면의 길이가 같 고 높이가</line>\n",
            "<TPT><hand><line><latex>\\displaystyle f(x) = { \\textit {e} }^{2x+1}</latex> 의 역함수 <latex>\\displaystyle g(x)</latex> 를 구하자.</line>\n",
            "<TPT><hand><line><latex>\\displaystyle 다, \\; \\; \\; 마</latex></line>\n",
            "<TPT><print><line><latex>\\displaystyle a_{n}=2 \\times {(\\frac {<one>}{2})}^{n-1}=\\frac {<one>}{{2}^{n-2}}</latex> <latex>\\displaystyle A</latex></line><line><latex>\\displaystyle p+q=\\frac {5}{4}</latex> 라서</line><line><latex>\\displaystyle \\{ a_{n} \\} </latex> <latex>\\displaystyle \\Rightarrow a_{n+1}=2a_{n+1}-2a_{n}+1</latex></line><line><latex>\\displaystyle a_{<one>}=16 \\times \\frac {15}{16}=15</latex> 열</line><line> 회 시행 후 그릇 에 대하여</line>\n",
            "<TPT><hand><line><latex> B=-6</latex></line><line><latex> =0\\cdot a-6</latex></line>\n",
            "<TPT><hand><line><latex>\\angle A B C=34^{\\circ }</latex></line>\n",
            "<TPT><hand><line><latex>\\displaystyle 48.6 ☆12=(48.6+12) \\div 12</latex></line>\n",
            "<TPT><hand><line><latex>\\sqrt [4]{9}</latex></line>\n",
            "<TPT><hand><line><latex>\\displaystyle \\square =</latex> 어떤 수.</line>\n",
            "<TPT><hand><line><latex> 16=(1-p)^{2}</latex></line>\n",
            "<TPT><hand><line><latex> =\\frac {3}{2}</latex></line>\n",
            "<TPT><print><line> 득점이 없는 무승부 승:</line><line> 두 점 사이의 거리는 인 경우에는 정수</line><line><latex>\\displaystyle -66</latex> 다. 따 라서</line><line> 의 위치가 각각 <latex>\\displaystyle (-1)+{(-1)}^{2}+{(-1)}^{3}+ \\cdots +{(-1)}^{106}</latex></line><line> 보다 크고 사이를 삼등분 하는 점이다. 두 점</line>\n",
            "<TPT><hand><line><latex>\\tan 15=\\frac {4}{8+4 \\sqrt {3}}=2-\\sqrt {3}</latex></line>\n",
            "<TPT><hand><line> 36</line>\n",
            "<TPT><hand><line><latex> -2=\\frac {x}{4} \\quad x=-8</latex></line>\n",
            "<TPT><hand><line><latex> =(b-c) a^{2}+\\left (c^{2}-b^{2}\\right ) a+b^{2} c-b c^{2}</latex></line>\n",
            "<TPT><hand><line><latex>\\displaystyle A</latex> 에서 <latex>\\displaystyle y = x</latex> 에 수선의 발을 내리면</line>\n",
            "<TPT><print><line><latex>\\displaystyle {(x+\\frac {a+1}{4})}^{2}+{(y-1)}^{2}=\\frac {{(a+1)}^{2}+16}{16}</latex> 의 중심이 점</line><line><latex>\\displaystyle B</latex> <latex>\\displaystyle y=x+1</latex></line><line> 위의 점 의 값의 합은</line><line> 축과 만나는 점을 <latex>\\displaystyle 11</latex></line><line><latex>\\displaystyle 14425{y_{<one>}}^{2}+1440y_{<one>}-114=0</latex> <latex>\\displaystyle m</latex></line>\n",
            "<TPT><hand><line><latex> -\\frac {<one>}{a}=\\frac {<one>}{b-10},-b+10=a. \\therefore a+b=10</latex></line>\n",
            "<TPT><hand><line><latex> a_{n+1}=S_{n+1}-S_{n}</latex></line>\n",
            "<TPT><hand><line><latex> 5: 4=(2 x+1):(2 x-1)</latex></line>\n",
            "<TPT><print><line>, 의 값을 구하여라. (단,</line><line> 가장 작은 <latex>\\displaystyle -10</latex></line><line> 부등식 <latex>\\displaystyle \\sqrt {32}</latex></line><line> 을 의 값을 구하여라. (단,</line><line> 일 때, 자연수</line>\n",
            "<TPT><hand><line><latex> 32,28,24,20,16,12</latex>,</line>\n",
            "<TPT><hand><line> Ans. <latex>\\displaystyle \\frac {5}{4.}</latex></line>\n",
            "<TPT><print><line>. 분면을 지나기 위해서는</line><line><latex>\\displaystyle 425</latex> <latex>\\displaystyle =</latex></line><line> (2) <latex>\\displaystyle = p(3) = p_{<one>}+\\frac {2}{8} = \\frac {<one>}{16}+\\frac {4}{16} = \\frac {5}{16}</latex></line><line><latex>\\displaystyle 440.</latex> <latex>\\displaystyle 0</latex></line><line><latex>\\displaystyle P(x) \\; \\frac {3}{10} \\; \\frac {3}{5} \\; \\frac {<one>}{10} \\; 1</latex> 일어날 확률은</line>\n",
            "<TPT><hand><line> 다만, <latex>\\displaystyle X</latex> 도 이차식이기 때문에</line>\n",
            "<TPT><hand><line><latex> 4^{5}</latex></line>\n",
            "<TPT><hand><line><latex>\\alpha ^{3}+\\beta ^{3}=(\\alpha +\\beta )^{3}-3 \\alpha \\beta (\\alpha +\\beta )=-27000-3 x</latex></line>\n",
            "<TPT><print><line> 를 인 직각삼각형</line><line> 에서 피타고라스 정리에 의해 <latex>\\displaystyle a = 24</latex></line><line><latex>\\displaystyle B</latex>,</line><line><latex>\\displaystyle \\triangle ABC=\\frac {<one>}{2} \\times \\overline {AB} \\times \\overline {AC}</latex> <latex>\\displaystyle x+y+z</latex></line><line>, 세로의 길이가 따 라서 직각삼각형</line>\n",
            "<TPT><hand><line> 거리 <latex> =x</latex></line>\n",
            "<TPT><hand><line> 포물선이 되려면</line>\n",
            "<TPT><print><line><latex>\\displaystyle \\overline {DA}=\\overline {DC}</latex> </line><line><latex>\\displaystyle \\angle AEB= \\angle EBC= \\angle EBA=38 ^{\\circ }, \\angle B=76 ^{\\circ } </latex> 대하여</line><line> 의 값을 구하시오. (단, 점 의 교점을 점</line><line><latex>\\displaystyle \\angle OCB= \\angle OBC=26 ^{\\circ }, \\angle OCA= \\angle OAC=34 ^{\\circ } </latex> <latex>\\displaystyle \\angle CBD=180-2 \\times 64=52 ^{\\circ } </latex></line><line> = 삼각형 오른쪽 그림과 같 이</line>\n",
            "<TPT><hand><line><latex> a+b=-9-c \\quad a+c=-9-b</latex></line>\n",
            "<TPT><hand><line> (2) <latex>\\displaystyle \\; p=-\\frac {<one>}{2} \\qquad \\therefore y=\\frac {<one>}{5}x-\\frac {5}{2}</latex></line>\n",
            "<TPT><print><line> 의 그래프를 각각 <latex>\\displaystyle y={5}^{-x}+9</latex></line><line><latex>\\displaystyle f(-a)={3}^{-4(-a)}={3}^{4a}=p</latex> 라서</line><line> 축의 방향으로 <latex>\\displaystyle f(3) \\leq 0</latex></line><line> 최댓값 : 에 대하여</line><line> 에 대하여 <latex>\\displaystyle -1</latex></line>\n",
            "<TPT><hand><line><latex> y=m(x+1)+k</latex></line>\n",
            "<TPT><hand><line><latex> 3 \\cdot 4(-4-a)^{2}=588</latex></line>\n",
            "<TPT><print><line> 을 만족시키는 를</line><line> 에서 ᄀ 을 ᄂ에 대입하여 정리하면</line><line>따 라서 만족하는 자연수 <latex>\\displaystyle x=19</latex></line><line><latex>\\displaystyle -</latex> 값의</line><line> 을 하면 이를 ᄀ 에 대입하면</line>\n",
            "<TPT><hand><line><latex> 24 \\div (4+2) \\times 9-3=33</latex></line>\n",
            "<TPT><hand><line> 그릇 에 담긴 물의 높이가 <latex> x\\text {cm}</latex> 일때, 수면은 한 변의 길이가</line>\n",
            "<TPT><hand><line><latex>\\displaystyle y=\\sqrt {a(x-1)}+4</latex> 이다.</line>\n",
            "<TPT><hand><line><latex>\\frac {n}{3}</latex></line>\n",
            "<TPT><hand><line><latex> a_{<one>}=1</latex></line>\n",
            "<TPT><print><line> 였으므로</line><line> 2),</line><line> 는 제 좌 표의 합)</line><line> 3) 가 이 위의 점이므로</line><line>따 라서 점 <latex>\\displaystyle y=\\frac {a}{x}</latex></line>\n",
            "<TPT><hand><line> 이게 두 점 사이의 거리!</line>\n",
            "<TPT><hand><line><latex>\\ln t=\\frac {<one>}{2}</latex></line>\n",
            "<TPT><print><line> i)의 경우에서 가 부등식의 해가 된다.</line><line><latex>\\displaystyle 2</latex> )</line><line> 즉, 라 할 때,</line><line> 에 대한 이차방정식의 두 근을 <latex>\\displaystyle \\therefore x \\geq \\frac {3}{5}</latex></line><line><latex>\\displaystyle {\\omega }^{8}+{\\omega }^{4}+1</latex> <latex>\\displaystyle -6</latex></line>\n",
            "<TPT><hand><line><latex>\\displaystyle = \\; \\sqrt {19} \\qquad \\qquad \\qquad</latex> Ans) <latex>\\displaystyle \\sqrt {19}</latex></line>\n",
            "<TPT><hand><line><latex> (x-8)(x+2)=0</latex></line>\n",
            "<TPT><hand><line><latex>\\therefore \\frac {38}{5}</latex></line>\n",
            "<TPT><hand><line><latex>\\displaystyle \\angle D B C=a</latex> 라 두고 각을 표시해봅시다!</line>\n",
            "<TPT><print><line><latex>\\displaystyle =64+16m>0</latex> <latex>\\displaystyle y= -2{x}^{2}+12x-3k</latex></line><line><latex>\\displaystyle \\alpha +\\beta,\\alpha \\beta </latex> 므로</line><line> 일 경우 최댓값 주어진 이차함수와</line><line><latex>\\displaystyle y=\\frac {<one>}{2}{x}^{2}-2 x+k</latex> <latex>\\displaystyle 36</latex></line><line> 이므로 <latex>\\displaystyle y=-2{x}^{2}-20x-59</latex></line>\n",
            "<TPT><hand><line> 범위 나눠서 정말 잘 했어요!</line>\n",
            "<TPT><hand><line><latex> a+b=-9-c \\quad a+c=-9-b</latex></line>\n"
          ]
        }
      ],
      "source": [
        "# check gt label\n",
        "for i, batch in enumerate(val_dataloader):\n",
        "  if i == 10:\n",
        "    break\n",
        "  for b in batch['labels']:\n",
        "    tokens = []\n",
        "    for token in b:\n",
        "      if token != -100:\n",
        "        tokens.append(token)\n",
        "    print(processor.decode(tokens))"
      ]
    },
    {
      "cell_type": "markdown",
      "metadata": {
        "id": "KCL3nYBOKtjM"
      },
      "source": [
        "## Test"
      ]
    },
    {
      "cell_type": "code",
      "execution_count": null,
      "metadata": {
        "id": "SREYaSyuLSNw"
      },
      "outputs": [],
      "source": [
        "test_img_paths = glob.glob('/content/kr-img2latex/data/test/images/*')\n",
        "sample_test_img_path = np.random.choice(test_img_paths)\n",
        "sample_test_json_file = sample_test_img_path.replace('images','annotations').replace('.png','.json')"
      ]
    },
    {
      "cell_type": "code",
      "execution_count": null,
      "metadata": {
        "id": "Fqb1QPxeRzPq"
      },
      "outputs": [],
      "source": [
        "# for personal data\n",
        "# sample_test_img_path = '/content/mypic.jpg'"
      ]
    },
    {
      "cell_type": "code",
      "execution_count": null,
      "metadata": {
        "colab": {
          "base_uri": "https://localhost:8080/",
          "height": 497
        },
        "id": "PdVpWw0cKvBs",
        "outputId": "2f0bce04-16e0-453f-fc68-cd7eeb00ee59"
      },
      "outputs": [
        {
          "data": {
            "image/png": "[encoded data removed]",
            "text/plain": [
              "<PIL.Image.Image image mode=RGB size=480x480 at 0x7BA06E639840>"
            ]
          },
          "execution_count": 51,
          "metadata": {},
          "output_type": "execute_result"
        }
      ],
      "source": [
        "sample_test_img = Image.open(sample_test_img_path).convert(\"RGB\").resize((CFG.image_width, CFG.image_height))\n",
        "sample_test_img"
      ]
    },
    {
      "cell_type": "code",
      "execution_count": null,
      "metadata": {
        "colab": {
          "base_uri": "https://localhost:8080/"
        },
        "id": "idHweRbWLjya",
        "outputId": "e93757fd-647e-44f3-ad91-c5d9355afbaf"
      },
      "outputs": [
        {
          "name": "stderr",
          "output_type": "stream",
          "text": [
            "<ipython-input-52-54a5a1fc6274>:2: UserWarning: Creating a tensor from a list of numpy.ndarrays is extremely slow. Please consider converting the list to a single numpy.ndarray with numpy.array() before converting to a tensor. (Triggered internally at ../torch/csrc/utils/tensor_new.cpp:245.)\n",
            "  pixel_values = torch.FloatTensor(pixel_values).to('cuda')\n"
          ]
        }
      ],
      "source": [
        "pixel_values = processor(sample_test_img, random_padding=True).pixel_values\n",
        "pixel_values = torch.FloatTensor(pixel_values).to('cuda')\n",
        "\n",
        "decoder_input_ids = torch.full(\n",
        "            (1, 1),\n",
        "            model.config.decoder_start_token_id,\n",
        "            device='cuda',\n",
        ")\n",
        "\n",
        "model.cuda()\n",
        "\n",
        "outputs = model.generate(\n",
        "            pixel_values,\n",
        "            decoder_input_ids=decoder_input_ids,\n",
        "            max_length=CFG.max_length,\n",
        "            early_stopping=True,\n",
        "            pad_token_id=processor.tokenizer.pad_token_id,\n",
        "            eos_token_id=processor.tokenizer.eos_token_id,\n",
        "            use_cache=True,\n",
        "            num_beams=1,\n",
        "            top_k=1,\n",
        "            bad_words_ids=[[processor.tokenizer.unk_token_id]],\n",
        "            return_dict_in_generate=True,\n",
        ")"
      ]
    },
    {
      "cell_type": "code",
      "execution_count": null,
      "metadata": {
        "colab": {
          "base_uri": "https://localhost:8080/"
        },
        "id": "P2WdlLvsL2JA",
        "outputId": "a2b80c7c-3bf7-4a23-beae-05eadfcf241e"
      },
      "outputs": [
        {
          "data": {
            "text/plain": [
              "['<TPT>。</s>']"
            ]
          },
          "execution_count": 53,
          "metadata": {},
          "output_type": "execute_result"
        }
      ],
      "source": [
        "processor.tokenizer.batch_decode(outputs.sequences)"
      ]
    },
    {
      "cell_type": "code",
      "execution_count": null,
      "metadata": {
        "colab": {
          "base_uri": "https://localhost:8080/",
          "height": 35
        },
        "id": "if1LxezvM0cF",
        "outputId": "736e351e-41db-446a-b75c-b04438d25f88"
      },
      "outputs": [
        {
          "data": {
            "application/vnd.google.colaboratory.intrinsic+json": {
              "type": "string"
            },
            "text/plain": [
              "'<TPT><hand><line><latex>\\\\sin 2m \\\\pi=0, \\\\cos 2m \\\\pi=1</latex></line>'"
            ]
          },
          "execution_count": 54,
          "metadata": {},
          "output_type": "execute_result"
        }
      ],
      "source": [
        "get_gt_string(sample_test_json_file)['ground_truth']"
      ]
    },
    {
      "cell_type": "code",
      "execution_count": null,
      "metadata": {
        "colab": {
          "base_uri": "https://localhost:8080/"
        },
        "id": "iXDsuBHpM92V",
        "outputId": "809caf9f-4791-45ed-cb8f-a138f6c77c69"
      },
      "outputs": [
        {
          "data": {
            "text/plain": [
              "3249.0"
            ]
          },
          "execution_count": 55,
          "metadata": {},
          "output_type": "execute_result"
        }
      ],
      "source": [
        "mse_score(processor.tokenizer.batch_decode(outputs.sequences),\n",
        "                             [get_gt_string(sample_test_json_file)['ground_truth']])"
      ]
    },
    {
      "cell_type": "markdown",
      "metadata": {
        "id": "-mfrl5cfnvOm"
      },
      "source": [
        "## Save Model"
      ]
    },
    {
      "cell_type": "code",
      "execution_count": null,
      "metadata": {
        "id": "ZQW6Z9_Qn0Hh"
      },
      "outputs": [],
      "source": [
        "model_module.model.save_pretrained('/content/drive/MyDrive/programmers/Team_caffeine_holic/05.Model/Main/epoch-2, batch-4, img_size-504, max_length-504/Donut-mathOCR-model')\n",
        "model_module.processor.save_pretrained('/content/drive/MyDrive/programmers/Team_caffeine_holic/05.Model/Main/epoch-2, batch-4, img_size-504, max_length-504/Donut-mathOCR-processor')\n",
        "config.save_pretrained('/content/drive/MyDrive/programmers/Team_caffeine_holic/05.Model/Main/epoch-2, batch-4, img_size-504, max_length-504/Donut-mathOCR-config')"
      ]
    },
    {
      "cell_type": "markdown",
      "metadata": {
        "id": "ksRV2argp22-"
      },
      "source": [
        "## Load Model"
      ]
    },
    {
      "cell_type": "code",
      "execution_count": null,
      "metadata": {
        "id": "zkgnjak8p5cS"
      },
      "outputs": [],
      "source": [
        "new_config = VisionEncoderDecoderConfig.from_pretrained(\"/content/drive/MyDrive/programmers/Team_caffeine_holic/05.Model/Main/epoch-2, batch-4, img_size-504, max_length-504/Donut-mathOCR-config\")\n",
        "new_processor = DonutProcessor.from_pretrained(\"/content/drive/MyDrive/programmers/Team_caffeine_holic/05.Model/Main/epoch-2, batch-4, img_size-504, max_length-504/Donut-mathOCR-processor\")\n",
        "new_model =  VisionEncoderDecoderModel.from_pretrained(\n",
        "    \"/content/drive/MyDrive/programmers/Team_caffeine_holic/05.Model/Main/epoch-2, batch-4, img_size-504, max_length-504/Donut-mathOCR-model\", config=new_config\n",
        ")"
      ]
    },
    {
      "cell_type": "code",
      "execution_count": null,
      "metadata": {
        "colab": {
          "base_uri": "https://localhost:8080/"
        },
        "id": "gonfUUxeq1r0",
        "outputId": "db3b4a17-ec20-493c-aa24-7eb47f9f0294"
      },
      "outputs": [
        {
          "data": {
            "text/plain": [
              "VisionEncoderDecoderModel(\n",
              "  (encoder): DonutSwinModel(\n",
              "    (embeddings): DonutSwinEmbeddings(\n",
              "      (patch_embeddings): DonutSwinPatchEmbeddings(\n",
              "        (projection): Conv2d(3, 128, kernel_size=(4, 4), stride=(4, 4))\n",
              "      )\n",
              "      (norm): LayerNorm((128,), eps=1e-05, elementwise_affine=True)\n",
              "      (dropout): Dropout(p=0.0, inplace=False)\n",
              "    )\n",
              "    (encoder): DonutSwinEncoder(\n",
              "      (layers): ModuleList(\n",
              "        (0): DonutSwinStage(\n",
              "          (blocks): ModuleList(\n",
              "            (0-1): 2 x DonutSwinLayer(\n",
              "              (layernorm_before): LayerNorm((128,), eps=1e-05, elementwise_affine=True)\n",
              "              (attention): DonutSwinAttention(\n",
              "                (self): DonutSwinSelfAttention(\n",
              "                  (query): Linear(in_features=128, out_features=128, bias=True)\n",
              "                  (key): Linear(in_features=128, out_features=128, bias=True)\n",
              "                  (value): Linear(in_features=128, out_features=128, bias=True)\n",
              "                  (dropout): Dropout(p=0.0, inplace=False)\n",
              "                )\n",
              "                (output): DonutSwinSelfOutput(\n",
              "                  (dense): Linear(in_features=128, out_features=128, bias=True)\n",
              "                  (dropout): Dropout(p=0.0, inplace=False)\n",
              "                )\n",
              "              )\n",
              "              (drop_path): DonutSwinDropPath(p=0.1)\n",
              "              (layernorm_after): LayerNorm((128,), eps=1e-05, elementwise_affine=True)\n",
              "              (intermediate): DonutSwinIntermediate(\n",
              "                (dense): Linear(in_features=128, out_features=512, bias=True)\n",
              "                (intermediate_act_fn): GELUActivation()\n",
              "              )\n",
              "              (output): DonutSwinOutput(\n",
              "                (dense): Linear(in_features=512, out_features=128, bias=True)\n",
              "                (dropout): Dropout(p=0.0, inplace=False)\n",
              "              )\n",
              "            )\n",
              "          )\n",
              "          (downsample): DonutSwinPatchMerging(\n",
              "            (reduction): Linear(in_features=512, out_features=256, bias=False)\n",
              "            (norm): LayerNorm((512,), eps=1e-05, elementwise_affine=True)\n",
              "          )\n",
              "        )\n",
              "        (1): DonutSwinStage(\n",
              "          (blocks): ModuleList(\n",
              "            (0-1): 2 x DonutSwinLayer(\n",
              "              (layernorm_before): LayerNorm((256,), eps=1e-05, elementwise_affine=True)\n",
              "              (attention): DonutSwinAttention(\n",
              "                (self): DonutSwinSelfAttention(\n",
              "                  (query): Linear(in_features=256, out_features=256, bias=True)\n",
              "                  (key): Linear(in_features=256, out_features=256, bias=True)\n",
              "                  (value): Linear(in_features=256, out_features=256, bias=True)\n",
              "                  (dropout): Dropout(p=0.0, inplace=False)\n",
              "                )\n",
              "                (output): DonutSwinSelfOutput(\n",
              "                  (dense): Linear(in_features=256, out_features=256, bias=True)\n",
              "                  (dropout): Dropout(p=0.0, inplace=False)\n",
              "                )\n",
              "              )\n",
              "              (drop_path): DonutSwinDropPath(p=0.1)\n",
              "              (layernorm_after): LayerNorm((256,), eps=1e-05, elementwise_affine=True)\n",
              "              (intermediate): DonutSwinIntermediate(\n",
              "                (dense): Linear(in_features=256, out_features=1024, bias=True)\n",
              "                (intermediate_act_fn): GELUActivation()\n",
              "              )\n",
              "              (output): DonutSwinOutput(\n",
              "                (dense): Linear(in_features=1024, out_features=256, bias=True)\n",
              "                (dropout): Dropout(p=0.0, inplace=False)\n",
              "              )\n",
              "            )\n",
              "          )\n",
              "          (downsample): DonutSwinPatchMerging(\n",
              "            (reduction): Linear(in_features=1024, out_features=512, bias=False)\n",
              "            (norm): LayerNorm((1024,), eps=1e-05, elementwise_affine=True)\n",
              "          )\n",
              "        )\n",
              "        (2): DonutSwinStage(\n",
              "          (blocks): ModuleList(\n",
              "            (0-13): 14 x DonutSwinLayer(\n",
              "              (layernorm_before): LayerNorm((512,), eps=1e-05, elementwise_affine=True)\n",
              "              (attention): DonutSwinAttention(\n",
              "                (self): DonutSwinSelfAttention(\n",
              "                  (query): Linear(in_features=512, out_features=512, bias=True)\n",
              "                  (key): Linear(in_features=512, out_features=512, bias=True)\n",
              "                  (value): Linear(in_features=512, out_features=512, bias=True)\n",
              "                  (dropout): Dropout(p=0.0, inplace=False)\n",
              "                )\n",
              "                (output): DonutSwinSelfOutput(\n",
              "                  (dense): Linear(in_features=512, out_features=512, bias=True)\n",
              "                  (dropout): Dropout(p=0.0, inplace=False)\n",
              "                )\n",
              "              )\n",
              "              (drop_path): DonutSwinDropPath(p=0.1)\n",
              "              (layernorm_after): LayerNorm((512,), eps=1e-05, elementwise_affine=True)\n",
              "              (intermediate): DonutSwinIntermediate(\n",
              "                (dense): Linear(in_features=512, out_features=2048, bias=True)\n",
              "                (intermediate_act_fn): GELUActivation()\n",
              "              )\n",
              "              (output): DonutSwinOutput(\n",
              "                (dense): Linear(in_features=2048, out_features=512, bias=True)\n",
              "                (dropout): Dropout(p=0.0, inplace=False)\n",
              "              )\n",
              "            )\n",
              "          )\n",
              "          (downsample): DonutSwinPatchMerging(\n",
              "            (reduction): Linear(in_features=2048, out_features=1024, bias=False)\n",
              "            (norm): LayerNorm((2048,), eps=1e-05, elementwise_affine=True)\n",
              "          )\n",
              "        )\n",
              "        (3): DonutSwinStage(\n",
              "          (blocks): ModuleList(\n",
              "            (0-1): 2 x DonutSwinLayer(\n",
              "              (layernorm_before): LayerNorm((1024,), eps=1e-05, elementwise_affine=True)\n",
              "              (attention): DonutSwinAttention(\n",
              "                (self): DonutSwinSelfAttention(\n",
              "                  (query): Linear(in_features=1024, out_features=1024, bias=True)\n",
              "                  (key): Linear(in_features=1024, out_features=1024, bias=True)\n",
              "                  (value): Linear(in_features=1024, out_features=1024, bias=True)\n",
              "                  (dropout): Dropout(p=0.0, inplace=False)\n",
              "                )\n",
              "                (output): DonutSwinSelfOutput(\n",
              "                  (dense): Linear(in_features=1024, out_features=1024, bias=True)\n",
              "                  (dropout): Dropout(p=0.0, inplace=False)\n",
              "                )\n",
              "              )\n",
              "              (drop_path): DonutSwinDropPath(p=0.1)\n",
              "              (layernorm_after): LayerNorm((1024,), eps=1e-05, elementwise_affine=True)\n",
              "              (intermediate): DonutSwinIntermediate(\n",
              "                (dense): Linear(in_features=1024, out_features=4096, bias=True)\n",
              "                (intermediate_act_fn): GELUActivation()\n",
              "              )\n",
              "              (output): DonutSwinOutput(\n",
              "                (dense): Linear(in_features=4096, out_features=1024, bias=True)\n",
              "                (dropout): Dropout(p=0.0, inplace=False)\n",
              "              )\n",
              "            )\n",
              "          )\n",
              "        )\n",
              "      )\n",
              "    )\n",
              "    (pooler): AdaptiveAvgPool1d(output_size=1)\n",
              "  )\n",
              "  (decoder): MBartForCausalLM(\n",
              "    (model): MBartDecoderWrapper(\n",
              "      (decoder): MBartDecoder(\n",
              "        (embed_tokens): Embedding(60014, 1024, padding_idx=1)\n",
              "        (embed_positions): MBartLearnedPositionalEmbedding(1538, 1024)\n",
              "        (layers): ModuleList(\n",
              "          (0-3): 4 x MBartDecoderLayer(\n",
              "            (self_attn): MBartAttention(\n",
              "              (k_proj): Linear(in_features=1024, out_features=1024, bias=True)\n",
              "              (v_proj): Linear(in_features=1024, out_features=1024, bias=True)\n",
              "              (q_proj): Linear(in_features=1024, out_features=1024, bias=True)\n",
              "              (out_proj): Linear(in_features=1024, out_features=1024, bias=True)\n",
              "            )\n",
              "            (activation_fn): GELUActivation()\n",
              "            (self_attn_layer_norm): LayerNorm((1024,), eps=1e-05, elementwise_affine=True)\n",
              "            (encoder_attn): MBartAttention(\n",
              "              (k_proj): Linear(in_features=1024, out_features=1024, bias=True)\n",
              "              (v_proj): Linear(in_features=1024, out_features=1024, bias=True)\n",
              "              (q_proj): Linear(in_features=1024, out_features=1024, bias=True)\n",
              "              (out_proj): Linear(in_features=1024, out_features=1024, bias=True)\n",
              "            )\n",
              "            (encoder_attn_layer_norm): LayerNorm((1024,), eps=1e-05, elementwise_affine=True)\n",
              "            (fc1): Linear(in_features=1024, out_features=4096, bias=True)\n",
              "            (fc2): Linear(in_features=4096, out_features=1024, bias=True)\n",
              "            (final_layer_norm): LayerNorm((1024,), eps=1e-05, elementwise_affine=True)\n",
              "          )\n",
              "        )\n",
              "        (layernorm_embedding): LayerNorm((1024,), eps=1e-05, elementwise_affine=True)\n",
              "        (layer_norm): LayerNorm((1024,), eps=1e-05, elementwise_affine=True)\n",
              "      )\n",
              "    )\n",
              "    (lm_head): Linear(in_features=1024, out_features=60014, bias=False)\n",
              "  )\n",
              ")"
            ]
          },
          "execution_count": 57,
          "metadata": {},
          "output_type": "execute_result"
        }
      ],
      "source": [
        "new_model.cuda()"
      ]
    },
    {
      "cell_type": "code",
      "execution_count": null,
      "metadata": {
        "id": "42A17aP5q9M0"
      },
      "outputs": [],
      "source": [
        "new_model_module = DonutModelPLModule(new_processor, new_model, gt_df, num_training_steps)"
      ]
    },
    {
      "cell_type": "code",
      "execution_count": null,
      "metadata": {
        "colab": {
          "base_uri": "https://localhost:8080/"
        },
        "id": "3VOdQYfTu9og",
        "outputId": "63c2e1b7-5fb9-4001-9805-98f35488a5c7"
      },
      "outputs": [
        {
          "name": "stderr",
          "output_type": "stream",
          "text": [
            "INFO:pytorch_lightning.utilities.rank_zero:Using 16bit Automatic Mixed Precision (AMP)\n",
            "INFO:pytorch_lightning.utilities.rank_zero:GPU available: True (cuda), used: True\n",
            "INFO:pytorch_lightning.utilities.rank_zero:TPU available: False, using: 0 TPU cores\n",
            "INFO:pytorch_lightning.utilities.rank_zero:IPU available: False, using: 0 IPUs\n",
            "INFO:pytorch_lightning.utilities.rank_zero:HPU available: False, using: 0 HPUs\n",
            "INFO:pytorch_lightning.utilities.rank_zero:`Trainer(val_check_interval=1.0)` was configured so validation will run at the end of the training epoch..\n"
          ]
        }
      ],
      "source": [
        "new_trainer = pl.Trainer(\n",
        "        accelerator=\"gpu\",\n",
        "        devices=CFG.gpus,\n",
        "        max_epochs=CFG.epochs,\n",
        "        val_check_interval=CFG.val_check_interval,\n",
        "        check_val_every_n_epoch=CFG.check_val_every_n_epoch,\n",
        "        gradient_clip_val=CFG.gradient_clip_val,\n",
        "        precision=16, # if you have tensor cores (t4, v100, a100, etc.) training will be 2x faster\n",
        "        num_sanity_val_steps=5,\n",
        "        callbacks=[checkpoint_cb],\n",
        "        logger=loggers\n",
        ")"
      ]
    },
    {
      "cell_type": "code",
      "execution_count": null,
      "metadata": {
        "colab": {
          "base_uri": "https://localhost:8080/",
          "height": 272,
          "referenced_widgets": [
            "b7245f09962d42b887cdbbf88b726f8d",
            "a8b339a1495842e9b50e86183bc8f228",
            "2b3220b6b3e3476599bdfb1737dd316b",
            "21ca9d4363e749f3a10e5a93f58152d7",
            "3380fb5877dd4f75bcdce2b5946925b9",
            "8c5b785986154eb0b67dc7b2d0d6b6c3",
            "fa9d0a152af642a0b702de2e364756f4",
            "861b962ae9754746abd20d2c83b192f5",
            "44b506ef1ed74a1684cb404694246d44",
            "7a8df2a834de43beac075ffa76823bfb",
            "218a67c5b4134e82958a6c025999bdb7"
          ]
        },
        "id": "OABP848WTLQX",
        "outputId": "edcd82bd-bced-4a67-f4ba-b6a63099416e"
      },
      "outputs": [
        {
          "name": "stderr",
          "output_type": "stream",
          "text": [
            "INFO:pytorch_lightning.accelerators.cuda:LOCAL_RANK: 0 - CUDA_VISIBLE_DEVICES: [0]\n"
          ]
        },
        {
          "data": {
            "application/vnd.jupyter.widget-view+json": {
              "model_id": "b7245f09962d42b887cdbbf88b726f8d",
              "version_major": 2,
              "version_minor": 0
            },
            "text/plain": [
              "Validation: 0it [00:00, ?it/s]"
            ]
          },
          "metadata": {},
          "output_type": "display_data"
        },
        {
          "name": "stdout",
          "output_type": "stream",
          "text": [
            "\n",
            " {'val_score': 0.9422324445910084, '손글씨_score': 0.9264909261226513, '인쇄체_score': 0.9894569999960804}\n"
          ]
        },
        {
          "data": {
            "text/html": [
              "<pre style=\"white-space:pre;overflow-x:auto;line-height:normal;font-family:Menlo,'DejaVu Sans Mono',consolas,'Courier New',monospace\">┏━━━━━━━━━━━━━━━━━━━━━━━━━━━┳━━━━━━━━━━━━━━━━━━━━━━━━━━━┓\n",
              "┃<span style=\"font-weight: bold\">      Validate metric      </span>┃<span style=\"font-weight: bold\">       DataLoader 0        </span>┃\n",
              "┡━━━━━━━━━━━━━━━━━━━━━━━━━━━╇━━━━━━━━━━━━━━━━━━━━━━━━━━━┩\n",
              "│<span style=\"color: #008080; text-decoration-color: #008080\">         val_score         </span>│<span style=\"color: #800080; text-decoration-color: #800080\">    0.9422324445910084     </span>│\n",
              "│<span style=\"color: #008080; text-decoration-color: #008080\">       손글씨_score        </span>│<span style=\"color: #800080; text-decoration-color: #800080\">    0.9264909029006958     </span>│\n",
              "│<span style=\"color: #008080; text-decoration-color: #008080\">       인쇄체_score        </span>│<span style=\"color: #800080; text-decoration-color: #800080\">    0.9894570112228394     </span>│\n",
              "└───────────────────────────┴───────────────────────────┘\n",
              "</pre>\n"
            ],
            "text/plain": [
              "┏━━━━━━━━━━━━━━━━━━━━━━━━━━━┳━━━━━━━━━━━━━━━━━━━━━━━━━━━┓\n",
              "┃\u001b[1m \u001b[0m\u001b[1m     Validate metric     \u001b[0m\u001b[1m \u001b[0m┃\u001b[1m \u001b[0m\u001b[1m      DataLoader 0       \u001b[0m\u001b[1m \u001b[0m┃\n",
              "┡━━━━━━━━━━━━━━━━━━━━━━━━━━━╇━━━━━━━━━━━━━━━━━━━━━━━━━━━┩\n",
              "│\u001b[36m \u001b[0m\u001b[36m        val_score        \u001b[0m\u001b[36m \u001b[0m│\u001b[35m \u001b[0m\u001b[35m   0.9422324445910084    \u001b[0m\u001b[35m \u001b[0m│\n",
              "│\u001b[36m \u001b[0m\u001b[36m      손글씨_score       \u001b[0m\u001b[36m \u001b[0m│\u001b[35m \u001b[0m\u001b[35m   0.9264909029006958    \u001b[0m\u001b[35m \u001b[0m│\n",
              "│\u001b[36m \u001b[0m\u001b[36m      인쇄체_score       \u001b[0m\u001b[36m \u001b[0m│\u001b[35m \u001b[0m\u001b[35m   0.9894570112228394    \u001b[0m\u001b[35m \u001b[0m│\n",
              "└───────────────────────────┴───────────────────────────┘\n"
            ]
          },
          "metadata": {},
          "output_type": "display_data"
        },
        {
          "data": {
            "text/plain": [
              "[{'val_score': 0.9422324445910084,\n",
              "  '손글씨_score': 0.9264909029006958,\n",
              "  '인쇄체_score': 0.9894570112228394}]"
            ]
          },
          "execution_count": 83,
          "metadata": {},
          "output_type": "execute_result"
        }
      ],
      "source": [
        "new_trainer.validate(new_model_module, dataloaders=val_dataloader)"
      ]
    },
    {
      "cell_type": "markdown",
      "metadata": {
        "id": "bKarnCyXTDlI"
      },
      "source": [
        "## For Debug"
      ]
    },
    {
      "cell_type": "code",
      "execution_count": null,
      "metadata": {
        "id": "4qYx4FkGof4o"
      },
      "outputs": [],
      "source": []
    }
  ],
  "metadata": {
    "accelerator": "GPU",
    "colab": {
      "collapsed_sections": [
        "Xf7ClMmse-Ik"
      ],
      "machine_shape": "hm",
      "provenance": [],
      "toc_visible": true
    },
    "kernelspec": {
      "display_name": "Python 3",
      "name": "python3"
    },
    "language_info": {
      "name": "python"
    },
    "widgets": {
      "application/vnd.jupyter.widget-state+json": {
        "218a67c5b4134e82958a6c025999bdb7": {
          "model_module": "@jupyter-widgets/controls",
          "model_module_version": "1.5.0",
          "model_name": "DescriptionStyleModel",
          "state": {
            "_model_module": "@jupyter-widgets/controls",
            "_model_module_version": "1.5.0",
            "_model_name": "DescriptionStyleModel",
            "_view_count": null,
            "_view_module": "@jupyter-widgets/base",
            "_view_module_version": "1.2.0",
            "_view_name": "StyleView",
            "description_width": ""
          }
        },
        "21ca9d4363e749f3a10e5a93f58152d7": {
          "model_module": "@jupyter-widgets/controls",
          "model_module_version": "1.5.0",
          "model_name": "HTMLModel",
          "state": {
            "_dom_classes": [],
            "_model_module": "@jupyter-widgets/controls",
            "_model_module_version": "1.5.0",
            "_model_name": "HTMLModel",
            "_view_count": null,
            "_view_module": "@jupyter-widgets/controls",
            "_view_module_version": "1.5.0",
            "_view_name": "HTMLView",
            "description": "",
            "description_tooltip": null,
            "layout": "IPY_MODEL_7a8df2a834de43beac075ffa76823bfb",
            "placeholder": "​",
            "style": "IPY_MODEL_218a67c5b4134e82958a6c025999bdb7",
            "value": " 0/? [00:40&lt;?, ?it/s]"
          }
        },
        "2b3220b6b3e3476599bdfb1737dd316b": {
          "model_module": "@jupyter-widgets/controls",
          "model_module_version": "1.5.0",
          "model_name": "FloatProgressModel",
          "state": {
            "_dom_classes": [],
            "_model_module": "@jupyter-widgets/controls",
            "_model_module_version": "1.5.0",
            "_model_name": "FloatProgressModel",
            "_view_count": null,
            "_view_module": "@jupyter-widgets/controls",
            "_view_module_version": "1.5.0",
            "_view_name": "ProgressView",
            "bar_style": "success",
            "description": "",
            "description_tooltip": null,
            "layout": "IPY_MODEL_861b962ae9754746abd20d2c83b192f5",
            "max": 1,
            "min": 0,
            "orientation": "horizontal",
            "style": "IPY_MODEL_44b506ef1ed74a1684cb404694246d44",
            "value": 0
          }
        },
        "3380fb5877dd4f75bcdce2b5946925b9": {
          "model_module": "@jupyter-widgets/base",
          "model_module_version": "1.2.0",
          "model_name": "LayoutModel",
          "state": {
            "_model_module": "@jupyter-widgets/base",
            "_model_module_version": "1.2.0",
            "_model_name": "LayoutModel",
            "_view_count": null,
            "_view_module": "@jupyter-widgets/base",
            "_view_module_version": "1.2.0",
            "_view_name": "LayoutView",
            "align_content": null,
            "align_items": null,
            "align_self": null,
            "border": null,
            "bottom": null,
            "display": "inline-flex",
            "flex": null,
            "flex_flow": "row wrap",
            "grid_area": null,
            "grid_auto_columns": null,
            "grid_auto_flow": null,
            "grid_auto_rows": null,
            "grid_column": null,
            "grid_gap": null,
            "grid_row": null,
            "grid_template_areas": null,
            "grid_template_columns": null,
            "grid_template_rows": null,
            "height": null,
            "justify_content": null,
            "justify_items": null,
            "left": null,
            "margin": null,
            "max_height": null,
            "max_width": null,
            "min_height": null,
            "min_width": null,
            "object_fit": null,
            "object_position": null,
            "order": null,
            "overflow": null,
            "overflow_x": null,
            "overflow_y": null,
            "padding": null,
            "right": null,
            "top": null,
            "visibility": null,
            "width": "100%"
          }
        },
        "44b506ef1ed74a1684cb404694246d44": {
          "model_module": "@jupyter-widgets/controls",
          "model_module_version": "1.5.0",
          "model_name": "ProgressStyleModel",
          "state": {
            "_model_module": "@jupyter-widgets/controls",
            "_model_module_version": "1.5.0",
            "_model_name": "ProgressStyleModel",
            "_view_count": null,
            "_view_module": "@jupyter-widgets/base",
            "_view_module_version": "1.2.0",
            "_view_name": "StyleView",
            "bar_color": null,
            "description_width": ""
          }
        },
        "7a8df2a834de43beac075ffa76823bfb": {
          "model_module": "@jupyter-widgets/base",
          "model_module_version": "1.2.0",
          "model_name": "LayoutModel",
          "state": {
            "_model_module": "@jupyter-widgets/base",
            "_model_module_version": "1.2.0",
            "_model_name": "LayoutModel",
            "_view_count": null,
            "_view_module": "@jupyter-widgets/base",
            "_view_module_version": "1.2.0",
            "_view_name": "LayoutView",
            "align_content": null,
            "align_items": null,
            "align_self": null,
            "border": null,
            "bottom": null,
            "display": null,
            "flex": null,
            "flex_flow": null,
            "grid_area": null,
            "grid_auto_columns": null,
            "grid_auto_flow": null,
            "grid_auto_rows": null,
            "grid_column": null,
            "grid_gap": null,
            "grid_row": null,
            "grid_template_areas": null,
            "grid_template_columns": null,
            "grid_template_rows": null,
            "height": null,
            "justify_content": null,
            "justify_items": null,
            "left": null,
            "margin": null,
            "max_height": null,
            "max_width": null,
            "min_height": null,
            "min_width": null,
            "object_fit": null,
            "object_position": null,
            "order": null,
            "overflow": null,
            "overflow_x": null,
            "overflow_y": null,
            "padding": null,
            "right": null,
            "top": null,
            "visibility": null,
            "width": null
          }
        },
        "861b962ae9754746abd20d2c83b192f5": {
          "model_module": "@jupyter-widgets/base",
          "model_module_version": "1.2.0",
          "model_name": "LayoutModel",
          "state": {
            "_model_module": "@jupyter-widgets/base",
            "_model_module_version": "1.2.0",
            "_model_name": "LayoutModel",
            "_view_count": null,
            "_view_module": "@jupyter-widgets/base",
            "_view_module_version": "1.2.0",
            "_view_name": "LayoutView",
            "align_content": null,
            "align_items": null,
            "align_self": null,
            "border": null,
            "bottom": null,
            "display": null,
            "flex": "2",
            "flex_flow": null,
            "grid_area": null,
            "grid_auto_columns": null,
            "grid_auto_flow": null,
            "grid_auto_rows": null,
            "grid_column": null,
            "grid_gap": null,
            "grid_row": null,
            "grid_template_areas": null,
            "grid_template_columns": null,
            "grid_template_rows": null,
            "height": null,
            "justify_content": null,
            "justify_items": null,
            "left": null,
            "margin": null,
            "max_height": null,
            "max_width": null,
            "min_height": null,
            "min_width": null,
            "object_fit": null,
            "object_position": null,
            "order": null,
            "overflow": null,
            "overflow_x": null,
            "overflow_y": null,
            "padding": null,
            "right": null,
            "top": null,
            "visibility": null,
            "width": null
          }
        },
        "8c5b785986154eb0b67dc7b2d0d6b6c3": {
          "model_module": "@jupyter-widgets/base",
          "model_module_version": "1.2.0",
          "model_name": "LayoutModel",
          "state": {
            "_model_module": "@jupyter-widgets/base",
            "_model_module_version": "1.2.0",
            "_model_name": "LayoutModel",
            "_view_count": null,
            "_view_module": "@jupyter-widgets/base",
            "_view_module_version": "1.2.0",
            "_view_name": "LayoutView",
            "align_content": null,
            "align_items": null,
            "align_self": null,
            "border": null,
            "bottom": null,
            "display": null,
            "flex": null,
            "flex_flow": null,
            "grid_area": null,
            "grid_auto_columns": null,
            "grid_auto_flow": null,
            "grid_auto_rows": null,
            "grid_column": null,
            "grid_gap": null,
            "grid_row": null,
            "grid_template_areas": null,
            "grid_template_columns": null,
            "grid_template_rows": null,
            "height": null,
            "justify_content": null,
            "justify_items": null,
            "left": null,
            "margin": null,
            "max_height": null,
            "max_width": null,
            "min_height": null,
            "min_width": null,
            "object_fit": null,
            "object_position": null,
            "order": null,
            "overflow": null,
            "overflow_x": null,
            "overflow_y": null,
            "padding": null,
            "right": null,
            "top": null,
            "visibility": null,
            "width": null
          }
        },
        "a8b339a1495842e9b50e86183bc8f228": {
          "model_module": "@jupyter-widgets/controls",
          "model_module_version": "1.5.0",
          "model_name": "HTMLModel",
          "state": {
            "_dom_classes": [],
            "_model_module": "@jupyter-widgets/controls",
            "_model_module_version": "1.5.0",
            "_model_name": "HTMLModel",
            "_view_count": null,
            "_view_module": "@jupyter-widgets/controls",
            "_view_module_version": "1.5.0",
            "_view_name": "HTMLView",
            "description": "",
            "description_tooltip": null,
            "layout": "IPY_MODEL_8c5b785986154eb0b67dc7b2d0d6b6c3",
            "placeholder": "​",
            "style": "IPY_MODEL_fa9d0a152af642a0b702de2e364756f4",
            "value": "Validation: "
          }
        },
        "b7245f09962d42b887cdbbf88b726f8d": {
          "model_module": "@jupyter-widgets/controls",
          "model_module_version": "1.5.0",
          "model_name": "HBoxModel",
          "state": {
            "_dom_classes": [],
            "_model_module": "@jupyter-widgets/controls",
            "_model_module_version": "1.5.0",
            "_model_name": "HBoxModel",
            "_view_count": null,
            "_view_module": "@jupyter-widgets/controls",
            "_view_module_version": "1.5.0",
            "_view_name": "HBoxView",
            "box_style": "",
            "children": [
              "IPY_MODEL_a8b339a1495842e9b50e86183bc8f228",
              "IPY_MODEL_2b3220b6b3e3476599bdfb1737dd316b",
              "IPY_MODEL_21ca9d4363e749f3a10e5a93f58152d7"
            ],
            "layout": "IPY_MODEL_3380fb5877dd4f75bcdce2b5946925b9"
          }
        },
        "fa9d0a152af642a0b702de2e364756f4": {
          "model_module": "@jupyter-widgets/controls",
          "model_module_version": "1.5.0",
          "model_name": "DescriptionStyleModel",
          "state": {
            "_model_module": "@jupyter-widgets/controls",
            "_model_module_version": "1.5.0",
            "_model_name": "DescriptionStyleModel",
            "_view_count": null,
            "_view_module": "@jupyter-widgets/base",
            "_view_module_version": "1.2.0",
            "_view_name": "StyleView",
            "description_width": ""
          }
        }
      }
    }
  },
  "nbformat": 4,
  "nbformat_minor": 0
}
